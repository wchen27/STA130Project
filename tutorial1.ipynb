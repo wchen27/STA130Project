{
 "cells": [
  {
   "cell_type": "markdown",
   "metadata": {},
   "source": [
    "# STA130 Course Project Tutorial Assignment 1\n",
    "### Enkhzaya, Tamako, Wilson, Chenjun"
   ]
  },
  {
   "cell_type": "code",
   "execution_count": 45,
   "metadata": {},
   "outputs": [],
   "source": [
    "import pandas as pd\n",
    "df_indicators = pd.read_csv('country_indicators.csv')"
   ]
  },
  {
   "cell_type": "code",
   "execution_count": 46,
   "metadata": {},
   "outputs": [],
   "source": [
    "df_preds = pd.read_csv('test_predictions.csv')"
   ]
  },
  {
   "cell_type": "code",
   "execution_count": 47,
   "metadata": {},
   "outputs": [],
   "source": [
    "df = df_preds.merge(df_indicators, left_on='iso3', right_on='iso3', how='inner')"
   ]
  },
  {
   "cell_type": "code",
   "execution_count": 48,
   "metadata": {},
   "outputs": [
    {
     "data": {
      "text/html": [
       "<style type=\"text/css\">\n",
       "#T_7abf5_row0_col2 {\n",
       "  background-color: #cbe4cb;\n",
       "  color: #000000;\n",
       "}\n",
       "#T_7abf5_row1_col2 {\n",
       "  background-color: #ebf3eb;\n",
       "  color: #000000;\n",
       "}\n",
       "#T_7abf5_row2_col2 {\n",
       "  background-color: #acd4ac;\n",
       "  color: #000000;\n",
       "}\n",
       "#T_7abf5_row3_col2 {\n",
       "  background-color: #108810;\n",
       "  color: #f1f1f1;\n",
       "}\n",
       "#T_7abf5_row4_col2 {\n",
       "  background-color: #46a246;\n",
       "  color: #f1f1f1;\n",
       "}\n",
       "#T_7abf5_row5_col2 {\n",
       "  background-color: #53a953;\n",
       "  color: #f1f1f1;\n",
       "}\n",
       "#T_7abf5_row6_col2, #T_7abf5_row8_col2 {\n",
       "  background-color: #008000;\n",
       "  color: #f1f1f1;\n",
       "}\n",
       "#T_7abf5_row7_col2 {\n",
       "  background-color: #299429;\n",
       "  color: #f1f1f1;\n",
       "}\n",
       "#T_7abf5_row9_col2 {\n",
       "  background-color: #4ba54b;\n",
       "  color: #f1f1f1;\n",
       "}\n",
       "#T_7abf5_row10_col2 {\n",
       "  background-color: #c8e2c8;\n",
       "  color: #000000;\n",
       "}\n",
       "#T_7abf5_row11_col2 {\n",
       "  background-color: #8bc48b;\n",
       "  color: #000000;\n",
       "}\n",
       "</style>\n",
       "<table id=\"T_7abf5\">\n",
       "  <thead>\n",
       "    <tr>\n",
       "      <th id=\"T_7abf5_level0_col0\" class=\"col_heading level0 col0\" >model</th>\n",
       "      <th id=\"T_7abf5_level0_col1\" class=\"col_heading level0 col1\" >fsi_category</th>\n",
       "      <th id=\"T_7abf5_level0_col2\" class=\"col_heading level0 col2\" >accuracy_score</th>\n",
       "    </tr>\n",
       "  </thead>\n",
       "  <tbody>\n",
       "    <tr>\n",
       "      <td id=\"T_7abf5_row0_col0\" class=\"data row0 col0\" >ffnn</td>\n",
       "      <td id=\"T_7abf5_row0_col1\" class=\"data row0 col1\" >Alert</td>\n",
       "      <td id=\"T_7abf5_row0_col2\" class=\"data row0 col2\" >0.386</td>\n",
       "    </tr>\n",
       "    <tr>\n",
       "      <td id=\"T_7abf5_row1_col0\" class=\"data row1 col0\" >xgboost</td>\n",
       "      <td id=\"T_7abf5_row1_col1\" class=\"data row1 col1\" >Alert</td>\n",
       "      <td id=\"T_7abf5_row1_col2\" class=\"data row1 col2\" >0.300</td>\n",
       "    </tr>\n",
       "    <tr>\n",
       "      <td id=\"T_7abf5_row2_col0\" class=\"data row2 col0\" >transformer</td>\n",
       "      <td id=\"T_7abf5_row2_col1\" class=\"data row2 col1\" >Alert</td>\n",
       "      <td id=\"T_7abf5_row2_col2\" class=\"data row2 col2\" >0.471</td>\n",
       "    </tr>\n",
       "    <tr>\n",
       "      <td id=\"T_7abf5_row3_col0\" class=\"data row3 col0\" >ffnn</td>\n",
       "      <td id=\"T_7abf5_row3_col1\" class=\"data row3 col1\" >Stable</td>\n",
       "      <td id=\"T_7abf5_row3_col2\" class=\"data row3 col2\" >0.898</td>\n",
       "    </tr>\n",
       "    <tr>\n",
       "      <td id=\"T_7abf5_row4_col0\" class=\"data row4 col0\" >xgboost</td>\n",
       "      <td id=\"T_7abf5_row4_col1\" class=\"data row4 col1\" >Stable</td>\n",
       "      <td id=\"T_7abf5_row4_col2\" class=\"data row4 col2\" >0.750</td>\n",
       "    </tr>\n",
       "    <tr>\n",
       "      <td id=\"T_7abf5_row5_col0\" class=\"data row5 col0\" >transformer</td>\n",
       "      <td id=\"T_7abf5_row5_col1\" class=\"data row5 col1\" >Stable</td>\n",
       "      <td id=\"T_7abf5_row5_col2\" class=\"data row5 col2\" >0.716</td>\n",
       "    </tr>\n",
       "    <tr>\n",
       "      <td id=\"T_7abf5_row6_col0\" class=\"data row6 col0\" >ffnn</td>\n",
       "      <td id=\"T_7abf5_row6_col1\" class=\"data row6 col1\" >Sustainable</td>\n",
       "      <td id=\"T_7abf5_row6_col2\" class=\"data row6 col2\" >0.943</td>\n",
       "    </tr>\n",
       "    <tr>\n",
       "      <td id=\"T_7abf5_row7_col0\" class=\"data row7 col0\" >xgboost</td>\n",
       "      <td id=\"T_7abf5_row7_col1\" class=\"data row7 col1\" >Sustainable</td>\n",
       "      <td id=\"T_7abf5_row7_col2\" class=\"data row7 col2\" >0.829</td>\n",
       "    </tr>\n",
       "    <tr>\n",
       "      <td id=\"T_7abf5_row8_col0\" class=\"data row8 col0\" >transformer</td>\n",
       "      <td id=\"T_7abf5_row8_col1\" class=\"data row8 col1\" >Sustainable</td>\n",
       "      <td id=\"T_7abf5_row8_col2\" class=\"data row8 col2\" >0.943</td>\n",
       "    </tr>\n",
       "    <tr>\n",
       "      <td id=\"T_7abf5_row9_col0\" class=\"data row9 col0\" >ffnn</td>\n",
       "      <td id=\"T_7abf5_row9_col1\" class=\"data row9 col1\" >Warning</td>\n",
       "      <td id=\"T_7abf5_row9_col2\" class=\"data row9 col2\" >0.737</td>\n",
       "    </tr>\n",
       "    <tr>\n",
       "      <td id=\"T_7abf5_row10_col0\" class=\"data row10 col0\" >xgboost</td>\n",
       "      <td id=\"T_7abf5_row10_col1\" class=\"data row10 col1\" >Warning</td>\n",
       "      <td id=\"T_7abf5_row10_col2\" class=\"data row10 col2\" >0.398</td>\n",
       "    </tr>\n",
       "    <tr>\n",
       "      <td id=\"T_7abf5_row11_col0\" class=\"data row11 col0\" >transformer</td>\n",
       "      <td id=\"T_7abf5_row11_col1\" class=\"data row11 col1\" >Warning</td>\n",
       "      <td id=\"T_7abf5_row11_col2\" class=\"data row11 col2\" >0.561</td>\n",
       "    </tr>\n",
       "  </tbody>\n",
       "</table>\n"
      ],
      "text/plain": [
       "<pandas.io.formats.style.Styler at 0x1799f5e20>"
      ]
     },
     "execution_count": 48,
     "metadata": {},
     "output_type": "execute_result"
    }
   ],
   "source": [
    "import numpy as np\n",
    "from sklearn import metrics\n",
    "import seaborn as sns\n",
    "\n",
    "column_defining_groups = 'fsi_category'\n",
    "# lets group countries by Human Development index category.\n",
    "# could also group by continent, language, bins of under-5 mortality, etc.... any grouping you use or define\n",
    "chosen_metric = 'accuracy_score'\n",
    "# sklearn.metrics has many metrics appropriate for binary classification tasks.\n",
    "# nice explanations here: https://neptune.ai/blog/evaluation-metrics-binary-classification\n",
    "# could also chosose, e.g., 'recall_score' (which is sensitivity; but, 'recall_score' \n",
    "# will alternatively be specificity if `pos_label=False` is added as noted below), \n",
    "# 'auc' (threshold doesn't matter), 'f1_score', 'cohen_kappa_score', etc.\n",
    "metric_function = getattr(metrics, chosen_metric)\n",
    "\n",
    "chosen_metric_for_chosen_groups = list()\n",
    "chosen_metric_back_into_original_data = {'ffnn': pd.Series(index=df.index, dtype=np.float64), \n",
    "                                         'xgboost': pd.Series(index=df.index, dtype=np.float64), \n",
    "                                         'transformer': pd.Series(index=df.index, dtype=np.float64)}\n",
    "    \n",
    "for g, rows in df.groupby(column_defining_groups):\n",
    "    for model in ['ffnn', 'xgboost', 'transformer']:        \n",
    "        chosen_metric_value = metric_function(rows[f\"y_true_{model}\"], rows[f\"y_pred_{model}\"])\n",
    "        # Use the commented version below when using 'recall_score' to make it \"specificity\" \n",
    "        # rather than sensitivity which is what 'recall_score' gives if `pos_label=False` isn't used\n",
    "        #chosen_metric_value = metric_function(rows[f\"y_true_{model}\"], \n",
    "        #                                      rows[f\"y_pred_{model}\"], pos_label=False) # specificity \n",
    "        \n",
    "        chosen_metric_back_into_original_data[model][rows.index] = chosen_metric_value\n",
    "        chosen_metric_for_chosen_groups.append((model, g, chosen_metric_value))\n",
    "\n",
    "cm_bigger_better = sns.light_palette(\"green\", as_cmap=True)\n",
    "# https://pandas.pydata.org/pandas-docs/stable/user_guide/style.html#Styler-Object-and-Customising-the-Display\n",
    "styler = ( pd.DataFrame(chosen_metric_for_chosen_groups, \n",
    "                        columns=('model', column_defining_groups, chosen_metric))\n",
    "            .sort_values(column_defining_groups).style\n",
    "            .background_gradient(cmap=cm_bigger_better)\n",
    "            .format(precision=3).hide(axis=\"index\"))\n",
    "styler"
   ]
  },
  {
   "cell_type": "code",
   "execution_count": 49,
   "metadata": {},
   "outputs": [
    {
     "data": {
      "application/vnd.plotly.v1+json": {
       "config": {
        "plotlyServerURL": "https://plot.ly"
       },
       "data": [
        {
         "alignmentgroup": "True",
         "bingroup": "x",
         "hovertemplate": "x=%{x}<br>count=%{y}<extra></extra>",
         "legendgroup": "",
         "marker": {
          "color": "#636efa",
          "pattern": {
           "shape": ""
          }
         },
         "name": "",
         "offsetgroup": "",
         "orientation": "v",
         "showlegend": false,
         "type": "histogram",
         "x": [
          0.7368421052631579,
          0.7368421052631579,
          0.7368421052631579,
          0.7368421052631579,
          0.7368421052631579,
          0.9428571428571428,
          0.9428571428571428,
          0.8977272727272727,
          0.8977272727272727,
          0.8977272727272727,
          0.7368421052631579,
          0.7368421052631579,
          0.7368421052631579,
          0.7368421052631579,
          0.7368421052631579,
          0.7368421052631579,
          0.7368421052631579,
          0.7368421052631579,
          0.7368421052631579,
          0.8977272727272727,
          0.8977272727272727,
          0.8977272727272727,
          0.8977272727272727,
          0.8977272727272727,
          0.8977272727272727,
          0.38571428571428573,
          0.38571428571428573,
          0.38571428571428573,
          0.7368421052631579,
          0.7368421052631579,
          0.7368421052631579,
          0.38571428571428573,
          0.38571428571428573,
          0.38571428571428573,
          0.38571428571428573,
          0.38571428571428573,
          0.38571428571428573,
          0.38571428571428573,
          0.38571428571428573,
          0.38571428571428573,
          0.7368421052631579,
          0.7368421052631579,
          0.7368421052631579,
          0.9428571428571428,
          0.9428571428571428,
          0.7368421052631579,
          0.7368421052631579,
          0.7368421052631579,
          0.7368421052631579,
          0.7368421052631579,
          0.7368421052631579,
          0.7368421052631579,
          0.7368421052631579,
          0.7368421052631579,
          0.8977272727272727,
          0.8977272727272727,
          0.7368421052631579,
          0.7368421052631579,
          0.7368421052631579,
          0.7368421052631579,
          0.7368421052631579,
          0.7368421052631579,
          0.7368421052631579,
          0.7368421052631579,
          0.7368421052631579,
          0.7368421052631579,
          0.7368421052631579,
          0.7368421052631579,
          0.8977272727272727,
          0.8977272727272727,
          0.7368421052631579,
          0.7368421052631579,
          0.7368421052631579,
          0.7368421052631579,
          0.7368421052631579,
          0.7368421052631579,
          0.7368421052631579,
          0.7368421052631579,
          0.7368421052631579,
          0.7368421052631579,
          0.7368421052631579,
          0.7368421052631579,
          0.8977272727272727,
          0.8977272727272727,
          0.8977272727272727,
          0.7368421052631579,
          0.7368421052631579,
          0.7368421052631579,
          0.8977272727272727,
          0.8977272727272727,
          0.9428571428571428,
          0.9428571428571428,
          0.9428571428571428,
          0.7368421052631579,
          0.7368421052631579,
          0.7368421052631579,
          0.7368421052631579,
          0.7368421052631579,
          0.7368421052631579,
          0.8977272727272727,
          0.8977272727272727,
          0.8977272727272727,
          0.38571428571428573,
          0.38571428571428573,
          0.38571428571428573,
          0.8977272727272727,
          0.8977272727272727,
          0.8977272727272727,
          0.7368421052631579,
          0.7368421052631579,
          0.7368421052631579,
          0.7368421052631579,
          0.7368421052631579,
          0.7368421052631579,
          0.38571428571428573,
          0.38571428571428573,
          0.38571428571428573,
          0.7368421052631579,
          0.7368421052631579,
          0.7368421052631579,
          0.7368421052631579,
          0.7368421052631579,
          0.38571428571428573,
          0.38571428571428573,
          0.38571428571428573,
          0.38571428571428573,
          0.38571428571428573,
          0.38571428571428573,
          0.38571428571428573,
          0.38571428571428573,
          0.38571428571428573,
          0.7368421052631579,
          0.7368421052631579,
          0.7368421052631579,
          0.7368421052631579,
          0.7368421052631579,
          0.7368421052631579,
          0.7368421052631579,
          0.38571428571428573,
          0.38571428571428573,
          0.38571428571428573,
          0.7368421052631579,
          0.7368421052631579,
          0.7368421052631579,
          0.38571428571428573,
          0.38571428571428573,
          0.38571428571428573,
          0.7368421052631579,
          0.7368421052631579,
          0.7368421052631579,
          0.7368421052631579,
          0.7368421052631579,
          0.7368421052631579,
          0.7368421052631579,
          0.7368421052631579,
          0.38571428571428573,
          0.38571428571428573,
          0.38571428571428573,
          0.7368421052631579,
          0.7368421052631579,
          0.7368421052631579,
          0.38571428571428573,
          0.38571428571428573,
          0.8977272727272727,
          0.8977272727272727,
          0.8977272727272727,
          0.38571428571428573,
          0.38571428571428573,
          0.38571428571428573,
          0.7368421052631579,
          0.7368421052631579,
          0.7368421052631579,
          0.7368421052631579,
          0.7368421052631579,
          0.7368421052631579,
          0.7368421052631579,
          0.7368421052631579,
          0.7368421052631579,
          0.7368421052631579,
          0.7368421052631579,
          0.8977272727272727,
          0.8977272727272727,
          0.8977272727272727,
          0.8977272727272727,
          0.38571428571428573,
          0.38571428571428573,
          0.38571428571428573,
          0.8977272727272727,
          0.8977272727272727,
          0.7368421052631579,
          0.7368421052631579,
          0.7368421052631579,
          0.7368421052631579,
          0.7368421052631579,
          0.38571428571428573,
          0.38571428571428573,
          0.38571428571428573,
          0.8977272727272727,
          0.8977272727272727,
          0.8977272727272727,
          0.8977272727272727,
          0.7368421052631579,
          0.7368421052631579,
          0.7368421052631579,
          0.7368421052631579,
          0.7368421052631579,
          0.7368421052631579,
          0.7368421052631579,
          0.7368421052631579,
          0.7368421052631579,
          0.7368421052631579,
          0.7368421052631579,
          0.7368421052631579,
          0.7368421052631579,
          0.7368421052631579,
          0.38571428571428573,
          0.38571428571428573,
          0.38571428571428573,
          0.7368421052631579,
          0.7368421052631579,
          0.7368421052631579,
          0.7368421052631579,
          0.7368421052631579,
          0.7368421052631579,
          0.7368421052631579,
          0.38571428571428573,
          0.38571428571428573,
          0.38571428571428573,
          0.7368421052631579,
          0.7368421052631579,
          0.7368421052631579,
          0.9428571428571428,
          0.9428571428571428,
          0.7368421052631579,
          0.7368421052631579,
          0.7368421052631579,
          0.38571428571428573,
          0.38571428571428573,
          0.38571428571428573,
          0.8977272727272727,
          0.8977272727272727,
          0.9428571428571428,
          0.9428571428571428,
          0.8977272727272727,
          0.8977272727272727,
          0.8977272727272727,
          0.7368421052631579,
          0.7368421052631579,
          0.7368421052631579,
          0.8977272727272727,
          0.8977272727272727,
          0.8977272727272727,
          0.8977272727272727,
          0.8977272727272727,
          0.8977272727272727,
          0.8977272727272727,
          0.8977272727272727,
          0.9428571428571428,
          0.9428571428571428,
          0.9428571428571428,
          0.8977272727272727,
          0.8977272727272727,
          0.8977272727272727,
          0.8977272727272727,
          0.8977272727272727,
          0.8977272727272727,
          0.8977272727272727,
          0.8977272727272727,
          0.8977272727272727,
          0.9428571428571428,
          0.9428571428571428,
          0.9428571428571428,
          0.9428571428571428,
          0.8977272727272727,
          0.8977272727272727,
          0.9428571428571428,
          0.9428571428571428,
          0.9428571428571428,
          0.9428571428571428,
          0.8977272727272727,
          0.8977272727272727,
          0.8977272727272727,
          0.9428571428571428,
          0.9428571428571428,
          0.9428571428571428,
          0.9428571428571428,
          0.9428571428571428,
          0.38571428571428573,
          0.38571428571428573,
          0.38571428571428573,
          0.7368421052631579,
          0.7368421052631579,
          0.7368421052631579,
          0.8977272727272727,
          0.8977272727272727,
          0.8977272727272727,
          0.9428571428571428,
          0.9428571428571428,
          0.8977272727272727,
          0.8977272727272727,
          0.9428571428571428,
          0.9428571428571428,
          0.7368421052631579,
          0.7368421052631579,
          0.7368421052631579,
          0.7368421052631579,
          0.7368421052631579,
          0.7368421052631579,
          0.7368421052631579,
          0.7368421052631579,
          0.7368421052631579,
          0.8977272727272727,
          0.8977272727272727,
          0.8977272727272727,
          0.8977272727272727,
          0.9428571428571428,
          0.9428571428571428,
          0.9428571428571428,
          0.9428571428571428,
          0.8977272727272727,
          0.8977272727272727,
          0.8977272727272727,
          0.8977272727272727,
          0.8977272727272727,
          0.38571428571428573,
          0.38571428571428573,
          0.8977272727272727,
          0.8977272727272727,
          0.7368421052631579,
          0.7368421052631579,
          0.7368421052631579,
          0.7368421052631579,
          0.7368421052631579,
          0.7368421052631579,
          0.8977272727272727,
          0.8977272727272727,
          0.8977272727272727,
          0.7368421052631579,
          0.7368421052631579,
          0.7368421052631579,
          0.38571428571428573,
          0.38571428571428573,
          0.38571428571428573,
          0.38571428571428573,
          0.38571428571428573,
          0.38571428571428573,
          0.7368421052631579,
          0.38571428571428573,
          0.38571428571428573,
          0.38571428571428573,
          0.7368421052631579,
          0.7368421052631579,
          0.7368421052631579,
          0.7368421052631579,
          0.7368421052631579,
          0.7368421052631579,
          0.7368421052631579,
          0.7368421052631579,
          0.7368421052631579,
          0.8977272727272727,
          0.8977272727272727,
          0.8977272727272727,
          0.8977272727272727,
          0.8977272727272727
         ],
         "xaxis": "x",
         "yaxis": "y"
        }
       ],
       "layout": {
        "barmode": "relative",
        "legend": {
         "tracegroupgap": 0
        },
        "template": {
         "data": {
          "bar": [
           {
            "error_x": {
             "color": "#2a3f5f"
            },
            "error_y": {
             "color": "#2a3f5f"
            },
            "marker": {
             "line": {
              "color": "#E5ECF6",
              "width": 0.5
             },
             "pattern": {
              "fillmode": "overlay",
              "size": 10,
              "solidity": 0.2
             }
            },
            "type": "bar"
           }
          ],
          "barpolar": [
           {
            "marker": {
             "line": {
              "color": "#E5ECF6",
              "width": 0.5
             },
             "pattern": {
              "fillmode": "overlay",
              "size": 10,
              "solidity": 0.2
             }
            },
            "type": "barpolar"
           }
          ],
          "carpet": [
           {
            "aaxis": {
             "endlinecolor": "#2a3f5f",
             "gridcolor": "white",
             "linecolor": "white",
             "minorgridcolor": "white",
             "startlinecolor": "#2a3f5f"
            },
            "baxis": {
             "endlinecolor": "#2a3f5f",
             "gridcolor": "white",
             "linecolor": "white",
             "minorgridcolor": "white",
             "startlinecolor": "#2a3f5f"
            },
            "type": "carpet"
           }
          ],
          "choropleth": [
           {
            "colorbar": {
             "outlinewidth": 0,
             "ticks": ""
            },
            "type": "choropleth"
           }
          ],
          "contour": [
           {
            "colorbar": {
             "outlinewidth": 0,
             "ticks": ""
            },
            "colorscale": [
             [
              0,
              "#0d0887"
             ],
             [
              0.1111111111111111,
              "#46039f"
             ],
             [
              0.2222222222222222,
              "#7201a8"
             ],
             [
              0.3333333333333333,
              "#9c179e"
             ],
             [
              0.4444444444444444,
              "#bd3786"
             ],
             [
              0.5555555555555556,
              "#d8576b"
             ],
             [
              0.6666666666666666,
              "#ed7953"
             ],
             [
              0.7777777777777778,
              "#fb9f3a"
             ],
             [
              0.8888888888888888,
              "#fdca26"
             ],
             [
              1,
              "#f0f921"
             ]
            ],
            "type": "contour"
           }
          ],
          "contourcarpet": [
           {
            "colorbar": {
             "outlinewidth": 0,
             "ticks": ""
            },
            "type": "contourcarpet"
           }
          ],
          "heatmap": [
           {
            "colorbar": {
             "outlinewidth": 0,
             "ticks": ""
            },
            "colorscale": [
             [
              0,
              "#0d0887"
             ],
             [
              0.1111111111111111,
              "#46039f"
             ],
             [
              0.2222222222222222,
              "#7201a8"
             ],
             [
              0.3333333333333333,
              "#9c179e"
             ],
             [
              0.4444444444444444,
              "#bd3786"
             ],
             [
              0.5555555555555556,
              "#d8576b"
             ],
             [
              0.6666666666666666,
              "#ed7953"
             ],
             [
              0.7777777777777778,
              "#fb9f3a"
             ],
             [
              0.8888888888888888,
              "#fdca26"
             ],
             [
              1,
              "#f0f921"
             ]
            ],
            "type": "heatmap"
           }
          ],
          "heatmapgl": [
           {
            "colorbar": {
             "outlinewidth": 0,
             "ticks": ""
            },
            "colorscale": [
             [
              0,
              "#0d0887"
             ],
             [
              0.1111111111111111,
              "#46039f"
             ],
             [
              0.2222222222222222,
              "#7201a8"
             ],
             [
              0.3333333333333333,
              "#9c179e"
             ],
             [
              0.4444444444444444,
              "#bd3786"
             ],
             [
              0.5555555555555556,
              "#d8576b"
             ],
             [
              0.6666666666666666,
              "#ed7953"
             ],
             [
              0.7777777777777778,
              "#fb9f3a"
             ],
             [
              0.8888888888888888,
              "#fdca26"
             ],
             [
              1,
              "#f0f921"
             ]
            ],
            "type": "heatmapgl"
           }
          ],
          "histogram": [
           {
            "marker": {
             "pattern": {
              "fillmode": "overlay",
              "size": 10,
              "solidity": 0.2
             }
            },
            "type": "histogram"
           }
          ],
          "histogram2d": [
           {
            "colorbar": {
             "outlinewidth": 0,
             "ticks": ""
            },
            "colorscale": [
             [
              0,
              "#0d0887"
             ],
             [
              0.1111111111111111,
              "#46039f"
             ],
             [
              0.2222222222222222,
              "#7201a8"
             ],
             [
              0.3333333333333333,
              "#9c179e"
             ],
             [
              0.4444444444444444,
              "#bd3786"
             ],
             [
              0.5555555555555556,
              "#d8576b"
             ],
             [
              0.6666666666666666,
              "#ed7953"
             ],
             [
              0.7777777777777778,
              "#fb9f3a"
             ],
             [
              0.8888888888888888,
              "#fdca26"
             ],
             [
              1,
              "#f0f921"
             ]
            ],
            "type": "histogram2d"
           }
          ],
          "histogram2dcontour": [
           {
            "colorbar": {
             "outlinewidth": 0,
             "ticks": ""
            },
            "colorscale": [
             [
              0,
              "#0d0887"
             ],
             [
              0.1111111111111111,
              "#46039f"
             ],
             [
              0.2222222222222222,
              "#7201a8"
             ],
             [
              0.3333333333333333,
              "#9c179e"
             ],
             [
              0.4444444444444444,
              "#bd3786"
             ],
             [
              0.5555555555555556,
              "#d8576b"
             ],
             [
              0.6666666666666666,
              "#ed7953"
             ],
             [
              0.7777777777777778,
              "#fb9f3a"
             ],
             [
              0.8888888888888888,
              "#fdca26"
             ],
             [
              1,
              "#f0f921"
             ]
            ],
            "type": "histogram2dcontour"
           }
          ],
          "mesh3d": [
           {
            "colorbar": {
             "outlinewidth": 0,
             "ticks": ""
            },
            "type": "mesh3d"
           }
          ],
          "parcoords": [
           {
            "line": {
             "colorbar": {
              "outlinewidth": 0,
              "ticks": ""
             }
            },
            "type": "parcoords"
           }
          ],
          "pie": [
           {
            "automargin": true,
            "type": "pie"
           }
          ],
          "scatter": [
           {
            "fillpattern": {
             "fillmode": "overlay",
             "size": 10,
             "solidity": 0.2
            },
            "type": "scatter"
           }
          ],
          "scatter3d": [
           {
            "line": {
             "colorbar": {
              "outlinewidth": 0,
              "ticks": ""
             }
            },
            "marker": {
             "colorbar": {
              "outlinewidth": 0,
              "ticks": ""
             }
            },
            "type": "scatter3d"
           }
          ],
          "scattercarpet": [
           {
            "marker": {
             "colorbar": {
              "outlinewidth": 0,
              "ticks": ""
             }
            },
            "type": "scattercarpet"
           }
          ],
          "scattergeo": [
           {
            "marker": {
             "colorbar": {
              "outlinewidth": 0,
              "ticks": ""
             }
            },
            "type": "scattergeo"
           }
          ],
          "scattergl": [
           {
            "marker": {
             "colorbar": {
              "outlinewidth": 0,
              "ticks": ""
             }
            },
            "type": "scattergl"
           }
          ],
          "scattermapbox": [
           {
            "marker": {
             "colorbar": {
              "outlinewidth": 0,
              "ticks": ""
             }
            },
            "type": "scattermapbox"
           }
          ],
          "scatterpolar": [
           {
            "marker": {
             "colorbar": {
              "outlinewidth": 0,
              "ticks": ""
             }
            },
            "type": "scatterpolar"
           }
          ],
          "scatterpolargl": [
           {
            "marker": {
             "colorbar": {
              "outlinewidth": 0,
              "ticks": ""
             }
            },
            "type": "scatterpolargl"
           }
          ],
          "scatterternary": [
           {
            "marker": {
             "colorbar": {
              "outlinewidth": 0,
              "ticks": ""
             }
            },
            "type": "scatterternary"
           }
          ],
          "surface": [
           {
            "colorbar": {
             "outlinewidth": 0,
             "ticks": ""
            },
            "colorscale": [
             [
              0,
              "#0d0887"
             ],
             [
              0.1111111111111111,
              "#46039f"
             ],
             [
              0.2222222222222222,
              "#7201a8"
             ],
             [
              0.3333333333333333,
              "#9c179e"
             ],
             [
              0.4444444444444444,
              "#bd3786"
             ],
             [
              0.5555555555555556,
              "#d8576b"
             ],
             [
              0.6666666666666666,
              "#ed7953"
             ],
             [
              0.7777777777777778,
              "#fb9f3a"
             ],
             [
              0.8888888888888888,
              "#fdca26"
             ],
             [
              1,
              "#f0f921"
             ]
            ],
            "type": "surface"
           }
          ],
          "table": [
           {
            "cells": {
             "fill": {
              "color": "#EBF0F8"
             },
             "line": {
              "color": "white"
             }
            },
            "header": {
             "fill": {
              "color": "#C8D4E3"
             },
             "line": {
              "color": "white"
             }
            },
            "type": "table"
           }
          ]
         },
         "layout": {
          "annotationdefaults": {
           "arrowcolor": "#2a3f5f",
           "arrowhead": 0,
           "arrowwidth": 1
          },
          "autotypenumbers": "strict",
          "coloraxis": {
           "colorbar": {
            "outlinewidth": 0,
            "ticks": ""
           }
          },
          "colorscale": {
           "diverging": [
            [
             0,
             "#8e0152"
            ],
            [
             0.1,
             "#c51b7d"
            ],
            [
             0.2,
             "#de77ae"
            ],
            [
             0.3,
             "#f1b6da"
            ],
            [
             0.4,
             "#fde0ef"
            ],
            [
             0.5,
             "#f7f7f7"
            ],
            [
             0.6,
             "#e6f5d0"
            ],
            [
             0.7,
             "#b8e186"
            ],
            [
             0.8,
             "#7fbc41"
            ],
            [
             0.9,
             "#4d9221"
            ],
            [
             1,
             "#276419"
            ]
           ],
           "sequential": [
            [
             0,
             "#0d0887"
            ],
            [
             0.1111111111111111,
             "#46039f"
            ],
            [
             0.2222222222222222,
             "#7201a8"
            ],
            [
             0.3333333333333333,
             "#9c179e"
            ],
            [
             0.4444444444444444,
             "#bd3786"
            ],
            [
             0.5555555555555556,
             "#d8576b"
            ],
            [
             0.6666666666666666,
             "#ed7953"
            ],
            [
             0.7777777777777778,
             "#fb9f3a"
            ],
            [
             0.8888888888888888,
             "#fdca26"
            ],
            [
             1,
             "#f0f921"
            ]
           ],
           "sequentialminus": [
            [
             0,
             "#0d0887"
            ],
            [
             0.1111111111111111,
             "#46039f"
            ],
            [
             0.2222222222222222,
             "#7201a8"
            ],
            [
             0.3333333333333333,
             "#9c179e"
            ],
            [
             0.4444444444444444,
             "#bd3786"
            ],
            [
             0.5555555555555556,
             "#d8576b"
            ],
            [
             0.6666666666666666,
             "#ed7953"
            ],
            [
             0.7777777777777778,
             "#fb9f3a"
            ],
            [
             0.8888888888888888,
             "#fdca26"
            ],
            [
             1,
             "#f0f921"
            ]
           ]
          },
          "colorway": [
           "#636efa",
           "#EF553B",
           "#00cc96",
           "#ab63fa",
           "#FFA15A",
           "#19d3f3",
           "#FF6692",
           "#B6E880",
           "#FF97FF",
           "#FECB52"
          ],
          "font": {
           "color": "#2a3f5f"
          },
          "geo": {
           "bgcolor": "white",
           "lakecolor": "white",
           "landcolor": "#E5ECF6",
           "showlakes": true,
           "showland": true,
           "subunitcolor": "white"
          },
          "hoverlabel": {
           "align": "left"
          },
          "hovermode": "closest",
          "mapbox": {
           "style": "light"
          },
          "paper_bgcolor": "white",
          "plot_bgcolor": "#E5ECF6",
          "polar": {
           "angularaxis": {
            "gridcolor": "white",
            "linecolor": "white",
            "ticks": ""
           },
           "bgcolor": "#E5ECF6",
           "radialaxis": {
            "gridcolor": "white",
            "linecolor": "white",
            "ticks": ""
           }
          },
          "scene": {
           "xaxis": {
            "backgroundcolor": "#E5ECF6",
            "gridcolor": "white",
            "gridwidth": 2,
            "linecolor": "white",
            "showbackground": true,
            "ticks": "",
            "zerolinecolor": "white"
           },
           "yaxis": {
            "backgroundcolor": "#E5ECF6",
            "gridcolor": "white",
            "gridwidth": 2,
            "linecolor": "white",
            "showbackground": true,
            "ticks": "",
            "zerolinecolor": "white"
           },
           "zaxis": {
            "backgroundcolor": "#E5ECF6",
            "gridcolor": "white",
            "gridwidth": 2,
            "linecolor": "white",
            "showbackground": true,
            "ticks": "",
            "zerolinecolor": "white"
           }
          },
          "shapedefaults": {
           "line": {
            "color": "#2a3f5f"
           }
          },
          "ternary": {
           "aaxis": {
            "gridcolor": "white",
            "linecolor": "white",
            "ticks": ""
           },
           "baxis": {
            "gridcolor": "white",
            "linecolor": "white",
            "ticks": ""
           },
           "bgcolor": "#E5ECF6",
           "caxis": {
            "gridcolor": "white",
            "linecolor": "white",
            "ticks": ""
           }
          },
          "title": {
           "x": 0.05
          },
          "xaxis": {
           "automargin": true,
           "gridcolor": "white",
           "linecolor": "white",
           "ticks": "",
           "title": {
            "standoff": 15
           },
           "zerolinecolor": "white",
           "zerolinewidth": 2
          },
          "yaxis": {
           "automargin": true,
           "gridcolor": "white",
           "linecolor": "white",
           "ticks": "",
           "title": {
            "standoff": 15
           },
           "zerolinecolor": "white",
           "zerolinewidth": 2
          }
         }
        },
        "title": {
         "text": "FFNN"
        },
        "xaxis": {
         "anchor": "y",
         "domain": [
          0,
          1
         ],
         "title": {
          "text": "x"
         }
        },
        "yaxis": {
         "anchor": "x",
         "domain": [
          0,
          1
         ],
         "title": {
          "text": "count"
         }
        }
       }
      }
     },
     "metadata": {},
     "output_type": "display_data"
    }
   ],
   "source": [
    "ffnn = chosen_metric_back_into_original_data['ffnn']\n",
    "xgboost = chosen_metric_back_into_original_data['xgboost']\n",
    "transformer = chosen_metric_back_into_original_data['transformer']\n",
    "\n",
    "# plot the distribution of the metric for each model\n",
    "import plotly.express as px\n",
    "fig = px.histogram(df, x=ffnn, title='FFNN')\n",
    "fig.show()"
   ]
  },
  {
   "cell_type": "code",
   "execution_count": 50,
   "metadata": {},
   "outputs": [
    {
     "data": {
      "application/vnd.plotly.v1+json": {
       "config": {
        "plotlyServerURL": "https://plot.ly"
       },
       "data": [
        {
         "alignmentgroup": "True",
         "bingroup": "x",
         "hovertemplate": "x=%{x}<br>count=%{y}<extra></extra>",
         "legendgroup": "",
         "marker": {
          "color": "#636efa",
          "pattern": {
           "shape": ""
          }
         },
         "name": "",
         "offsetgroup": "",
         "orientation": "v",
         "showlegend": false,
         "type": "histogram",
         "x": [
          0.39766081871345027,
          0.39766081871345027,
          0.39766081871345027,
          0.39766081871345027,
          0.39766081871345027,
          0.8285714285714286,
          0.8285714285714286,
          0.75,
          0.75,
          0.75,
          0.39766081871345027,
          0.39766081871345027,
          0.39766081871345027,
          0.39766081871345027,
          0.39766081871345027,
          0.39766081871345027,
          0.39766081871345027,
          0.39766081871345027,
          0.39766081871345027,
          0.75,
          0.75,
          0.75,
          0.75,
          0.75,
          0.75,
          0.3,
          0.3,
          0.3,
          0.39766081871345027,
          0.39766081871345027,
          0.39766081871345027,
          0.3,
          0.3,
          0.3,
          0.3,
          0.3,
          0.3,
          0.3,
          0.3,
          0.3,
          0.39766081871345027,
          0.39766081871345027,
          0.39766081871345027,
          0.8285714285714286,
          0.8285714285714286,
          0.39766081871345027,
          0.39766081871345027,
          0.39766081871345027,
          0.39766081871345027,
          0.39766081871345027,
          0.39766081871345027,
          0.39766081871345027,
          0.39766081871345027,
          0.39766081871345027,
          0.75,
          0.75,
          0.39766081871345027,
          0.39766081871345027,
          0.39766081871345027,
          0.39766081871345027,
          0.39766081871345027,
          0.39766081871345027,
          0.39766081871345027,
          0.39766081871345027,
          0.39766081871345027,
          0.39766081871345027,
          0.39766081871345027,
          0.39766081871345027,
          0.75,
          0.75,
          0.39766081871345027,
          0.39766081871345027,
          0.39766081871345027,
          0.39766081871345027,
          0.39766081871345027,
          0.39766081871345027,
          0.39766081871345027,
          0.39766081871345027,
          0.39766081871345027,
          0.39766081871345027,
          0.39766081871345027,
          0.39766081871345027,
          0.75,
          0.75,
          0.75,
          0.39766081871345027,
          0.39766081871345027,
          0.39766081871345027,
          0.75,
          0.75,
          0.8285714285714286,
          0.8285714285714286,
          0.8285714285714286,
          0.39766081871345027,
          0.39766081871345027,
          0.39766081871345027,
          0.39766081871345027,
          0.39766081871345027,
          0.39766081871345027,
          0.75,
          0.75,
          0.75,
          0.3,
          0.3,
          0.3,
          0.75,
          0.75,
          0.75,
          0.39766081871345027,
          0.39766081871345027,
          0.39766081871345027,
          0.39766081871345027,
          0.39766081871345027,
          0.39766081871345027,
          0.3,
          0.3,
          0.3,
          0.39766081871345027,
          0.39766081871345027,
          0.39766081871345027,
          0.39766081871345027,
          0.39766081871345027,
          0.3,
          0.3,
          0.3,
          0.3,
          0.3,
          0.3,
          0.3,
          0.3,
          0.3,
          0.39766081871345027,
          0.39766081871345027,
          0.39766081871345027,
          0.39766081871345027,
          0.39766081871345027,
          0.39766081871345027,
          0.39766081871345027,
          0.3,
          0.3,
          0.3,
          0.39766081871345027,
          0.39766081871345027,
          0.39766081871345027,
          0.3,
          0.3,
          0.3,
          0.39766081871345027,
          0.39766081871345027,
          0.39766081871345027,
          0.39766081871345027,
          0.39766081871345027,
          0.39766081871345027,
          0.39766081871345027,
          0.39766081871345027,
          0.3,
          0.3,
          0.3,
          0.39766081871345027,
          0.39766081871345027,
          0.39766081871345027,
          0.3,
          0.3,
          0.75,
          0.75,
          0.75,
          0.3,
          0.3,
          0.3,
          0.39766081871345027,
          0.39766081871345027,
          0.39766081871345027,
          0.39766081871345027,
          0.39766081871345027,
          0.39766081871345027,
          0.39766081871345027,
          0.39766081871345027,
          0.39766081871345027,
          0.39766081871345027,
          0.39766081871345027,
          0.75,
          0.75,
          0.75,
          0.75,
          0.3,
          0.3,
          0.3,
          0.75,
          0.75,
          0.39766081871345027,
          0.39766081871345027,
          0.39766081871345027,
          0.39766081871345027,
          0.39766081871345027,
          0.3,
          0.3,
          0.3,
          0.75,
          0.75,
          0.75,
          0.75,
          0.39766081871345027,
          0.39766081871345027,
          0.39766081871345027,
          0.39766081871345027,
          0.39766081871345027,
          0.39766081871345027,
          0.39766081871345027,
          0.39766081871345027,
          0.39766081871345027,
          0.39766081871345027,
          0.39766081871345027,
          0.39766081871345027,
          0.39766081871345027,
          0.39766081871345027,
          0.3,
          0.3,
          0.3,
          0.39766081871345027,
          0.39766081871345027,
          0.39766081871345027,
          0.39766081871345027,
          0.39766081871345027,
          0.39766081871345027,
          0.39766081871345027,
          0.3,
          0.3,
          0.3,
          0.39766081871345027,
          0.39766081871345027,
          0.39766081871345027,
          0.8285714285714286,
          0.8285714285714286,
          0.39766081871345027,
          0.39766081871345027,
          0.39766081871345027,
          0.3,
          0.3,
          0.3,
          0.75,
          0.75,
          0.8285714285714286,
          0.8285714285714286,
          0.75,
          0.75,
          0.75,
          0.39766081871345027,
          0.39766081871345027,
          0.39766081871345027,
          0.75,
          0.75,
          0.75,
          0.75,
          0.75,
          0.75,
          0.75,
          0.75,
          0.8285714285714286,
          0.8285714285714286,
          0.8285714285714286,
          0.75,
          0.75,
          0.75,
          0.75,
          0.75,
          0.75,
          0.75,
          0.75,
          0.75,
          0.8285714285714286,
          0.8285714285714286,
          0.8285714285714286,
          0.8285714285714286,
          0.75,
          0.75,
          0.8285714285714286,
          0.8285714285714286,
          0.8285714285714286,
          0.8285714285714286,
          0.75,
          0.75,
          0.75,
          0.8285714285714286,
          0.8285714285714286,
          0.8285714285714286,
          0.8285714285714286,
          0.8285714285714286,
          0.3,
          0.3,
          0.3,
          0.39766081871345027,
          0.39766081871345027,
          0.39766081871345027,
          0.75,
          0.75,
          0.75,
          0.8285714285714286,
          0.8285714285714286,
          0.75,
          0.75,
          0.8285714285714286,
          0.8285714285714286,
          0.39766081871345027,
          0.39766081871345027,
          0.39766081871345027,
          0.39766081871345027,
          0.39766081871345027,
          0.39766081871345027,
          0.39766081871345027,
          0.39766081871345027,
          0.39766081871345027,
          0.75,
          0.75,
          0.75,
          0.75,
          0.8285714285714286,
          0.8285714285714286,
          0.8285714285714286,
          0.8285714285714286,
          0.75,
          0.75,
          0.75,
          0.75,
          0.75,
          0.3,
          0.3,
          0.75,
          0.75,
          0.39766081871345027,
          0.39766081871345027,
          0.39766081871345027,
          0.39766081871345027,
          0.39766081871345027,
          0.39766081871345027,
          0.75,
          0.75,
          0.75,
          0.39766081871345027,
          0.39766081871345027,
          0.39766081871345027,
          0.3,
          0.3,
          0.3,
          0.3,
          0.3,
          0.3,
          0.39766081871345027,
          0.3,
          0.3,
          0.3,
          0.39766081871345027,
          0.39766081871345027,
          0.39766081871345027,
          0.39766081871345027,
          0.39766081871345027,
          0.39766081871345027,
          0.39766081871345027,
          0.39766081871345027,
          0.39766081871345027,
          0.75,
          0.75,
          0.75,
          0.75,
          0.75
         ],
         "xaxis": "x",
         "yaxis": "y"
        }
       ],
       "layout": {
        "barmode": "relative",
        "legend": {
         "tracegroupgap": 0
        },
        "template": {
         "data": {
          "bar": [
           {
            "error_x": {
             "color": "#2a3f5f"
            },
            "error_y": {
             "color": "#2a3f5f"
            },
            "marker": {
             "line": {
              "color": "#E5ECF6",
              "width": 0.5
             },
             "pattern": {
              "fillmode": "overlay",
              "size": 10,
              "solidity": 0.2
             }
            },
            "type": "bar"
           }
          ],
          "barpolar": [
           {
            "marker": {
             "line": {
              "color": "#E5ECF6",
              "width": 0.5
             },
             "pattern": {
              "fillmode": "overlay",
              "size": 10,
              "solidity": 0.2
             }
            },
            "type": "barpolar"
           }
          ],
          "carpet": [
           {
            "aaxis": {
             "endlinecolor": "#2a3f5f",
             "gridcolor": "white",
             "linecolor": "white",
             "minorgridcolor": "white",
             "startlinecolor": "#2a3f5f"
            },
            "baxis": {
             "endlinecolor": "#2a3f5f",
             "gridcolor": "white",
             "linecolor": "white",
             "minorgridcolor": "white",
             "startlinecolor": "#2a3f5f"
            },
            "type": "carpet"
           }
          ],
          "choropleth": [
           {
            "colorbar": {
             "outlinewidth": 0,
             "ticks": ""
            },
            "type": "choropleth"
           }
          ],
          "contour": [
           {
            "colorbar": {
             "outlinewidth": 0,
             "ticks": ""
            },
            "colorscale": [
             [
              0,
              "#0d0887"
             ],
             [
              0.1111111111111111,
              "#46039f"
             ],
             [
              0.2222222222222222,
              "#7201a8"
             ],
             [
              0.3333333333333333,
              "#9c179e"
             ],
             [
              0.4444444444444444,
              "#bd3786"
             ],
             [
              0.5555555555555556,
              "#d8576b"
             ],
             [
              0.6666666666666666,
              "#ed7953"
             ],
             [
              0.7777777777777778,
              "#fb9f3a"
             ],
             [
              0.8888888888888888,
              "#fdca26"
             ],
             [
              1,
              "#f0f921"
             ]
            ],
            "type": "contour"
           }
          ],
          "contourcarpet": [
           {
            "colorbar": {
             "outlinewidth": 0,
             "ticks": ""
            },
            "type": "contourcarpet"
           }
          ],
          "heatmap": [
           {
            "colorbar": {
             "outlinewidth": 0,
             "ticks": ""
            },
            "colorscale": [
             [
              0,
              "#0d0887"
             ],
             [
              0.1111111111111111,
              "#46039f"
             ],
             [
              0.2222222222222222,
              "#7201a8"
             ],
             [
              0.3333333333333333,
              "#9c179e"
             ],
             [
              0.4444444444444444,
              "#bd3786"
             ],
             [
              0.5555555555555556,
              "#d8576b"
             ],
             [
              0.6666666666666666,
              "#ed7953"
             ],
             [
              0.7777777777777778,
              "#fb9f3a"
             ],
             [
              0.8888888888888888,
              "#fdca26"
             ],
             [
              1,
              "#f0f921"
             ]
            ],
            "type": "heatmap"
           }
          ],
          "heatmapgl": [
           {
            "colorbar": {
             "outlinewidth": 0,
             "ticks": ""
            },
            "colorscale": [
             [
              0,
              "#0d0887"
             ],
             [
              0.1111111111111111,
              "#46039f"
             ],
             [
              0.2222222222222222,
              "#7201a8"
             ],
             [
              0.3333333333333333,
              "#9c179e"
             ],
             [
              0.4444444444444444,
              "#bd3786"
             ],
             [
              0.5555555555555556,
              "#d8576b"
             ],
             [
              0.6666666666666666,
              "#ed7953"
             ],
             [
              0.7777777777777778,
              "#fb9f3a"
             ],
             [
              0.8888888888888888,
              "#fdca26"
             ],
             [
              1,
              "#f0f921"
             ]
            ],
            "type": "heatmapgl"
           }
          ],
          "histogram": [
           {
            "marker": {
             "pattern": {
              "fillmode": "overlay",
              "size": 10,
              "solidity": 0.2
             }
            },
            "type": "histogram"
           }
          ],
          "histogram2d": [
           {
            "colorbar": {
             "outlinewidth": 0,
             "ticks": ""
            },
            "colorscale": [
             [
              0,
              "#0d0887"
             ],
             [
              0.1111111111111111,
              "#46039f"
             ],
             [
              0.2222222222222222,
              "#7201a8"
             ],
             [
              0.3333333333333333,
              "#9c179e"
             ],
             [
              0.4444444444444444,
              "#bd3786"
             ],
             [
              0.5555555555555556,
              "#d8576b"
             ],
             [
              0.6666666666666666,
              "#ed7953"
             ],
             [
              0.7777777777777778,
              "#fb9f3a"
             ],
             [
              0.8888888888888888,
              "#fdca26"
             ],
             [
              1,
              "#f0f921"
             ]
            ],
            "type": "histogram2d"
           }
          ],
          "histogram2dcontour": [
           {
            "colorbar": {
             "outlinewidth": 0,
             "ticks": ""
            },
            "colorscale": [
             [
              0,
              "#0d0887"
             ],
             [
              0.1111111111111111,
              "#46039f"
             ],
             [
              0.2222222222222222,
              "#7201a8"
             ],
             [
              0.3333333333333333,
              "#9c179e"
             ],
             [
              0.4444444444444444,
              "#bd3786"
             ],
             [
              0.5555555555555556,
              "#d8576b"
             ],
             [
              0.6666666666666666,
              "#ed7953"
             ],
             [
              0.7777777777777778,
              "#fb9f3a"
             ],
             [
              0.8888888888888888,
              "#fdca26"
             ],
             [
              1,
              "#f0f921"
             ]
            ],
            "type": "histogram2dcontour"
           }
          ],
          "mesh3d": [
           {
            "colorbar": {
             "outlinewidth": 0,
             "ticks": ""
            },
            "type": "mesh3d"
           }
          ],
          "parcoords": [
           {
            "line": {
             "colorbar": {
              "outlinewidth": 0,
              "ticks": ""
             }
            },
            "type": "parcoords"
           }
          ],
          "pie": [
           {
            "automargin": true,
            "type": "pie"
           }
          ],
          "scatter": [
           {
            "fillpattern": {
             "fillmode": "overlay",
             "size": 10,
             "solidity": 0.2
            },
            "type": "scatter"
           }
          ],
          "scatter3d": [
           {
            "line": {
             "colorbar": {
              "outlinewidth": 0,
              "ticks": ""
             }
            },
            "marker": {
             "colorbar": {
              "outlinewidth": 0,
              "ticks": ""
             }
            },
            "type": "scatter3d"
           }
          ],
          "scattercarpet": [
           {
            "marker": {
             "colorbar": {
              "outlinewidth": 0,
              "ticks": ""
             }
            },
            "type": "scattercarpet"
           }
          ],
          "scattergeo": [
           {
            "marker": {
             "colorbar": {
              "outlinewidth": 0,
              "ticks": ""
             }
            },
            "type": "scattergeo"
           }
          ],
          "scattergl": [
           {
            "marker": {
             "colorbar": {
              "outlinewidth": 0,
              "ticks": ""
             }
            },
            "type": "scattergl"
           }
          ],
          "scattermapbox": [
           {
            "marker": {
             "colorbar": {
              "outlinewidth": 0,
              "ticks": ""
             }
            },
            "type": "scattermapbox"
           }
          ],
          "scatterpolar": [
           {
            "marker": {
             "colorbar": {
              "outlinewidth": 0,
              "ticks": ""
             }
            },
            "type": "scatterpolar"
           }
          ],
          "scatterpolargl": [
           {
            "marker": {
             "colorbar": {
              "outlinewidth": 0,
              "ticks": ""
             }
            },
            "type": "scatterpolargl"
           }
          ],
          "scatterternary": [
           {
            "marker": {
             "colorbar": {
              "outlinewidth": 0,
              "ticks": ""
             }
            },
            "type": "scatterternary"
           }
          ],
          "surface": [
           {
            "colorbar": {
             "outlinewidth": 0,
             "ticks": ""
            },
            "colorscale": [
             [
              0,
              "#0d0887"
             ],
             [
              0.1111111111111111,
              "#46039f"
             ],
             [
              0.2222222222222222,
              "#7201a8"
             ],
             [
              0.3333333333333333,
              "#9c179e"
             ],
             [
              0.4444444444444444,
              "#bd3786"
             ],
             [
              0.5555555555555556,
              "#d8576b"
             ],
             [
              0.6666666666666666,
              "#ed7953"
             ],
             [
              0.7777777777777778,
              "#fb9f3a"
             ],
             [
              0.8888888888888888,
              "#fdca26"
             ],
             [
              1,
              "#f0f921"
             ]
            ],
            "type": "surface"
           }
          ],
          "table": [
           {
            "cells": {
             "fill": {
              "color": "#EBF0F8"
             },
             "line": {
              "color": "white"
             }
            },
            "header": {
             "fill": {
              "color": "#C8D4E3"
             },
             "line": {
              "color": "white"
             }
            },
            "type": "table"
           }
          ]
         },
         "layout": {
          "annotationdefaults": {
           "arrowcolor": "#2a3f5f",
           "arrowhead": 0,
           "arrowwidth": 1
          },
          "autotypenumbers": "strict",
          "coloraxis": {
           "colorbar": {
            "outlinewidth": 0,
            "ticks": ""
           }
          },
          "colorscale": {
           "diverging": [
            [
             0,
             "#8e0152"
            ],
            [
             0.1,
             "#c51b7d"
            ],
            [
             0.2,
             "#de77ae"
            ],
            [
             0.3,
             "#f1b6da"
            ],
            [
             0.4,
             "#fde0ef"
            ],
            [
             0.5,
             "#f7f7f7"
            ],
            [
             0.6,
             "#e6f5d0"
            ],
            [
             0.7,
             "#b8e186"
            ],
            [
             0.8,
             "#7fbc41"
            ],
            [
             0.9,
             "#4d9221"
            ],
            [
             1,
             "#276419"
            ]
           ],
           "sequential": [
            [
             0,
             "#0d0887"
            ],
            [
             0.1111111111111111,
             "#46039f"
            ],
            [
             0.2222222222222222,
             "#7201a8"
            ],
            [
             0.3333333333333333,
             "#9c179e"
            ],
            [
             0.4444444444444444,
             "#bd3786"
            ],
            [
             0.5555555555555556,
             "#d8576b"
            ],
            [
             0.6666666666666666,
             "#ed7953"
            ],
            [
             0.7777777777777778,
             "#fb9f3a"
            ],
            [
             0.8888888888888888,
             "#fdca26"
            ],
            [
             1,
             "#f0f921"
            ]
           ],
           "sequentialminus": [
            [
             0,
             "#0d0887"
            ],
            [
             0.1111111111111111,
             "#46039f"
            ],
            [
             0.2222222222222222,
             "#7201a8"
            ],
            [
             0.3333333333333333,
             "#9c179e"
            ],
            [
             0.4444444444444444,
             "#bd3786"
            ],
            [
             0.5555555555555556,
             "#d8576b"
            ],
            [
             0.6666666666666666,
             "#ed7953"
            ],
            [
             0.7777777777777778,
             "#fb9f3a"
            ],
            [
             0.8888888888888888,
             "#fdca26"
            ],
            [
             1,
             "#f0f921"
            ]
           ]
          },
          "colorway": [
           "#636efa",
           "#EF553B",
           "#00cc96",
           "#ab63fa",
           "#FFA15A",
           "#19d3f3",
           "#FF6692",
           "#B6E880",
           "#FF97FF",
           "#FECB52"
          ],
          "font": {
           "color": "#2a3f5f"
          },
          "geo": {
           "bgcolor": "white",
           "lakecolor": "white",
           "landcolor": "#E5ECF6",
           "showlakes": true,
           "showland": true,
           "subunitcolor": "white"
          },
          "hoverlabel": {
           "align": "left"
          },
          "hovermode": "closest",
          "mapbox": {
           "style": "light"
          },
          "paper_bgcolor": "white",
          "plot_bgcolor": "#E5ECF6",
          "polar": {
           "angularaxis": {
            "gridcolor": "white",
            "linecolor": "white",
            "ticks": ""
           },
           "bgcolor": "#E5ECF6",
           "radialaxis": {
            "gridcolor": "white",
            "linecolor": "white",
            "ticks": ""
           }
          },
          "scene": {
           "xaxis": {
            "backgroundcolor": "#E5ECF6",
            "gridcolor": "white",
            "gridwidth": 2,
            "linecolor": "white",
            "showbackground": true,
            "ticks": "",
            "zerolinecolor": "white"
           },
           "yaxis": {
            "backgroundcolor": "#E5ECF6",
            "gridcolor": "white",
            "gridwidth": 2,
            "linecolor": "white",
            "showbackground": true,
            "ticks": "",
            "zerolinecolor": "white"
           },
           "zaxis": {
            "backgroundcolor": "#E5ECF6",
            "gridcolor": "white",
            "gridwidth": 2,
            "linecolor": "white",
            "showbackground": true,
            "ticks": "",
            "zerolinecolor": "white"
           }
          },
          "shapedefaults": {
           "line": {
            "color": "#2a3f5f"
           }
          },
          "ternary": {
           "aaxis": {
            "gridcolor": "white",
            "linecolor": "white",
            "ticks": ""
           },
           "baxis": {
            "gridcolor": "white",
            "linecolor": "white",
            "ticks": ""
           },
           "bgcolor": "#E5ECF6",
           "caxis": {
            "gridcolor": "white",
            "linecolor": "white",
            "ticks": ""
           }
          },
          "title": {
           "x": 0.05
          },
          "xaxis": {
           "automargin": true,
           "gridcolor": "white",
           "linecolor": "white",
           "ticks": "",
           "title": {
            "standoff": 15
           },
           "zerolinecolor": "white",
           "zerolinewidth": 2
          },
          "yaxis": {
           "automargin": true,
           "gridcolor": "white",
           "linecolor": "white",
           "ticks": "",
           "title": {
            "standoff": 15
           },
           "zerolinecolor": "white",
           "zerolinewidth": 2
          }
         }
        },
        "title": {
         "text": "XGBoost"
        },
        "xaxis": {
         "anchor": "y",
         "domain": [
          0,
          1
         ],
         "title": {
          "text": "x"
         }
        },
        "yaxis": {
         "anchor": "x",
         "domain": [
          0,
          1
         ],
         "title": {
          "text": "count"
         }
        }
       }
      }
     },
     "metadata": {},
     "output_type": "display_data"
    }
   ],
   "source": [
    "fig2 = px.histogram(df, x=xgboost, title='XGBoost')\n",
    "fig2.show()"
   ]
  },
  {
   "cell_type": "code",
   "execution_count": 51,
   "metadata": {},
   "outputs": [
    {
     "data": {
      "application/vnd.plotly.v1+json": {
       "config": {
        "plotlyServerURL": "https://plot.ly"
       },
       "data": [
        {
         "alignmentgroup": "True",
         "bingroup": "x",
         "hovertemplate": "x=%{x}<br>count=%{y}<extra></extra>",
         "legendgroup": "",
         "marker": {
          "color": "#636efa",
          "pattern": {
           "shape": ""
          }
         },
         "name": "",
         "offsetgroup": "",
         "orientation": "v",
         "showlegend": false,
         "type": "histogram",
         "x": [
          0.5614035087719298,
          0.5614035087719298,
          0.5614035087719298,
          0.5614035087719298,
          0.5614035087719298,
          0.9428571428571428,
          0.9428571428571428,
          0.7159090909090909,
          0.7159090909090909,
          0.7159090909090909,
          0.5614035087719298,
          0.5614035087719298,
          0.5614035087719298,
          0.5614035087719298,
          0.5614035087719298,
          0.5614035087719298,
          0.5614035087719298,
          0.5614035087719298,
          0.5614035087719298,
          0.7159090909090909,
          0.7159090909090909,
          0.7159090909090909,
          0.7159090909090909,
          0.7159090909090909,
          0.7159090909090909,
          0.4714285714285714,
          0.4714285714285714,
          0.4714285714285714,
          0.5614035087719298,
          0.5614035087719298,
          0.5614035087719298,
          0.4714285714285714,
          0.4714285714285714,
          0.4714285714285714,
          0.4714285714285714,
          0.4714285714285714,
          0.4714285714285714,
          0.4714285714285714,
          0.4714285714285714,
          0.4714285714285714,
          0.5614035087719298,
          0.5614035087719298,
          0.5614035087719298,
          0.9428571428571428,
          0.9428571428571428,
          0.5614035087719298,
          0.5614035087719298,
          0.5614035087719298,
          0.5614035087719298,
          0.5614035087719298,
          0.5614035087719298,
          0.5614035087719298,
          0.5614035087719298,
          0.5614035087719298,
          0.7159090909090909,
          0.7159090909090909,
          0.5614035087719298,
          0.5614035087719298,
          0.5614035087719298,
          0.5614035087719298,
          0.5614035087719298,
          0.5614035087719298,
          0.5614035087719298,
          0.5614035087719298,
          0.5614035087719298,
          0.5614035087719298,
          0.5614035087719298,
          0.5614035087719298,
          0.7159090909090909,
          0.7159090909090909,
          0.5614035087719298,
          0.5614035087719298,
          0.5614035087719298,
          0.5614035087719298,
          0.5614035087719298,
          0.5614035087719298,
          0.5614035087719298,
          0.5614035087719298,
          0.5614035087719298,
          0.5614035087719298,
          0.5614035087719298,
          0.5614035087719298,
          0.7159090909090909,
          0.7159090909090909,
          0.7159090909090909,
          0.5614035087719298,
          0.5614035087719298,
          0.5614035087719298,
          0.7159090909090909,
          0.7159090909090909,
          0.9428571428571428,
          0.9428571428571428,
          0.9428571428571428,
          0.5614035087719298,
          0.5614035087719298,
          0.5614035087719298,
          0.5614035087719298,
          0.5614035087719298,
          0.5614035087719298,
          0.7159090909090909,
          0.7159090909090909,
          0.7159090909090909,
          0.4714285714285714,
          0.4714285714285714,
          0.4714285714285714,
          0.7159090909090909,
          0.7159090909090909,
          0.7159090909090909,
          0.5614035087719298,
          0.5614035087719298,
          0.5614035087719298,
          0.5614035087719298,
          0.5614035087719298,
          0.5614035087719298,
          0.4714285714285714,
          0.4714285714285714,
          0.4714285714285714,
          0.5614035087719298,
          0.5614035087719298,
          0.5614035087719298,
          0.5614035087719298,
          0.5614035087719298,
          0.4714285714285714,
          0.4714285714285714,
          0.4714285714285714,
          0.4714285714285714,
          0.4714285714285714,
          0.4714285714285714,
          0.4714285714285714,
          0.4714285714285714,
          0.4714285714285714,
          0.5614035087719298,
          0.5614035087719298,
          0.5614035087719298,
          0.5614035087719298,
          0.5614035087719298,
          0.5614035087719298,
          0.5614035087719298,
          0.4714285714285714,
          0.4714285714285714,
          0.4714285714285714,
          0.5614035087719298,
          0.5614035087719298,
          0.5614035087719298,
          0.4714285714285714,
          0.4714285714285714,
          0.4714285714285714,
          0.5614035087719298,
          0.5614035087719298,
          0.5614035087719298,
          0.5614035087719298,
          0.5614035087719298,
          0.5614035087719298,
          0.5614035087719298,
          0.5614035087719298,
          0.4714285714285714,
          0.4714285714285714,
          0.4714285714285714,
          0.5614035087719298,
          0.5614035087719298,
          0.5614035087719298,
          0.4714285714285714,
          0.4714285714285714,
          0.7159090909090909,
          0.7159090909090909,
          0.7159090909090909,
          0.4714285714285714,
          0.4714285714285714,
          0.4714285714285714,
          0.5614035087719298,
          0.5614035087719298,
          0.5614035087719298,
          0.5614035087719298,
          0.5614035087719298,
          0.5614035087719298,
          0.5614035087719298,
          0.5614035087719298,
          0.5614035087719298,
          0.5614035087719298,
          0.5614035087719298,
          0.7159090909090909,
          0.7159090909090909,
          0.7159090909090909,
          0.7159090909090909,
          0.4714285714285714,
          0.4714285714285714,
          0.4714285714285714,
          0.7159090909090909,
          0.7159090909090909,
          0.5614035087719298,
          0.5614035087719298,
          0.5614035087719298,
          0.5614035087719298,
          0.5614035087719298,
          0.4714285714285714,
          0.4714285714285714,
          0.4714285714285714,
          0.7159090909090909,
          0.7159090909090909,
          0.7159090909090909,
          0.7159090909090909,
          0.5614035087719298,
          0.5614035087719298,
          0.5614035087719298,
          0.5614035087719298,
          0.5614035087719298,
          0.5614035087719298,
          0.5614035087719298,
          0.5614035087719298,
          0.5614035087719298,
          0.5614035087719298,
          0.5614035087719298,
          0.5614035087719298,
          0.5614035087719298,
          0.5614035087719298,
          0.4714285714285714,
          0.4714285714285714,
          0.4714285714285714,
          0.5614035087719298,
          0.5614035087719298,
          0.5614035087719298,
          0.5614035087719298,
          0.5614035087719298,
          0.5614035087719298,
          0.5614035087719298,
          0.4714285714285714,
          0.4714285714285714,
          0.4714285714285714,
          0.5614035087719298,
          0.5614035087719298,
          0.5614035087719298,
          0.9428571428571428,
          0.9428571428571428,
          0.5614035087719298,
          0.5614035087719298,
          0.5614035087719298,
          0.4714285714285714,
          0.4714285714285714,
          0.4714285714285714,
          0.7159090909090909,
          0.7159090909090909,
          0.9428571428571428,
          0.9428571428571428,
          0.7159090909090909,
          0.7159090909090909,
          0.7159090909090909,
          0.5614035087719298,
          0.5614035087719298,
          0.5614035087719298,
          0.7159090909090909,
          0.7159090909090909,
          0.7159090909090909,
          0.7159090909090909,
          0.7159090909090909,
          0.7159090909090909,
          0.7159090909090909,
          0.7159090909090909,
          0.9428571428571428,
          0.9428571428571428,
          0.9428571428571428,
          0.7159090909090909,
          0.7159090909090909,
          0.7159090909090909,
          0.7159090909090909,
          0.7159090909090909,
          0.7159090909090909,
          0.7159090909090909,
          0.7159090909090909,
          0.7159090909090909,
          0.9428571428571428,
          0.9428571428571428,
          0.9428571428571428,
          0.9428571428571428,
          0.7159090909090909,
          0.7159090909090909,
          0.9428571428571428,
          0.9428571428571428,
          0.9428571428571428,
          0.9428571428571428,
          0.7159090909090909,
          0.7159090909090909,
          0.7159090909090909,
          0.9428571428571428,
          0.9428571428571428,
          0.9428571428571428,
          0.9428571428571428,
          0.9428571428571428,
          0.4714285714285714,
          0.4714285714285714,
          0.4714285714285714,
          0.5614035087719298,
          0.5614035087719298,
          0.5614035087719298,
          0.7159090909090909,
          0.7159090909090909,
          0.7159090909090909,
          0.9428571428571428,
          0.9428571428571428,
          0.7159090909090909,
          0.7159090909090909,
          0.9428571428571428,
          0.9428571428571428,
          0.5614035087719298,
          0.5614035087719298,
          0.5614035087719298,
          0.5614035087719298,
          0.5614035087719298,
          0.5614035087719298,
          0.5614035087719298,
          0.5614035087719298,
          0.5614035087719298,
          0.7159090909090909,
          0.7159090909090909,
          0.7159090909090909,
          0.7159090909090909,
          0.9428571428571428,
          0.9428571428571428,
          0.9428571428571428,
          0.9428571428571428,
          0.7159090909090909,
          0.7159090909090909,
          0.7159090909090909,
          0.7159090909090909,
          0.7159090909090909,
          0.4714285714285714,
          0.4714285714285714,
          0.7159090909090909,
          0.7159090909090909,
          0.5614035087719298,
          0.5614035087719298,
          0.5614035087719298,
          0.5614035087719298,
          0.5614035087719298,
          0.5614035087719298,
          0.7159090909090909,
          0.7159090909090909,
          0.7159090909090909,
          0.5614035087719298,
          0.5614035087719298,
          0.5614035087719298,
          0.4714285714285714,
          0.4714285714285714,
          0.4714285714285714,
          0.4714285714285714,
          0.4714285714285714,
          0.4714285714285714,
          0.5614035087719298,
          0.4714285714285714,
          0.4714285714285714,
          0.4714285714285714,
          0.5614035087719298,
          0.5614035087719298,
          0.5614035087719298,
          0.5614035087719298,
          0.5614035087719298,
          0.5614035087719298,
          0.5614035087719298,
          0.5614035087719298,
          0.5614035087719298,
          0.7159090909090909,
          0.7159090909090909,
          0.7159090909090909,
          0.7159090909090909,
          0.7159090909090909
         ],
         "xaxis": "x",
         "yaxis": "y"
        }
       ],
       "layout": {
        "barmode": "relative",
        "legend": {
         "tracegroupgap": 0
        },
        "template": {
         "data": {
          "bar": [
           {
            "error_x": {
             "color": "#2a3f5f"
            },
            "error_y": {
             "color": "#2a3f5f"
            },
            "marker": {
             "line": {
              "color": "#E5ECF6",
              "width": 0.5
             },
             "pattern": {
              "fillmode": "overlay",
              "size": 10,
              "solidity": 0.2
             }
            },
            "type": "bar"
           }
          ],
          "barpolar": [
           {
            "marker": {
             "line": {
              "color": "#E5ECF6",
              "width": 0.5
             },
             "pattern": {
              "fillmode": "overlay",
              "size": 10,
              "solidity": 0.2
             }
            },
            "type": "barpolar"
           }
          ],
          "carpet": [
           {
            "aaxis": {
             "endlinecolor": "#2a3f5f",
             "gridcolor": "white",
             "linecolor": "white",
             "minorgridcolor": "white",
             "startlinecolor": "#2a3f5f"
            },
            "baxis": {
             "endlinecolor": "#2a3f5f",
             "gridcolor": "white",
             "linecolor": "white",
             "minorgridcolor": "white",
             "startlinecolor": "#2a3f5f"
            },
            "type": "carpet"
           }
          ],
          "choropleth": [
           {
            "colorbar": {
             "outlinewidth": 0,
             "ticks": ""
            },
            "type": "choropleth"
           }
          ],
          "contour": [
           {
            "colorbar": {
             "outlinewidth": 0,
             "ticks": ""
            },
            "colorscale": [
             [
              0,
              "#0d0887"
             ],
             [
              0.1111111111111111,
              "#46039f"
             ],
             [
              0.2222222222222222,
              "#7201a8"
             ],
             [
              0.3333333333333333,
              "#9c179e"
             ],
             [
              0.4444444444444444,
              "#bd3786"
             ],
             [
              0.5555555555555556,
              "#d8576b"
             ],
             [
              0.6666666666666666,
              "#ed7953"
             ],
             [
              0.7777777777777778,
              "#fb9f3a"
             ],
             [
              0.8888888888888888,
              "#fdca26"
             ],
             [
              1,
              "#f0f921"
             ]
            ],
            "type": "contour"
           }
          ],
          "contourcarpet": [
           {
            "colorbar": {
             "outlinewidth": 0,
             "ticks": ""
            },
            "type": "contourcarpet"
           }
          ],
          "heatmap": [
           {
            "colorbar": {
             "outlinewidth": 0,
             "ticks": ""
            },
            "colorscale": [
             [
              0,
              "#0d0887"
             ],
             [
              0.1111111111111111,
              "#46039f"
             ],
             [
              0.2222222222222222,
              "#7201a8"
             ],
             [
              0.3333333333333333,
              "#9c179e"
             ],
             [
              0.4444444444444444,
              "#bd3786"
             ],
             [
              0.5555555555555556,
              "#d8576b"
             ],
             [
              0.6666666666666666,
              "#ed7953"
             ],
             [
              0.7777777777777778,
              "#fb9f3a"
             ],
             [
              0.8888888888888888,
              "#fdca26"
             ],
             [
              1,
              "#f0f921"
             ]
            ],
            "type": "heatmap"
           }
          ],
          "heatmapgl": [
           {
            "colorbar": {
             "outlinewidth": 0,
             "ticks": ""
            },
            "colorscale": [
             [
              0,
              "#0d0887"
             ],
             [
              0.1111111111111111,
              "#46039f"
             ],
             [
              0.2222222222222222,
              "#7201a8"
             ],
             [
              0.3333333333333333,
              "#9c179e"
             ],
             [
              0.4444444444444444,
              "#bd3786"
             ],
             [
              0.5555555555555556,
              "#d8576b"
             ],
             [
              0.6666666666666666,
              "#ed7953"
             ],
             [
              0.7777777777777778,
              "#fb9f3a"
             ],
             [
              0.8888888888888888,
              "#fdca26"
             ],
             [
              1,
              "#f0f921"
             ]
            ],
            "type": "heatmapgl"
           }
          ],
          "histogram": [
           {
            "marker": {
             "pattern": {
              "fillmode": "overlay",
              "size": 10,
              "solidity": 0.2
             }
            },
            "type": "histogram"
           }
          ],
          "histogram2d": [
           {
            "colorbar": {
             "outlinewidth": 0,
             "ticks": ""
            },
            "colorscale": [
             [
              0,
              "#0d0887"
             ],
             [
              0.1111111111111111,
              "#46039f"
             ],
             [
              0.2222222222222222,
              "#7201a8"
             ],
             [
              0.3333333333333333,
              "#9c179e"
             ],
             [
              0.4444444444444444,
              "#bd3786"
             ],
             [
              0.5555555555555556,
              "#d8576b"
             ],
             [
              0.6666666666666666,
              "#ed7953"
             ],
             [
              0.7777777777777778,
              "#fb9f3a"
             ],
             [
              0.8888888888888888,
              "#fdca26"
             ],
             [
              1,
              "#f0f921"
             ]
            ],
            "type": "histogram2d"
           }
          ],
          "histogram2dcontour": [
           {
            "colorbar": {
             "outlinewidth": 0,
             "ticks": ""
            },
            "colorscale": [
             [
              0,
              "#0d0887"
             ],
             [
              0.1111111111111111,
              "#46039f"
             ],
             [
              0.2222222222222222,
              "#7201a8"
             ],
             [
              0.3333333333333333,
              "#9c179e"
             ],
             [
              0.4444444444444444,
              "#bd3786"
             ],
             [
              0.5555555555555556,
              "#d8576b"
             ],
             [
              0.6666666666666666,
              "#ed7953"
             ],
             [
              0.7777777777777778,
              "#fb9f3a"
             ],
             [
              0.8888888888888888,
              "#fdca26"
             ],
             [
              1,
              "#f0f921"
             ]
            ],
            "type": "histogram2dcontour"
           }
          ],
          "mesh3d": [
           {
            "colorbar": {
             "outlinewidth": 0,
             "ticks": ""
            },
            "type": "mesh3d"
           }
          ],
          "parcoords": [
           {
            "line": {
             "colorbar": {
              "outlinewidth": 0,
              "ticks": ""
             }
            },
            "type": "parcoords"
           }
          ],
          "pie": [
           {
            "automargin": true,
            "type": "pie"
           }
          ],
          "scatter": [
           {
            "fillpattern": {
             "fillmode": "overlay",
             "size": 10,
             "solidity": 0.2
            },
            "type": "scatter"
           }
          ],
          "scatter3d": [
           {
            "line": {
             "colorbar": {
              "outlinewidth": 0,
              "ticks": ""
             }
            },
            "marker": {
             "colorbar": {
              "outlinewidth": 0,
              "ticks": ""
             }
            },
            "type": "scatter3d"
           }
          ],
          "scattercarpet": [
           {
            "marker": {
             "colorbar": {
              "outlinewidth": 0,
              "ticks": ""
             }
            },
            "type": "scattercarpet"
           }
          ],
          "scattergeo": [
           {
            "marker": {
             "colorbar": {
              "outlinewidth": 0,
              "ticks": ""
             }
            },
            "type": "scattergeo"
           }
          ],
          "scattergl": [
           {
            "marker": {
             "colorbar": {
              "outlinewidth": 0,
              "ticks": ""
             }
            },
            "type": "scattergl"
           }
          ],
          "scattermapbox": [
           {
            "marker": {
             "colorbar": {
              "outlinewidth": 0,
              "ticks": ""
             }
            },
            "type": "scattermapbox"
           }
          ],
          "scatterpolar": [
           {
            "marker": {
             "colorbar": {
              "outlinewidth": 0,
              "ticks": ""
             }
            },
            "type": "scatterpolar"
           }
          ],
          "scatterpolargl": [
           {
            "marker": {
             "colorbar": {
              "outlinewidth": 0,
              "ticks": ""
             }
            },
            "type": "scatterpolargl"
           }
          ],
          "scatterternary": [
           {
            "marker": {
             "colorbar": {
              "outlinewidth": 0,
              "ticks": ""
             }
            },
            "type": "scatterternary"
           }
          ],
          "surface": [
           {
            "colorbar": {
             "outlinewidth": 0,
             "ticks": ""
            },
            "colorscale": [
             [
              0,
              "#0d0887"
             ],
             [
              0.1111111111111111,
              "#46039f"
             ],
             [
              0.2222222222222222,
              "#7201a8"
             ],
             [
              0.3333333333333333,
              "#9c179e"
             ],
             [
              0.4444444444444444,
              "#bd3786"
             ],
             [
              0.5555555555555556,
              "#d8576b"
             ],
             [
              0.6666666666666666,
              "#ed7953"
             ],
             [
              0.7777777777777778,
              "#fb9f3a"
             ],
             [
              0.8888888888888888,
              "#fdca26"
             ],
             [
              1,
              "#f0f921"
             ]
            ],
            "type": "surface"
           }
          ],
          "table": [
           {
            "cells": {
             "fill": {
              "color": "#EBF0F8"
             },
             "line": {
              "color": "white"
             }
            },
            "header": {
             "fill": {
              "color": "#C8D4E3"
             },
             "line": {
              "color": "white"
             }
            },
            "type": "table"
           }
          ]
         },
         "layout": {
          "annotationdefaults": {
           "arrowcolor": "#2a3f5f",
           "arrowhead": 0,
           "arrowwidth": 1
          },
          "autotypenumbers": "strict",
          "coloraxis": {
           "colorbar": {
            "outlinewidth": 0,
            "ticks": ""
           }
          },
          "colorscale": {
           "diverging": [
            [
             0,
             "#8e0152"
            ],
            [
             0.1,
             "#c51b7d"
            ],
            [
             0.2,
             "#de77ae"
            ],
            [
             0.3,
             "#f1b6da"
            ],
            [
             0.4,
             "#fde0ef"
            ],
            [
             0.5,
             "#f7f7f7"
            ],
            [
             0.6,
             "#e6f5d0"
            ],
            [
             0.7,
             "#b8e186"
            ],
            [
             0.8,
             "#7fbc41"
            ],
            [
             0.9,
             "#4d9221"
            ],
            [
             1,
             "#276419"
            ]
           ],
           "sequential": [
            [
             0,
             "#0d0887"
            ],
            [
             0.1111111111111111,
             "#46039f"
            ],
            [
             0.2222222222222222,
             "#7201a8"
            ],
            [
             0.3333333333333333,
             "#9c179e"
            ],
            [
             0.4444444444444444,
             "#bd3786"
            ],
            [
             0.5555555555555556,
             "#d8576b"
            ],
            [
             0.6666666666666666,
             "#ed7953"
            ],
            [
             0.7777777777777778,
             "#fb9f3a"
            ],
            [
             0.8888888888888888,
             "#fdca26"
            ],
            [
             1,
             "#f0f921"
            ]
           ],
           "sequentialminus": [
            [
             0,
             "#0d0887"
            ],
            [
             0.1111111111111111,
             "#46039f"
            ],
            [
             0.2222222222222222,
             "#7201a8"
            ],
            [
             0.3333333333333333,
             "#9c179e"
            ],
            [
             0.4444444444444444,
             "#bd3786"
            ],
            [
             0.5555555555555556,
             "#d8576b"
            ],
            [
             0.6666666666666666,
             "#ed7953"
            ],
            [
             0.7777777777777778,
             "#fb9f3a"
            ],
            [
             0.8888888888888888,
             "#fdca26"
            ],
            [
             1,
             "#f0f921"
            ]
           ]
          },
          "colorway": [
           "#636efa",
           "#EF553B",
           "#00cc96",
           "#ab63fa",
           "#FFA15A",
           "#19d3f3",
           "#FF6692",
           "#B6E880",
           "#FF97FF",
           "#FECB52"
          ],
          "font": {
           "color": "#2a3f5f"
          },
          "geo": {
           "bgcolor": "white",
           "lakecolor": "white",
           "landcolor": "#E5ECF6",
           "showlakes": true,
           "showland": true,
           "subunitcolor": "white"
          },
          "hoverlabel": {
           "align": "left"
          },
          "hovermode": "closest",
          "mapbox": {
           "style": "light"
          },
          "paper_bgcolor": "white",
          "plot_bgcolor": "#E5ECF6",
          "polar": {
           "angularaxis": {
            "gridcolor": "white",
            "linecolor": "white",
            "ticks": ""
           },
           "bgcolor": "#E5ECF6",
           "radialaxis": {
            "gridcolor": "white",
            "linecolor": "white",
            "ticks": ""
           }
          },
          "scene": {
           "xaxis": {
            "backgroundcolor": "#E5ECF6",
            "gridcolor": "white",
            "gridwidth": 2,
            "linecolor": "white",
            "showbackground": true,
            "ticks": "",
            "zerolinecolor": "white"
           },
           "yaxis": {
            "backgroundcolor": "#E5ECF6",
            "gridcolor": "white",
            "gridwidth": 2,
            "linecolor": "white",
            "showbackground": true,
            "ticks": "",
            "zerolinecolor": "white"
           },
           "zaxis": {
            "backgroundcolor": "#E5ECF6",
            "gridcolor": "white",
            "gridwidth": 2,
            "linecolor": "white",
            "showbackground": true,
            "ticks": "",
            "zerolinecolor": "white"
           }
          },
          "shapedefaults": {
           "line": {
            "color": "#2a3f5f"
           }
          },
          "ternary": {
           "aaxis": {
            "gridcolor": "white",
            "linecolor": "white",
            "ticks": ""
           },
           "baxis": {
            "gridcolor": "white",
            "linecolor": "white",
            "ticks": ""
           },
           "bgcolor": "#E5ECF6",
           "caxis": {
            "gridcolor": "white",
            "linecolor": "white",
            "ticks": ""
           }
          },
          "title": {
           "x": 0.05
          },
          "xaxis": {
           "automargin": true,
           "gridcolor": "white",
           "linecolor": "white",
           "ticks": "",
           "title": {
            "standoff": 15
           },
           "zerolinecolor": "white",
           "zerolinewidth": 2
          },
          "yaxis": {
           "automargin": true,
           "gridcolor": "white",
           "linecolor": "white",
           "ticks": "",
           "title": {
            "standoff": 15
           },
           "zerolinecolor": "white",
           "zerolinewidth": 2
          }
         }
        },
        "title": {
         "text": "Transformer"
        },
        "xaxis": {
         "anchor": "y",
         "domain": [
          0,
          1
         ],
         "title": {
          "text": "x"
         }
        },
        "yaxis": {
         "anchor": "x",
         "domain": [
          0,
          1
         ],
         "title": {
          "text": "count"
         }
        }
       }
      }
     },
     "metadata": {},
     "output_type": "display_data"
    }
   ],
   "source": [
    "fig3 = px.histogram(df, x=transformer, title='Transformer')\n",
    "fig3.show()"
   ]
  },
  {
   "cell_type": "code",
   "execution_count": 52,
   "metadata": {},
   "outputs": [
    {
     "data": {
      "application/vnd.plotly.v1+json": {
       "config": {
        "plotlyServerURL": "https://plot.ly"
       },
       "data": [
        {
         "name": "FFNN",
         "opacity": 0.75,
         "type": "histogram",
         "x": [
          0.7368421052631579,
          0.7368421052631579,
          0.7368421052631579,
          0.7368421052631579,
          0.7368421052631579,
          0.9428571428571428,
          0.9428571428571428,
          0.8977272727272727,
          0.8977272727272727,
          0.8977272727272727,
          0.7368421052631579,
          0.7368421052631579,
          0.7368421052631579,
          0.7368421052631579,
          0.7368421052631579,
          0.7368421052631579,
          0.7368421052631579,
          0.7368421052631579,
          0.7368421052631579,
          0.8977272727272727,
          0.8977272727272727,
          0.8977272727272727,
          0.8977272727272727,
          0.8977272727272727,
          0.8977272727272727,
          0.38571428571428573,
          0.38571428571428573,
          0.38571428571428573,
          0.7368421052631579,
          0.7368421052631579,
          0.7368421052631579,
          0.38571428571428573,
          0.38571428571428573,
          0.38571428571428573,
          0.38571428571428573,
          0.38571428571428573,
          0.38571428571428573,
          0.38571428571428573,
          0.38571428571428573,
          0.38571428571428573,
          0.7368421052631579,
          0.7368421052631579,
          0.7368421052631579,
          0.9428571428571428,
          0.9428571428571428,
          0.7368421052631579,
          0.7368421052631579,
          0.7368421052631579,
          0.7368421052631579,
          0.7368421052631579,
          0.7368421052631579,
          0.7368421052631579,
          0.7368421052631579,
          0.7368421052631579,
          0.8977272727272727,
          0.8977272727272727,
          0.7368421052631579,
          0.7368421052631579,
          0.7368421052631579,
          0.7368421052631579,
          0.7368421052631579,
          0.7368421052631579,
          0.7368421052631579,
          0.7368421052631579,
          0.7368421052631579,
          0.7368421052631579,
          0.7368421052631579,
          0.7368421052631579,
          0.8977272727272727,
          0.8977272727272727,
          0.7368421052631579,
          0.7368421052631579,
          0.7368421052631579,
          0.7368421052631579,
          0.7368421052631579,
          0.7368421052631579,
          0.7368421052631579,
          0.7368421052631579,
          0.7368421052631579,
          0.7368421052631579,
          0.7368421052631579,
          0.7368421052631579,
          0.8977272727272727,
          0.8977272727272727,
          0.8977272727272727,
          0.7368421052631579,
          0.7368421052631579,
          0.7368421052631579,
          0.8977272727272727,
          0.8977272727272727,
          0.9428571428571428,
          0.9428571428571428,
          0.9428571428571428,
          0.7368421052631579,
          0.7368421052631579,
          0.7368421052631579,
          0.7368421052631579,
          0.7368421052631579,
          0.7368421052631579,
          0.8977272727272727,
          0.8977272727272727,
          0.8977272727272727,
          0.38571428571428573,
          0.38571428571428573,
          0.38571428571428573,
          0.8977272727272727,
          0.8977272727272727,
          0.8977272727272727,
          0.7368421052631579,
          0.7368421052631579,
          0.7368421052631579,
          0.7368421052631579,
          0.7368421052631579,
          0.7368421052631579,
          0.38571428571428573,
          0.38571428571428573,
          0.38571428571428573,
          0.7368421052631579,
          0.7368421052631579,
          0.7368421052631579,
          0.7368421052631579,
          0.7368421052631579,
          0.38571428571428573,
          0.38571428571428573,
          0.38571428571428573,
          0.38571428571428573,
          0.38571428571428573,
          0.38571428571428573,
          0.38571428571428573,
          0.38571428571428573,
          0.38571428571428573,
          0.7368421052631579,
          0.7368421052631579,
          0.7368421052631579,
          0.7368421052631579,
          0.7368421052631579,
          0.7368421052631579,
          0.7368421052631579,
          0.38571428571428573,
          0.38571428571428573,
          0.38571428571428573,
          0.7368421052631579,
          0.7368421052631579,
          0.7368421052631579,
          0.38571428571428573,
          0.38571428571428573,
          0.38571428571428573,
          0.7368421052631579,
          0.7368421052631579,
          0.7368421052631579,
          0.7368421052631579,
          0.7368421052631579,
          0.7368421052631579,
          0.7368421052631579,
          0.7368421052631579,
          0.38571428571428573,
          0.38571428571428573,
          0.38571428571428573,
          0.7368421052631579,
          0.7368421052631579,
          0.7368421052631579,
          0.38571428571428573,
          0.38571428571428573,
          0.8977272727272727,
          0.8977272727272727,
          0.8977272727272727,
          0.38571428571428573,
          0.38571428571428573,
          0.38571428571428573,
          0.7368421052631579,
          0.7368421052631579,
          0.7368421052631579,
          0.7368421052631579,
          0.7368421052631579,
          0.7368421052631579,
          0.7368421052631579,
          0.7368421052631579,
          0.7368421052631579,
          0.7368421052631579,
          0.7368421052631579,
          0.8977272727272727,
          0.8977272727272727,
          0.8977272727272727,
          0.8977272727272727,
          0.38571428571428573,
          0.38571428571428573,
          0.38571428571428573,
          0.8977272727272727,
          0.8977272727272727,
          0.7368421052631579,
          0.7368421052631579,
          0.7368421052631579,
          0.7368421052631579,
          0.7368421052631579,
          0.38571428571428573,
          0.38571428571428573,
          0.38571428571428573,
          0.8977272727272727,
          0.8977272727272727,
          0.8977272727272727,
          0.8977272727272727,
          0.7368421052631579,
          0.7368421052631579,
          0.7368421052631579,
          0.7368421052631579,
          0.7368421052631579,
          0.7368421052631579,
          0.7368421052631579,
          0.7368421052631579,
          0.7368421052631579,
          0.7368421052631579,
          0.7368421052631579,
          0.7368421052631579,
          0.7368421052631579,
          0.7368421052631579,
          0.38571428571428573,
          0.38571428571428573,
          0.38571428571428573,
          0.7368421052631579,
          0.7368421052631579,
          0.7368421052631579,
          0.7368421052631579,
          0.7368421052631579,
          0.7368421052631579,
          0.7368421052631579,
          0.38571428571428573,
          0.38571428571428573,
          0.38571428571428573,
          0.7368421052631579,
          0.7368421052631579,
          0.7368421052631579,
          0.9428571428571428,
          0.9428571428571428,
          0.7368421052631579,
          0.7368421052631579,
          0.7368421052631579,
          0.38571428571428573,
          0.38571428571428573,
          0.38571428571428573,
          0.8977272727272727,
          0.8977272727272727,
          0.9428571428571428,
          0.9428571428571428,
          0.8977272727272727,
          0.8977272727272727,
          0.8977272727272727,
          0.7368421052631579,
          0.7368421052631579,
          0.7368421052631579,
          0.8977272727272727,
          0.8977272727272727,
          0.8977272727272727,
          0.8977272727272727,
          0.8977272727272727,
          0.8977272727272727,
          0.8977272727272727,
          0.8977272727272727,
          0.9428571428571428,
          0.9428571428571428,
          0.9428571428571428,
          0.8977272727272727,
          0.8977272727272727,
          0.8977272727272727,
          0.8977272727272727,
          0.8977272727272727,
          0.8977272727272727,
          0.8977272727272727,
          0.8977272727272727,
          0.8977272727272727,
          0.9428571428571428,
          0.9428571428571428,
          0.9428571428571428,
          0.9428571428571428,
          0.8977272727272727,
          0.8977272727272727,
          0.9428571428571428,
          0.9428571428571428,
          0.9428571428571428,
          0.9428571428571428,
          0.8977272727272727,
          0.8977272727272727,
          0.8977272727272727,
          0.9428571428571428,
          0.9428571428571428,
          0.9428571428571428,
          0.9428571428571428,
          0.9428571428571428,
          0.38571428571428573,
          0.38571428571428573,
          0.38571428571428573,
          0.7368421052631579,
          0.7368421052631579,
          0.7368421052631579,
          0.8977272727272727,
          0.8977272727272727,
          0.8977272727272727,
          0.9428571428571428,
          0.9428571428571428,
          0.8977272727272727,
          0.8977272727272727,
          0.9428571428571428,
          0.9428571428571428,
          0.7368421052631579,
          0.7368421052631579,
          0.7368421052631579,
          0.7368421052631579,
          0.7368421052631579,
          0.7368421052631579,
          0.7368421052631579,
          0.7368421052631579,
          0.7368421052631579,
          0.8977272727272727,
          0.8977272727272727,
          0.8977272727272727,
          0.8977272727272727,
          0.9428571428571428,
          0.9428571428571428,
          0.9428571428571428,
          0.9428571428571428,
          0.8977272727272727,
          0.8977272727272727,
          0.8977272727272727,
          0.8977272727272727,
          0.8977272727272727,
          0.38571428571428573,
          0.38571428571428573,
          0.8977272727272727,
          0.8977272727272727,
          0.7368421052631579,
          0.7368421052631579,
          0.7368421052631579,
          0.7368421052631579,
          0.7368421052631579,
          0.7368421052631579,
          0.8977272727272727,
          0.8977272727272727,
          0.8977272727272727,
          0.7368421052631579,
          0.7368421052631579,
          0.7368421052631579,
          0.38571428571428573,
          0.38571428571428573,
          0.38571428571428573,
          0.38571428571428573,
          0.38571428571428573,
          0.38571428571428573,
          0.7368421052631579,
          0.38571428571428573,
          0.38571428571428573,
          0.38571428571428573,
          0.7368421052631579,
          0.7368421052631579,
          0.7368421052631579,
          0.7368421052631579,
          0.7368421052631579,
          0.7368421052631579,
          0.7368421052631579,
          0.7368421052631579,
          0.7368421052631579,
          0.8977272727272727,
          0.8977272727272727,
          0.8977272727272727,
          0.8977272727272727,
          0.8977272727272727
         ]
        },
        {
         "name": "XGBoost",
         "opacity": 0.75,
         "type": "histogram",
         "x": [
          0.39766081871345027,
          0.39766081871345027,
          0.39766081871345027,
          0.39766081871345027,
          0.39766081871345027,
          0.8285714285714286,
          0.8285714285714286,
          0.75,
          0.75,
          0.75,
          0.39766081871345027,
          0.39766081871345027,
          0.39766081871345027,
          0.39766081871345027,
          0.39766081871345027,
          0.39766081871345027,
          0.39766081871345027,
          0.39766081871345027,
          0.39766081871345027,
          0.75,
          0.75,
          0.75,
          0.75,
          0.75,
          0.75,
          0.3,
          0.3,
          0.3,
          0.39766081871345027,
          0.39766081871345027,
          0.39766081871345027,
          0.3,
          0.3,
          0.3,
          0.3,
          0.3,
          0.3,
          0.3,
          0.3,
          0.3,
          0.39766081871345027,
          0.39766081871345027,
          0.39766081871345027,
          0.8285714285714286,
          0.8285714285714286,
          0.39766081871345027,
          0.39766081871345027,
          0.39766081871345027,
          0.39766081871345027,
          0.39766081871345027,
          0.39766081871345027,
          0.39766081871345027,
          0.39766081871345027,
          0.39766081871345027,
          0.75,
          0.75,
          0.39766081871345027,
          0.39766081871345027,
          0.39766081871345027,
          0.39766081871345027,
          0.39766081871345027,
          0.39766081871345027,
          0.39766081871345027,
          0.39766081871345027,
          0.39766081871345027,
          0.39766081871345027,
          0.39766081871345027,
          0.39766081871345027,
          0.75,
          0.75,
          0.39766081871345027,
          0.39766081871345027,
          0.39766081871345027,
          0.39766081871345027,
          0.39766081871345027,
          0.39766081871345027,
          0.39766081871345027,
          0.39766081871345027,
          0.39766081871345027,
          0.39766081871345027,
          0.39766081871345027,
          0.39766081871345027,
          0.75,
          0.75,
          0.75,
          0.39766081871345027,
          0.39766081871345027,
          0.39766081871345027,
          0.75,
          0.75,
          0.8285714285714286,
          0.8285714285714286,
          0.8285714285714286,
          0.39766081871345027,
          0.39766081871345027,
          0.39766081871345027,
          0.39766081871345027,
          0.39766081871345027,
          0.39766081871345027,
          0.75,
          0.75,
          0.75,
          0.3,
          0.3,
          0.3,
          0.75,
          0.75,
          0.75,
          0.39766081871345027,
          0.39766081871345027,
          0.39766081871345027,
          0.39766081871345027,
          0.39766081871345027,
          0.39766081871345027,
          0.3,
          0.3,
          0.3,
          0.39766081871345027,
          0.39766081871345027,
          0.39766081871345027,
          0.39766081871345027,
          0.39766081871345027,
          0.3,
          0.3,
          0.3,
          0.3,
          0.3,
          0.3,
          0.3,
          0.3,
          0.3,
          0.39766081871345027,
          0.39766081871345027,
          0.39766081871345027,
          0.39766081871345027,
          0.39766081871345027,
          0.39766081871345027,
          0.39766081871345027,
          0.3,
          0.3,
          0.3,
          0.39766081871345027,
          0.39766081871345027,
          0.39766081871345027,
          0.3,
          0.3,
          0.3,
          0.39766081871345027,
          0.39766081871345027,
          0.39766081871345027,
          0.39766081871345027,
          0.39766081871345027,
          0.39766081871345027,
          0.39766081871345027,
          0.39766081871345027,
          0.3,
          0.3,
          0.3,
          0.39766081871345027,
          0.39766081871345027,
          0.39766081871345027,
          0.3,
          0.3,
          0.75,
          0.75,
          0.75,
          0.3,
          0.3,
          0.3,
          0.39766081871345027,
          0.39766081871345027,
          0.39766081871345027,
          0.39766081871345027,
          0.39766081871345027,
          0.39766081871345027,
          0.39766081871345027,
          0.39766081871345027,
          0.39766081871345027,
          0.39766081871345027,
          0.39766081871345027,
          0.75,
          0.75,
          0.75,
          0.75,
          0.3,
          0.3,
          0.3,
          0.75,
          0.75,
          0.39766081871345027,
          0.39766081871345027,
          0.39766081871345027,
          0.39766081871345027,
          0.39766081871345027,
          0.3,
          0.3,
          0.3,
          0.75,
          0.75,
          0.75,
          0.75,
          0.39766081871345027,
          0.39766081871345027,
          0.39766081871345027,
          0.39766081871345027,
          0.39766081871345027,
          0.39766081871345027,
          0.39766081871345027,
          0.39766081871345027,
          0.39766081871345027,
          0.39766081871345027,
          0.39766081871345027,
          0.39766081871345027,
          0.39766081871345027,
          0.39766081871345027,
          0.3,
          0.3,
          0.3,
          0.39766081871345027,
          0.39766081871345027,
          0.39766081871345027,
          0.39766081871345027,
          0.39766081871345027,
          0.39766081871345027,
          0.39766081871345027,
          0.3,
          0.3,
          0.3,
          0.39766081871345027,
          0.39766081871345027,
          0.39766081871345027,
          0.8285714285714286,
          0.8285714285714286,
          0.39766081871345027,
          0.39766081871345027,
          0.39766081871345027,
          0.3,
          0.3,
          0.3,
          0.75,
          0.75,
          0.8285714285714286,
          0.8285714285714286,
          0.75,
          0.75,
          0.75,
          0.39766081871345027,
          0.39766081871345027,
          0.39766081871345027,
          0.75,
          0.75,
          0.75,
          0.75,
          0.75,
          0.75,
          0.75,
          0.75,
          0.8285714285714286,
          0.8285714285714286,
          0.8285714285714286,
          0.75,
          0.75,
          0.75,
          0.75,
          0.75,
          0.75,
          0.75,
          0.75,
          0.75,
          0.8285714285714286,
          0.8285714285714286,
          0.8285714285714286,
          0.8285714285714286,
          0.75,
          0.75,
          0.8285714285714286,
          0.8285714285714286,
          0.8285714285714286,
          0.8285714285714286,
          0.75,
          0.75,
          0.75,
          0.8285714285714286,
          0.8285714285714286,
          0.8285714285714286,
          0.8285714285714286,
          0.8285714285714286,
          0.3,
          0.3,
          0.3,
          0.39766081871345027,
          0.39766081871345027,
          0.39766081871345027,
          0.75,
          0.75,
          0.75,
          0.8285714285714286,
          0.8285714285714286,
          0.75,
          0.75,
          0.8285714285714286,
          0.8285714285714286,
          0.39766081871345027,
          0.39766081871345027,
          0.39766081871345027,
          0.39766081871345027,
          0.39766081871345027,
          0.39766081871345027,
          0.39766081871345027,
          0.39766081871345027,
          0.39766081871345027,
          0.75,
          0.75,
          0.75,
          0.75,
          0.8285714285714286,
          0.8285714285714286,
          0.8285714285714286,
          0.8285714285714286,
          0.75,
          0.75,
          0.75,
          0.75,
          0.75,
          0.3,
          0.3,
          0.75,
          0.75,
          0.39766081871345027,
          0.39766081871345027,
          0.39766081871345027,
          0.39766081871345027,
          0.39766081871345027,
          0.39766081871345027,
          0.75,
          0.75,
          0.75,
          0.39766081871345027,
          0.39766081871345027,
          0.39766081871345027,
          0.3,
          0.3,
          0.3,
          0.3,
          0.3,
          0.3,
          0.39766081871345027,
          0.3,
          0.3,
          0.3,
          0.39766081871345027,
          0.39766081871345027,
          0.39766081871345027,
          0.39766081871345027,
          0.39766081871345027,
          0.39766081871345027,
          0.39766081871345027,
          0.39766081871345027,
          0.39766081871345027,
          0.75,
          0.75,
          0.75,
          0.75,
          0.75
         ]
        },
        {
         "name": "Transformer",
         "opacity": 0.75,
         "type": "histogram",
         "x": [
          0.5614035087719298,
          0.5614035087719298,
          0.5614035087719298,
          0.5614035087719298,
          0.5614035087719298,
          0.9428571428571428,
          0.9428571428571428,
          0.7159090909090909,
          0.7159090909090909,
          0.7159090909090909,
          0.5614035087719298,
          0.5614035087719298,
          0.5614035087719298,
          0.5614035087719298,
          0.5614035087719298,
          0.5614035087719298,
          0.5614035087719298,
          0.5614035087719298,
          0.5614035087719298,
          0.7159090909090909,
          0.7159090909090909,
          0.7159090909090909,
          0.7159090909090909,
          0.7159090909090909,
          0.7159090909090909,
          0.4714285714285714,
          0.4714285714285714,
          0.4714285714285714,
          0.5614035087719298,
          0.5614035087719298,
          0.5614035087719298,
          0.4714285714285714,
          0.4714285714285714,
          0.4714285714285714,
          0.4714285714285714,
          0.4714285714285714,
          0.4714285714285714,
          0.4714285714285714,
          0.4714285714285714,
          0.4714285714285714,
          0.5614035087719298,
          0.5614035087719298,
          0.5614035087719298,
          0.9428571428571428,
          0.9428571428571428,
          0.5614035087719298,
          0.5614035087719298,
          0.5614035087719298,
          0.5614035087719298,
          0.5614035087719298,
          0.5614035087719298,
          0.5614035087719298,
          0.5614035087719298,
          0.5614035087719298,
          0.7159090909090909,
          0.7159090909090909,
          0.5614035087719298,
          0.5614035087719298,
          0.5614035087719298,
          0.5614035087719298,
          0.5614035087719298,
          0.5614035087719298,
          0.5614035087719298,
          0.5614035087719298,
          0.5614035087719298,
          0.5614035087719298,
          0.5614035087719298,
          0.5614035087719298,
          0.7159090909090909,
          0.7159090909090909,
          0.5614035087719298,
          0.5614035087719298,
          0.5614035087719298,
          0.5614035087719298,
          0.5614035087719298,
          0.5614035087719298,
          0.5614035087719298,
          0.5614035087719298,
          0.5614035087719298,
          0.5614035087719298,
          0.5614035087719298,
          0.5614035087719298,
          0.7159090909090909,
          0.7159090909090909,
          0.7159090909090909,
          0.5614035087719298,
          0.5614035087719298,
          0.5614035087719298,
          0.7159090909090909,
          0.7159090909090909,
          0.9428571428571428,
          0.9428571428571428,
          0.9428571428571428,
          0.5614035087719298,
          0.5614035087719298,
          0.5614035087719298,
          0.5614035087719298,
          0.5614035087719298,
          0.5614035087719298,
          0.7159090909090909,
          0.7159090909090909,
          0.7159090909090909,
          0.4714285714285714,
          0.4714285714285714,
          0.4714285714285714,
          0.7159090909090909,
          0.7159090909090909,
          0.7159090909090909,
          0.5614035087719298,
          0.5614035087719298,
          0.5614035087719298,
          0.5614035087719298,
          0.5614035087719298,
          0.5614035087719298,
          0.4714285714285714,
          0.4714285714285714,
          0.4714285714285714,
          0.5614035087719298,
          0.5614035087719298,
          0.5614035087719298,
          0.5614035087719298,
          0.5614035087719298,
          0.4714285714285714,
          0.4714285714285714,
          0.4714285714285714,
          0.4714285714285714,
          0.4714285714285714,
          0.4714285714285714,
          0.4714285714285714,
          0.4714285714285714,
          0.4714285714285714,
          0.5614035087719298,
          0.5614035087719298,
          0.5614035087719298,
          0.5614035087719298,
          0.5614035087719298,
          0.5614035087719298,
          0.5614035087719298,
          0.4714285714285714,
          0.4714285714285714,
          0.4714285714285714,
          0.5614035087719298,
          0.5614035087719298,
          0.5614035087719298,
          0.4714285714285714,
          0.4714285714285714,
          0.4714285714285714,
          0.5614035087719298,
          0.5614035087719298,
          0.5614035087719298,
          0.5614035087719298,
          0.5614035087719298,
          0.5614035087719298,
          0.5614035087719298,
          0.5614035087719298,
          0.4714285714285714,
          0.4714285714285714,
          0.4714285714285714,
          0.5614035087719298,
          0.5614035087719298,
          0.5614035087719298,
          0.4714285714285714,
          0.4714285714285714,
          0.7159090909090909,
          0.7159090909090909,
          0.7159090909090909,
          0.4714285714285714,
          0.4714285714285714,
          0.4714285714285714,
          0.5614035087719298,
          0.5614035087719298,
          0.5614035087719298,
          0.5614035087719298,
          0.5614035087719298,
          0.5614035087719298,
          0.5614035087719298,
          0.5614035087719298,
          0.5614035087719298,
          0.5614035087719298,
          0.5614035087719298,
          0.7159090909090909,
          0.7159090909090909,
          0.7159090909090909,
          0.7159090909090909,
          0.4714285714285714,
          0.4714285714285714,
          0.4714285714285714,
          0.7159090909090909,
          0.7159090909090909,
          0.5614035087719298,
          0.5614035087719298,
          0.5614035087719298,
          0.5614035087719298,
          0.5614035087719298,
          0.4714285714285714,
          0.4714285714285714,
          0.4714285714285714,
          0.7159090909090909,
          0.7159090909090909,
          0.7159090909090909,
          0.7159090909090909,
          0.5614035087719298,
          0.5614035087719298,
          0.5614035087719298,
          0.5614035087719298,
          0.5614035087719298,
          0.5614035087719298,
          0.5614035087719298,
          0.5614035087719298,
          0.5614035087719298,
          0.5614035087719298,
          0.5614035087719298,
          0.5614035087719298,
          0.5614035087719298,
          0.5614035087719298,
          0.4714285714285714,
          0.4714285714285714,
          0.4714285714285714,
          0.5614035087719298,
          0.5614035087719298,
          0.5614035087719298,
          0.5614035087719298,
          0.5614035087719298,
          0.5614035087719298,
          0.5614035087719298,
          0.4714285714285714,
          0.4714285714285714,
          0.4714285714285714,
          0.5614035087719298,
          0.5614035087719298,
          0.5614035087719298,
          0.9428571428571428,
          0.9428571428571428,
          0.5614035087719298,
          0.5614035087719298,
          0.5614035087719298,
          0.4714285714285714,
          0.4714285714285714,
          0.4714285714285714,
          0.7159090909090909,
          0.7159090909090909,
          0.9428571428571428,
          0.9428571428571428,
          0.7159090909090909,
          0.7159090909090909,
          0.7159090909090909,
          0.5614035087719298,
          0.5614035087719298,
          0.5614035087719298,
          0.7159090909090909,
          0.7159090909090909,
          0.7159090909090909,
          0.7159090909090909,
          0.7159090909090909,
          0.7159090909090909,
          0.7159090909090909,
          0.7159090909090909,
          0.9428571428571428,
          0.9428571428571428,
          0.9428571428571428,
          0.7159090909090909,
          0.7159090909090909,
          0.7159090909090909,
          0.7159090909090909,
          0.7159090909090909,
          0.7159090909090909,
          0.7159090909090909,
          0.7159090909090909,
          0.7159090909090909,
          0.9428571428571428,
          0.9428571428571428,
          0.9428571428571428,
          0.9428571428571428,
          0.7159090909090909,
          0.7159090909090909,
          0.9428571428571428,
          0.9428571428571428,
          0.9428571428571428,
          0.9428571428571428,
          0.7159090909090909,
          0.7159090909090909,
          0.7159090909090909,
          0.9428571428571428,
          0.9428571428571428,
          0.9428571428571428,
          0.9428571428571428,
          0.9428571428571428,
          0.4714285714285714,
          0.4714285714285714,
          0.4714285714285714,
          0.5614035087719298,
          0.5614035087719298,
          0.5614035087719298,
          0.7159090909090909,
          0.7159090909090909,
          0.7159090909090909,
          0.9428571428571428,
          0.9428571428571428,
          0.7159090909090909,
          0.7159090909090909,
          0.9428571428571428,
          0.9428571428571428,
          0.5614035087719298,
          0.5614035087719298,
          0.5614035087719298,
          0.5614035087719298,
          0.5614035087719298,
          0.5614035087719298,
          0.5614035087719298,
          0.5614035087719298,
          0.5614035087719298,
          0.7159090909090909,
          0.7159090909090909,
          0.7159090909090909,
          0.7159090909090909,
          0.9428571428571428,
          0.9428571428571428,
          0.9428571428571428,
          0.9428571428571428,
          0.7159090909090909,
          0.7159090909090909,
          0.7159090909090909,
          0.7159090909090909,
          0.7159090909090909,
          0.4714285714285714,
          0.4714285714285714,
          0.7159090909090909,
          0.7159090909090909,
          0.5614035087719298,
          0.5614035087719298,
          0.5614035087719298,
          0.5614035087719298,
          0.5614035087719298,
          0.5614035087719298,
          0.7159090909090909,
          0.7159090909090909,
          0.7159090909090909,
          0.5614035087719298,
          0.5614035087719298,
          0.5614035087719298,
          0.4714285714285714,
          0.4714285714285714,
          0.4714285714285714,
          0.4714285714285714,
          0.4714285714285714,
          0.4714285714285714,
          0.5614035087719298,
          0.4714285714285714,
          0.4714285714285714,
          0.4714285714285714,
          0.5614035087719298,
          0.5614035087719298,
          0.5614035087719298,
          0.5614035087719298,
          0.5614035087719298,
          0.5614035087719298,
          0.5614035087719298,
          0.5614035087719298,
          0.5614035087719298,
          0.7159090909090909,
          0.7159090909090909,
          0.7159090909090909,
          0.7159090909090909,
          0.7159090909090909
         ]
        }
       ],
       "layout": {
        "barmode": "overlay",
        "template": {
         "data": {
          "bar": [
           {
            "error_x": {
             "color": "#2a3f5f"
            },
            "error_y": {
             "color": "#2a3f5f"
            },
            "marker": {
             "line": {
              "color": "#E5ECF6",
              "width": 0.5
             },
             "pattern": {
              "fillmode": "overlay",
              "size": 10,
              "solidity": 0.2
             }
            },
            "type": "bar"
           }
          ],
          "barpolar": [
           {
            "marker": {
             "line": {
              "color": "#E5ECF6",
              "width": 0.5
             },
             "pattern": {
              "fillmode": "overlay",
              "size": 10,
              "solidity": 0.2
             }
            },
            "type": "barpolar"
           }
          ],
          "carpet": [
           {
            "aaxis": {
             "endlinecolor": "#2a3f5f",
             "gridcolor": "white",
             "linecolor": "white",
             "minorgridcolor": "white",
             "startlinecolor": "#2a3f5f"
            },
            "baxis": {
             "endlinecolor": "#2a3f5f",
             "gridcolor": "white",
             "linecolor": "white",
             "minorgridcolor": "white",
             "startlinecolor": "#2a3f5f"
            },
            "type": "carpet"
           }
          ],
          "choropleth": [
           {
            "colorbar": {
             "outlinewidth": 0,
             "ticks": ""
            },
            "type": "choropleth"
           }
          ],
          "contour": [
           {
            "colorbar": {
             "outlinewidth": 0,
             "ticks": ""
            },
            "colorscale": [
             [
              0,
              "#0d0887"
             ],
             [
              0.1111111111111111,
              "#46039f"
             ],
             [
              0.2222222222222222,
              "#7201a8"
             ],
             [
              0.3333333333333333,
              "#9c179e"
             ],
             [
              0.4444444444444444,
              "#bd3786"
             ],
             [
              0.5555555555555556,
              "#d8576b"
             ],
             [
              0.6666666666666666,
              "#ed7953"
             ],
             [
              0.7777777777777778,
              "#fb9f3a"
             ],
             [
              0.8888888888888888,
              "#fdca26"
             ],
             [
              1,
              "#f0f921"
             ]
            ],
            "type": "contour"
           }
          ],
          "contourcarpet": [
           {
            "colorbar": {
             "outlinewidth": 0,
             "ticks": ""
            },
            "type": "contourcarpet"
           }
          ],
          "heatmap": [
           {
            "colorbar": {
             "outlinewidth": 0,
             "ticks": ""
            },
            "colorscale": [
             [
              0,
              "#0d0887"
             ],
             [
              0.1111111111111111,
              "#46039f"
             ],
             [
              0.2222222222222222,
              "#7201a8"
             ],
             [
              0.3333333333333333,
              "#9c179e"
             ],
             [
              0.4444444444444444,
              "#bd3786"
             ],
             [
              0.5555555555555556,
              "#d8576b"
             ],
             [
              0.6666666666666666,
              "#ed7953"
             ],
             [
              0.7777777777777778,
              "#fb9f3a"
             ],
             [
              0.8888888888888888,
              "#fdca26"
             ],
             [
              1,
              "#f0f921"
             ]
            ],
            "type": "heatmap"
           }
          ],
          "heatmapgl": [
           {
            "colorbar": {
             "outlinewidth": 0,
             "ticks": ""
            },
            "colorscale": [
             [
              0,
              "#0d0887"
             ],
             [
              0.1111111111111111,
              "#46039f"
             ],
             [
              0.2222222222222222,
              "#7201a8"
             ],
             [
              0.3333333333333333,
              "#9c179e"
             ],
             [
              0.4444444444444444,
              "#bd3786"
             ],
             [
              0.5555555555555556,
              "#d8576b"
             ],
             [
              0.6666666666666666,
              "#ed7953"
             ],
             [
              0.7777777777777778,
              "#fb9f3a"
             ],
             [
              0.8888888888888888,
              "#fdca26"
             ],
             [
              1,
              "#f0f921"
             ]
            ],
            "type": "heatmapgl"
           }
          ],
          "histogram": [
           {
            "marker": {
             "pattern": {
              "fillmode": "overlay",
              "size": 10,
              "solidity": 0.2
             }
            },
            "type": "histogram"
           }
          ],
          "histogram2d": [
           {
            "colorbar": {
             "outlinewidth": 0,
             "ticks": ""
            },
            "colorscale": [
             [
              0,
              "#0d0887"
             ],
             [
              0.1111111111111111,
              "#46039f"
             ],
             [
              0.2222222222222222,
              "#7201a8"
             ],
             [
              0.3333333333333333,
              "#9c179e"
             ],
             [
              0.4444444444444444,
              "#bd3786"
             ],
             [
              0.5555555555555556,
              "#d8576b"
             ],
             [
              0.6666666666666666,
              "#ed7953"
             ],
             [
              0.7777777777777778,
              "#fb9f3a"
             ],
             [
              0.8888888888888888,
              "#fdca26"
             ],
             [
              1,
              "#f0f921"
             ]
            ],
            "type": "histogram2d"
           }
          ],
          "histogram2dcontour": [
           {
            "colorbar": {
             "outlinewidth": 0,
             "ticks": ""
            },
            "colorscale": [
             [
              0,
              "#0d0887"
             ],
             [
              0.1111111111111111,
              "#46039f"
             ],
             [
              0.2222222222222222,
              "#7201a8"
             ],
             [
              0.3333333333333333,
              "#9c179e"
             ],
             [
              0.4444444444444444,
              "#bd3786"
             ],
             [
              0.5555555555555556,
              "#d8576b"
             ],
             [
              0.6666666666666666,
              "#ed7953"
             ],
             [
              0.7777777777777778,
              "#fb9f3a"
             ],
             [
              0.8888888888888888,
              "#fdca26"
             ],
             [
              1,
              "#f0f921"
             ]
            ],
            "type": "histogram2dcontour"
           }
          ],
          "mesh3d": [
           {
            "colorbar": {
             "outlinewidth": 0,
             "ticks": ""
            },
            "type": "mesh3d"
           }
          ],
          "parcoords": [
           {
            "line": {
             "colorbar": {
              "outlinewidth": 0,
              "ticks": ""
             }
            },
            "type": "parcoords"
           }
          ],
          "pie": [
           {
            "automargin": true,
            "type": "pie"
           }
          ],
          "scatter": [
           {
            "fillpattern": {
             "fillmode": "overlay",
             "size": 10,
             "solidity": 0.2
            },
            "type": "scatter"
           }
          ],
          "scatter3d": [
           {
            "line": {
             "colorbar": {
              "outlinewidth": 0,
              "ticks": ""
             }
            },
            "marker": {
             "colorbar": {
              "outlinewidth": 0,
              "ticks": ""
             }
            },
            "type": "scatter3d"
           }
          ],
          "scattercarpet": [
           {
            "marker": {
             "colorbar": {
              "outlinewidth": 0,
              "ticks": ""
             }
            },
            "type": "scattercarpet"
           }
          ],
          "scattergeo": [
           {
            "marker": {
             "colorbar": {
              "outlinewidth": 0,
              "ticks": ""
             }
            },
            "type": "scattergeo"
           }
          ],
          "scattergl": [
           {
            "marker": {
             "colorbar": {
              "outlinewidth": 0,
              "ticks": ""
             }
            },
            "type": "scattergl"
           }
          ],
          "scattermapbox": [
           {
            "marker": {
             "colorbar": {
              "outlinewidth": 0,
              "ticks": ""
             }
            },
            "type": "scattermapbox"
           }
          ],
          "scatterpolar": [
           {
            "marker": {
             "colorbar": {
              "outlinewidth": 0,
              "ticks": ""
             }
            },
            "type": "scatterpolar"
           }
          ],
          "scatterpolargl": [
           {
            "marker": {
             "colorbar": {
              "outlinewidth": 0,
              "ticks": ""
             }
            },
            "type": "scatterpolargl"
           }
          ],
          "scatterternary": [
           {
            "marker": {
             "colorbar": {
              "outlinewidth": 0,
              "ticks": ""
             }
            },
            "type": "scatterternary"
           }
          ],
          "surface": [
           {
            "colorbar": {
             "outlinewidth": 0,
             "ticks": ""
            },
            "colorscale": [
             [
              0,
              "#0d0887"
             ],
             [
              0.1111111111111111,
              "#46039f"
             ],
             [
              0.2222222222222222,
              "#7201a8"
             ],
             [
              0.3333333333333333,
              "#9c179e"
             ],
             [
              0.4444444444444444,
              "#bd3786"
             ],
             [
              0.5555555555555556,
              "#d8576b"
             ],
             [
              0.6666666666666666,
              "#ed7953"
             ],
             [
              0.7777777777777778,
              "#fb9f3a"
             ],
             [
              0.8888888888888888,
              "#fdca26"
             ],
             [
              1,
              "#f0f921"
             ]
            ],
            "type": "surface"
           }
          ],
          "table": [
           {
            "cells": {
             "fill": {
              "color": "#EBF0F8"
             },
             "line": {
              "color": "white"
             }
            },
            "header": {
             "fill": {
              "color": "#C8D4E3"
             },
             "line": {
              "color": "white"
             }
            },
            "type": "table"
           }
          ]
         },
         "layout": {
          "annotationdefaults": {
           "arrowcolor": "#2a3f5f",
           "arrowhead": 0,
           "arrowwidth": 1
          },
          "autotypenumbers": "strict",
          "coloraxis": {
           "colorbar": {
            "outlinewidth": 0,
            "ticks": ""
           }
          },
          "colorscale": {
           "diverging": [
            [
             0,
             "#8e0152"
            ],
            [
             0.1,
             "#c51b7d"
            ],
            [
             0.2,
             "#de77ae"
            ],
            [
             0.3,
             "#f1b6da"
            ],
            [
             0.4,
             "#fde0ef"
            ],
            [
             0.5,
             "#f7f7f7"
            ],
            [
             0.6,
             "#e6f5d0"
            ],
            [
             0.7,
             "#b8e186"
            ],
            [
             0.8,
             "#7fbc41"
            ],
            [
             0.9,
             "#4d9221"
            ],
            [
             1,
             "#276419"
            ]
           ],
           "sequential": [
            [
             0,
             "#0d0887"
            ],
            [
             0.1111111111111111,
             "#46039f"
            ],
            [
             0.2222222222222222,
             "#7201a8"
            ],
            [
             0.3333333333333333,
             "#9c179e"
            ],
            [
             0.4444444444444444,
             "#bd3786"
            ],
            [
             0.5555555555555556,
             "#d8576b"
            ],
            [
             0.6666666666666666,
             "#ed7953"
            ],
            [
             0.7777777777777778,
             "#fb9f3a"
            ],
            [
             0.8888888888888888,
             "#fdca26"
            ],
            [
             1,
             "#f0f921"
            ]
           ],
           "sequentialminus": [
            [
             0,
             "#0d0887"
            ],
            [
             0.1111111111111111,
             "#46039f"
            ],
            [
             0.2222222222222222,
             "#7201a8"
            ],
            [
             0.3333333333333333,
             "#9c179e"
            ],
            [
             0.4444444444444444,
             "#bd3786"
            ],
            [
             0.5555555555555556,
             "#d8576b"
            ],
            [
             0.6666666666666666,
             "#ed7953"
            ],
            [
             0.7777777777777778,
             "#fb9f3a"
            ],
            [
             0.8888888888888888,
             "#fdca26"
            ],
            [
             1,
             "#f0f921"
            ]
           ]
          },
          "colorway": [
           "#636efa",
           "#EF553B",
           "#00cc96",
           "#ab63fa",
           "#FFA15A",
           "#19d3f3",
           "#FF6692",
           "#B6E880",
           "#FF97FF",
           "#FECB52"
          ],
          "font": {
           "color": "#2a3f5f"
          },
          "geo": {
           "bgcolor": "white",
           "lakecolor": "white",
           "landcolor": "#E5ECF6",
           "showlakes": true,
           "showland": true,
           "subunitcolor": "white"
          },
          "hoverlabel": {
           "align": "left"
          },
          "hovermode": "closest",
          "mapbox": {
           "style": "light"
          },
          "paper_bgcolor": "white",
          "plot_bgcolor": "#E5ECF6",
          "polar": {
           "angularaxis": {
            "gridcolor": "white",
            "linecolor": "white",
            "ticks": ""
           },
           "bgcolor": "#E5ECF6",
           "radialaxis": {
            "gridcolor": "white",
            "linecolor": "white",
            "ticks": ""
           }
          },
          "scene": {
           "xaxis": {
            "backgroundcolor": "#E5ECF6",
            "gridcolor": "white",
            "gridwidth": 2,
            "linecolor": "white",
            "showbackground": true,
            "ticks": "",
            "zerolinecolor": "white"
           },
           "yaxis": {
            "backgroundcolor": "#E5ECF6",
            "gridcolor": "white",
            "gridwidth": 2,
            "linecolor": "white",
            "showbackground": true,
            "ticks": "",
            "zerolinecolor": "white"
           },
           "zaxis": {
            "backgroundcolor": "#E5ECF6",
            "gridcolor": "white",
            "gridwidth": 2,
            "linecolor": "white",
            "showbackground": true,
            "ticks": "",
            "zerolinecolor": "white"
           }
          },
          "shapedefaults": {
           "line": {
            "color": "#2a3f5f"
           }
          },
          "ternary": {
           "aaxis": {
            "gridcolor": "white",
            "linecolor": "white",
            "ticks": ""
           },
           "baxis": {
            "gridcolor": "white",
            "linecolor": "white",
            "ticks": ""
           },
           "bgcolor": "#E5ECF6",
           "caxis": {
            "gridcolor": "white",
            "linecolor": "white",
            "ticks": ""
           }
          },
          "title": {
           "x": 0.05
          },
          "xaxis": {
           "automargin": true,
           "gridcolor": "white",
           "linecolor": "white",
           "ticks": "",
           "title": {
            "standoff": 15
           },
           "zerolinecolor": "white",
           "zerolinewidth": 2
          },
          "yaxis": {
           "automargin": true,
           "gridcolor": "white",
           "linecolor": "white",
           "ticks": "",
           "title": {
            "standoff": 15
           },
           "zerolinecolor": "white",
           "zerolinewidth": 2
          }
         }
        },
        "title": {
         "text": "Comparison of models"
        },
        "xaxis": {
         "title": {
          "text": "Metric value"
         }
        },
        "yaxis": {
         "title": {
          "text": "Count"
         }
        }
       }
      }
     },
     "metadata": {},
     "output_type": "display_data"
    }
   ],
   "source": [
    "# plot all 3 models on the same plot\n",
    "import plotly.graph_objects as go\n",
    "fig4 = go.Figure()\n",
    "fig4.add_trace(go.Histogram(x=ffnn, name='FFNN'))\n",
    "fig4.add_trace(go.Histogram(x=xgboost, name='XGBoost'))\n",
    "fig4.add_trace(go.Histogram(x=transformer, name='Transformer'))\n",
    "fig4.update_layout(barmode='overlay')\n",
    "fig4.update_traces(opacity=0.75)\n",
    "fig4.update_layout(title_text='Comparison of models')\n",
    "fig4.update_layout(xaxis_title_text='Metric value')\n",
    "fig4.update_layout(yaxis_title_text='Count')\n",
    "fig4.show()"
   ]
  },
  {
   "cell_type": "code",
   "execution_count": 53,
   "metadata": {},
   "outputs": [
    {
     "data": {
      "application/vnd.plotly.v1+json": {
       "config": {
        "plotlyServerURL": "https://plot.ly"
       },
       "data": [
        {
         "autocolorscale": false,
         "colorbar": {
          "tickprefix": "",
          "title": {
           "text": "ffnn accuracy_score"
          }
         },
         "colorscale": [
          [
           0,
           "rgb(255,245,240)"
          ],
          [
           0.125,
           "rgb(254,224,210)"
          ],
          [
           0.25,
           "rgb(252,187,161)"
          ],
          [
           0.375,
           "rgb(252,146,114)"
          ],
          [
           0.5,
           "rgb(251,106,74)"
          ],
          [
           0.625,
           "rgb(239,59,44)"
          ],
          [
           0.75,
           "rgb(203,24,29)"
          ],
          [
           0.875,
           "rgb(165,15,21)"
          ],
          [
           1,
           "rgb(103,0,13)"
          ]
         ],
         "locations": [
          "FJI",
          "FJI",
          "TZA",
          "TZA",
          "TZA",
          "CAN",
          "CAN",
          "USA",
          "USA",
          "USA",
          "KAZ",
          "KAZ",
          "KAZ",
          "UZB",
          "UZB",
          "UZB",
          "IDN",
          "IDN",
          "IDN",
          "ARG",
          "ARG",
          "ARG",
          "CHL",
          "CHL",
          "CHL",
          "SOM",
          "SOM",
          "SOM",
          "KEN",
          "KEN",
          "KEN",
          "SDN",
          "SDN",
          "SDN",
          "TCD",
          "TCD",
          "TCD",
          "HTI",
          "HTI",
          "HTI",
          "RUS",
          "RUS",
          "RUS",
          "NOR",
          "NOR",
          "ZAF",
          "ZAF",
          "ZAF",
          "LSO",
          "LSO",
          "LSO",
          "MEX",
          "MEX",
          "MEX",
          "URY",
          "URY",
          "BRA",
          "BRA",
          "BRA",
          "BOL",
          "BOL",
          "BOL",
          "PER",
          "PER",
          "PER",
          "COL",
          "COL",
          "COL",
          "PAN",
          "PAN",
          "NIC",
          "NIC",
          "NIC",
          "HND",
          "HND",
          "HND",
          "SLV",
          "SLV",
          "SLV",
          "GTM",
          "GTM",
          "GTM",
          "BLZ",
          "BLZ",
          "BLZ",
          "GUY",
          "GUY",
          "GUY",
          "SUR",
          "SUR",
          "FRA",
          "FRA",
          "FRA",
          "ECU",
          "ECU",
          "ECU",
          "JAM",
          "JAM",
          "JAM",
          "CUB",
          "CUB",
          "CUB",
          "ZWE",
          "ZWE",
          "ZWE",
          "BWA",
          "BWA",
          "BWA",
          "NAM",
          "NAM",
          "NAM",
          "SEN",
          "SEN",
          "SEN",
          "MLI",
          "MLI",
          "MLI",
          "MRT",
          "MRT",
          "BEN",
          "BEN",
          "BEN",
          "NER",
          "NER",
          "NER",
          "NGA",
          "NGA",
          "NGA",
          "CMR",
          "CMR",
          "CMR",
          "TGO",
          "TGO",
          "TGO",
          "GHA",
          "GHA",
          "GHA",
          "CIV",
          "GIN",
          "GIN",
          "GIN",
          "LBR",
          "LBR",
          "LBR",
          "BFA",
          "BFA",
          "BFA",
          "GAB",
          "GAB",
          "ZMB",
          "ZMB",
          "ZMB",
          "MWI",
          "MWI",
          "MWI",
          "MOZ",
          "MOZ",
          "MOZ",
          "AGO",
          "AGO",
          "AGO",
          "BDI",
          "BDI",
          "ISR",
          "ISR",
          "ISR",
          "LBN",
          "LBN",
          "LBN",
          "MDG",
          "MDG",
          "MDG",
          "TUN",
          "TUN",
          "DZA",
          "DZA",
          "DZA",
          "JOR",
          "JOR",
          "JOR",
          "QAT",
          "QAT",
          "KWT",
          "KWT",
          "IRQ",
          "IRQ",
          "IRQ",
          "OMN",
          "OMN",
          "KHM",
          "KHM",
          "THA",
          "THA",
          "THA",
          "MMR",
          "MMR",
          "MMR",
          "VNM",
          "VNM",
          "MNG",
          "MNG",
          "IND",
          "IND",
          "IND",
          "BGD",
          "BGD",
          "BGD",
          "BTN",
          "BTN",
          "NPL",
          "NPL",
          "NPL",
          "PAK",
          "PAK",
          "PAK",
          "AFG",
          "AFG",
          "AFG",
          "TJK",
          "TJK",
          "KGZ",
          "KGZ",
          "KGZ",
          "TKM",
          "TKM",
          "SYR",
          "SYR",
          "SYR",
          "ARM",
          "ARM",
          "ARM",
          "SWE",
          "SWE",
          "BLR",
          "BLR",
          "BLR",
          "UKR",
          "UKR",
          "UKR",
          "POL",
          "POL",
          "AUT",
          "AUT",
          "HUN",
          "HUN",
          "HUN",
          "MDA",
          "MDA",
          "MDA",
          "ROU",
          "ROU",
          "LTU",
          "LTU",
          "LVA",
          "LVA",
          "EST",
          "EST",
          "DEU",
          "DEU",
          "DEU",
          "BGR",
          "BGR",
          "GRC",
          "GRC",
          "GRC",
          "ALB",
          "ALB",
          "HRV",
          "HRV",
          "CHE",
          "CHE",
          "LUX",
          "LUX",
          "BEL",
          "BEL",
          "NLD",
          "NLD",
          "PRT",
          "PRT",
          "ESP",
          "ESP",
          "ESP",
          "IRL",
          "IRL",
          "IRL",
          "AUS",
          "AUS",
          "LKA",
          "LKA",
          "LKA",
          "CHN",
          "CHN",
          "CHN",
          "ITA",
          "ITA",
          "ITA",
          "DNK",
          "DNK",
          "GBR",
          "GBR",
          "ISL",
          "ISL",
          "AZE",
          "AZE",
          "AZE",
          "GEO",
          "GEO",
          "GEO",
          "PHL",
          "PHL",
          "PHL",
          "MYS",
          "MYS",
          "BRN",
          "BRN",
          "SVN",
          "SVN",
          "FIN",
          "FIN",
          "SVK",
          "SVK",
          "CZE",
          "CZE",
          "CZE",
          "ERI",
          "ERI",
          "JPN",
          "JPN",
          "PRY",
          "PRY",
          "PRY",
          "SAU",
          "SAU",
          "SAU",
          "CYP",
          "CYP",
          "CYP",
          "MAR",
          "MAR",
          "MAR",
          "LBY",
          "LBY",
          "LBY",
          "ETH",
          "ETH",
          "ETH",
          "DJI",
          "UGA",
          "UGA",
          "UGA",
          "RWA",
          "RWA",
          "RWA",
          "MKD",
          "MKD",
          "MKD",
          "SRB",
          "SRB",
          "SRB",
          "MNE",
          "MNE",
          "TTO",
          "TTO",
          "TTO"
         ],
         "marker": {
          "line": {
           "color": "darkgray",
           "width": 0.5
          }
         },
         "reversescale": false,
         "text": [
          "FJI",
          "FJI",
          "TZA",
          "TZA",
          "TZA",
          "CAN",
          "CAN",
          "USA",
          "USA",
          "USA",
          "KAZ",
          "KAZ",
          "KAZ",
          "UZB",
          "UZB",
          "UZB",
          "IDN",
          "IDN",
          "IDN",
          "ARG",
          "ARG",
          "ARG",
          "CHL",
          "CHL",
          "CHL",
          "SOM",
          "SOM",
          "SOM",
          "KEN",
          "KEN",
          "KEN",
          "SDN",
          "SDN",
          "SDN",
          "TCD",
          "TCD",
          "TCD",
          "HTI",
          "HTI",
          "HTI",
          "RUS",
          "RUS",
          "RUS",
          "NOR",
          "NOR",
          "ZAF",
          "ZAF",
          "ZAF",
          "LSO",
          "LSO",
          "LSO",
          "MEX",
          "MEX",
          "MEX",
          "URY",
          "URY",
          "BRA",
          "BRA",
          "BRA",
          "BOL",
          "BOL",
          "BOL",
          "PER",
          "PER",
          "PER",
          "COL",
          "COL",
          "COL",
          "PAN",
          "PAN",
          "NIC",
          "NIC",
          "NIC",
          "HND",
          "HND",
          "HND",
          "SLV",
          "SLV",
          "SLV",
          "GTM",
          "GTM",
          "GTM",
          "BLZ",
          "BLZ",
          "BLZ",
          "GUY",
          "GUY",
          "GUY",
          "SUR",
          "SUR",
          "FRA",
          "FRA",
          "FRA",
          "ECU",
          "ECU",
          "ECU",
          "JAM",
          "JAM",
          "JAM",
          "CUB",
          "CUB",
          "CUB",
          "ZWE",
          "ZWE",
          "ZWE",
          "BWA",
          "BWA",
          "BWA",
          "NAM",
          "NAM",
          "NAM",
          "SEN",
          "SEN",
          "SEN",
          "MLI",
          "MLI",
          "MLI",
          "MRT",
          "MRT",
          "BEN",
          "BEN",
          "BEN",
          "NER",
          "NER",
          "NER",
          "NGA",
          "NGA",
          "NGA",
          "CMR",
          "CMR",
          "CMR",
          "TGO",
          "TGO",
          "TGO",
          "GHA",
          "GHA",
          "GHA",
          "CIV",
          "GIN",
          "GIN",
          "GIN",
          "LBR",
          "LBR",
          "LBR",
          "BFA",
          "BFA",
          "BFA",
          "GAB",
          "GAB",
          "ZMB",
          "ZMB",
          "ZMB",
          "MWI",
          "MWI",
          "MWI",
          "MOZ",
          "MOZ",
          "MOZ",
          "AGO",
          "AGO",
          "AGO",
          "BDI",
          "BDI",
          "ISR",
          "ISR",
          "ISR",
          "LBN",
          "LBN",
          "LBN",
          "MDG",
          "MDG",
          "MDG",
          "TUN",
          "TUN",
          "DZA",
          "DZA",
          "DZA",
          "JOR",
          "JOR",
          "JOR",
          "QAT",
          "QAT",
          "KWT",
          "KWT",
          "IRQ",
          "IRQ",
          "IRQ",
          "OMN",
          "OMN",
          "KHM",
          "KHM",
          "THA",
          "THA",
          "THA",
          "MMR",
          "MMR",
          "MMR",
          "VNM",
          "VNM",
          "MNG",
          "MNG",
          "IND",
          "IND",
          "IND",
          "BGD",
          "BGD",
          "BGD",
          "BTN",
          "BTN",
          "NPL",
          "NPL",
          "NPL",
          "PAK",
          "PAK",
          "PAK",
          "AFG",
          "AFG",
          "AFG",
          "TJK",
          "TJK",
          "KGZ",
          "KGZ",
          "KGZ",
          "TKM",
          "TKM",
          "SYR",
          "SYR",
          "SYR",
          "ARM",
          "ARM",
          "ARM",
          "SWE",
          "SWE",
          "BLR",
          "BLR",
          "BLR",
          "UKR",
          "UKR",
          "UKR",
          "POL",
          "POL",
          "AUT",
          "AUT",
          "HUN",
          "HUN",
          "HUN",
          "MDA",
          "MDA",
          "MDA",
          "ROU",
          "ROU",
          "LTU",
          "LTU",
          "LVA",
          "LVA",
          "EST",
          "EST",
          "DEU",
          "DEU",
          "DEU",
          "BGR",
          "BGR",
          "GRC",
          "GRC",
          "GRC",
          "ALB",
          "ALB",
          "HRV",
          "HRV",
          "CHE",
          "CHE",
          "LUX",
          "LUX",
          "BEL",
          "BEL",
          "NLD",
          "NLD",
          "PRT",
          "PRT",
          "ESP",
          "ESP",
          "ESP",
          "IRL",
          "IRL",
          "IRL",
          "AUS",
          "AUS",
          "LKA",
          "LKA",
          "LKA",
          "CHN",
          "CHN",
          "CHN",
          "ITA",
          "ITA",
          "ITA",
          "DNK",
          "DNK",
          "GBR",
          "GBR",
          "ISL",
          "ISL",
          "AZE",
          "AZE",
          "AZE",
          "GEO",
          "GEO",
          "GEO",
          "PHL",
          "PHL",
          "PHL",
          "MYS",
          "MYS",
          "BRN",
          "BRN",
          "SVN",
          "SVN",
          "FIN",
          "FIN",
          "SVK",
          "SVK",
          "CZE",
          "CZE",
          "CZE",
          "ERI",
          "ERI",
          "JPN",
          "JPN",
          "PRY",
          "PRY",
          "PRY",
          "SAU",
          "SAU",
          "SAU",
          "CYP",
          "CYP",
          "CYP",
          "MAR",
          "MAR",
          "MAR",
          "LBY",
          "LBY",
          "LBY",
          "ETH",
          "ETH",
          "ETH",
          "DJI",
          "UGA",
          "UGA",
          "UGA",
          "RWA",
          "RWA",
          "RWA",
          "MKD",
          "MKD",
          "MKD",
          "SRB",
          "SRB",
          "SRB",
          "MNE",
          "MNE",
          "TTO",
          "TTO",
          "TTO"
         ],
         "type": "choropleth",
         "z": [
          0.7368421052631579,
          0.7368421052631579,
          0.7368421052631579,
          0.7368421052631579,
          0.7368421052631579,
          0.9428571428571428,
          0.9428571428571428,
          0.8977272727272727,
          0.8977272727272727,
          0.8977272727272727,
          0.7368421052631579,
          0.7368421052631579,
          0.7368421052631579,
          0.7368421052631579,
          0.7368421052631579,
          0.7368421052631579,
          0.7368421052631579,
          0.7368421052631579,
          0.7368421052631579,
          0.8977272727272727,
          0.8977272727272727,
          0.8977272727272727,
          0.8977272727272727,
          0.8977272727272727,
          0.8977272727272727,
          0.38571428571428573,
          0.38571428571428573,
          0.38571428571428573,
          0.7368421052631579,
          0.7368421052631579,
          0.7368421052631579,
          0.38571428571428573,
          0.38571428571428573,
          0.38571428571428573,
          0.38571428571428573,
          0.38571428571428573,
          0.38571428571428573,
          0.38571428571428573,
          0.38571428571428573,
          0.38571428571428573,
          0.7368421052631579,
          0.7368421052631579,
          0.7368421052631579,
          0.9428571428571428,
          0.9428571428571428,
          0.7368421052631579,
          0.7368421052631579,
          0.7368421052631579,
          0.7368421052631579,
          0.7368421052631579,
          0.7368421052631579,
          0.7368421052631579,
          0.7368421052631579,
          0.7368421052631579,
          0.8977272727272727,
          0.8977272727272727,
          0.7368421052631579,
          0.7368421052631579,
          0.7368421052631579,
          0.7368421052631579,
          0.7368421052631579,
          0.7368421052631579,
          0.7368421052631579,
          0.7368421052631579,
          0.7368421052631579,
          0.7368421052631579,
          0.7368421052631579,
          0.7368421052631579,
          0.8977272727272727,
          0.8977272727272727,
          0.7368421052631579,
          0.7368421052631579,
          0.7368421052631579,
          0.7368421052631579,
          0.7368421052631579,
          0.7368421052631579,
          0.7368421052631579,
          0.7368421052631579,
          0.7368421052631579,
          0.7368421052631579,
          0.7368421052631579,
          0.7368421052631579,
          0.8977272727272727,
          0.8977272727272727,
          0.8977272727272727,
          0.7368421052631579,
          0.7368421052631579,
          0.7368421052631579,
          0.8977272727272727,
          0.8977272727272727,
          0.9428571428571428,
          0.9428571428571428,
          0.9428571428571428,
          0.7368421052631579,
          0.7368421052631579,
          0.7368421052631579,
          0.7368421052631579,
          0.7368421052631579,
          0.7368421052631579,
          0.8977272727272727,
          0.8977272727272727,
          0.8977272727272727,
          0.38571428571428573,
          0.38571428571428573,
          0.38571428571428573,
          0.8977272727272727,
          0.8977272727272727,
          0.8977272727272727,
          0.7368421052631579,
          0.7368421052631579,
          0.7368421052631579,
          0.7368421052631579,
          0.7368421052631579,
          0.7368421052631579,
          0.38571428571428573,
          0.38571428571428573,
          0.38571428571428573,
          0.7368421052631579,
          0.7368421052631579,
          0.7368421052631579,
          0.7368421052631579,
          0.7368421052631579,
          0.38571428571428573,
          0.38571428571428573,
          0.38571428571428573,
          0.38571428571428573,
          0.38571428571428573,
          0.38571428571428573,
          0.38571428571428573,
          0.38571428571428573,
          0.38571428571428573,
          0.7368421052631579,
          0.7368421052631579,
          0.7368421052631579,
          0.7368421052631579,
          0.7368421052631579,
          0.7368421052631579,
          0.7368421052631579,
          0.38571428571428573,
          0.38571428571428573,
          0.38571428571428573,
          0.7368421052631579,
          0.7368421052631579,
          0.7368421052631579,
          0.38571428571428573,
          0.38571428571428573,
          0.38571428571428573,
          0.7368421052631579,
          0.7368421052631579,
          0.7368421052631579,
          0.7368421052631579,
          0.7368421052631579,
          0.7368421052631579,
          0.7368421052631579,
          0.7368421052631579,
          0.38571428571428573,
          0.38571428571428573,
          0.38571428571428573,
          0.7368421052631579,
          0.7368421052631579,
          0.7368421052631579,
          0.38571428571428573,
          0.38571428571428573,
          0.8977272727272727,
          0.8977272727272727,
          0.8977272727272727,
          0.38571428571428573,
          0.38571428571428573,
          0.38571428571428573,
          0.7368421052631579,
          0.7368421052631579,
          0.7368421052631579,
          0.7368421052631579,
          0.7368421052631579,
          0.7368421052631579,
          0.7368421052631579,
          0.7368421052631579,
          0.7368421052631579,
          0.7368421052631579,
          0.7368421052631579,
          0.8977272727272727,
          0.8977272727272727,
          0.8977272727272727,
          0.8977272727272727,
          0.38571428571428573,
          0.38571428571428573,
          0.38571428571428573,
          0.8977272727272727,
          0.8977272727272727,
          0.7368421052631579,
          0.7368421052631579,
          0.7368421052631579,
          0.7368421052631579,
          0.7368421052631579,
          0.38571428571428573,
          0.38571428571428573,
          0.38571428571428573,
          0.8977272727272727,
          0.8977272727272727,
          0.8977272727272727,
          0.8977272727272727,
          0.7368421052631579,
          0.7368421052631579,
          0.7368421052631579,
          0.7368421052631579,
          0.7368421052631579,
          0.7368421052631579,
          0.7368421052631579,
          0.7368421052631579,
          0.7368421052631579,
          0.7368421052631579,
          0.7368421052631579,
          0.7368421052631579,
          0.7368421052631579,
          0.7368421052631579,
          0.38571428571428573,
          0.38571428571428573,
          0.38571428571428573,
          0.7368421052631579,
          0.7368421052631579,
          0.7368421052631579,
          0.7368421052631579,
          0.7368421052631579,
          0.7368421052631579,
          0.7368421052631579,
          0.38571428571428573,
          0.38571428571428573,
          0.38571428571428573,
          0.7368421052631579,
          0.7368421052631579,
          0.7368421052631579,
          0.9428571428571428,
          0.9428571428571428,
          0.7368421052631579,
          0.7368421052631579,
          0.7368421052631579,
          0.38571428571428573,
          0.38571428571428573,
          0.38571428571428573,
          0.8977272727272727,
          0.8977272727272727,
          0.9428571428571428,
          0.9428571428571428,
          0.8977272727272727,
          0.8977272727272727,
          0.8977272727272727,
          0.7368421052631579,
          0.7368421052631579,
          0.7368421052631579,
          0.8977272727272727,
          0.8977272727272727,
          0.8977272727272727,
          0.8977272727272727,
          0.8977272727272727,
          0.8977272727272727,
          0.8977272727272727,
          0.8977272727272727,
          0.9428571428571428,
          0.9428571428571428,
          0.9428571428571428,
          0.8977272727272727,
          0.8977272727272727,
          0.8977272727272727,
          0.8977272727272727,
          0.8977272727272727,
          0.8977272727272727,
          0.8977272727272727,
          0.8977272727272727,
          0.8977272727272727,
          0.9428571428571428,
          0.9428571428571428,
          0.9428571428571428,
          0.9428571428571428,
          0.8977272727272727,
          0.8977272727272727,
          0.9428571428571428,
          0.9428571428571428,
          0.9428571428571428,
          0.9428571428571428,
          0.8977272727272727,
          0.8977272727272727,
          0.8977272727272727,
          0.9428571428571428,
          0.9428571428571428,
          0.9428571428571428,
          0.9428571428571428,
          0.9428571428571428,
          0.38571428571428573,
          0.38571428571428573,
          0.38571428571428573,
          0.7368421052631579,
          0.7368421052631579,
          0.7368421052631579,
          0.8977272727272727,
          0.8977272727272727,
          0.8977272727272727,
          0.9428571428571428,
          0.9428571428571428,
          0.8977272727272727,
          0.8977272727272727,
          0.9428571428571428,
          0.9428571428571428,
          0.7368421052631579,
          0.7368421052631579,
          0.7368421052631579,
          0.7368421052631579,
          0.7368421052631579,
          0.7368421052631579,
          0.7368421052631579,
          0.7368421052631579,
          0.7368421052631579,
          0.8977272727272727,
          0.8977272727272727,
          0.8977272727272727,
          0.8977272727272727,
          0.9428571428571428,
          0.9428571428571428,
          0.9428571428571428,
          0.9428571428571428,
          0.8977272727272727,
          0.8977272727272727,
          0.8977272727272727,
          0.8977272727272727,
          0.8977272727272727,
          0.38571428571428573,
          0.38571428571428573,
          0.8977272727272727,
          0.8977272727272727,
          0.7368421052631579,
          0.7368421052631579,
          0.7368421052631579,
          0.7368421052631579,
          0.7368421052631579,
          0.7368421052631579,
          0.8977272727272727,
          0.8977272727272727,
          0.8977272727272727,
          0.7368421052631579,
          0.7368421052631579,
          0.7368421052631579,
          0.38571428571428573,
          0.38571428571428573,
          0.38571428571428573,
          0.38571428571428573,
          0.38571428571428573,
          0.38571428571428573,
          0.7368421052631579,
          0.38571428571428573,
          0.38571428571428573,
          0.38571428571428573,
          0.7368421052631579,
          0.7368421052631579,
          0.7368421052631579,
          0.7368421052631579,
          0.7368421052631579,
          0.7368421052631579,
          0.7368421052631579,
          0.7368421052631579,
          0.7368421052631579,
          0.8977272727272727,
          0.8977272727272727,
          0.8977272727272727,
          0.8977272727272727,
          0.8977272727272727
         ]
        }
       ],
       "layout": {
        "template": {
         "data": {
          "bar": [
           {
            "error_x": {
             "color": "#2a3f5f"
            },
            "error_y": {
             "color": "#2a3f5f"
            },
            "marker": {
             "line": {
              "color": "#E5ECF6",
              "width": 0.5
             },
             "pattern": {
              "fillmode": "overlay",
              "size": 10,
              "solidity": 0.2
             }
            },
            "type": "bar"
           }
          ],
          "barpolar": [
           {
            "marker": {
             "line": {
              "color": "#E5ECF6",
              "width": 0.5
             },
             "pattern": {
              "fillmode": "overlay",
              "size": 10,
              "solidity": 0.2
             }
            },
            "type": "barpolar"
           }
          ],
          "carpet": [
           {
            "aaxis": {
             "endlinecolor": "#2a3f5f",
             "gridcolor": "white",
             "linecolor": "white",
             "minorgridcolor": "white",
             "startlinecolor": "#2a3f5f"
            },
            "baxis": {
             "endlinecolor": "#2a3f5f",
             "gridcolor": "white",
             "linecolor": "white",
             "minorgridcolor": "white",
             "startlinecolor": "#2a3f5f"
            },
            "type": "carpet"
           }
          ],
          "choropleth": [
           {
            "colorbar": {
             "outlinewidth": 0,
             "ticks": ""
            },
            "type": "choropleth"
           }
          ],
          "contour": [
           {
            "colorbar": {
             "outlinewidth": 0,
             "ticks": ""
            },
            "colorscale": [
             [
              0,
              "#0d0887"
             ],
             [
              0.1111111111111111,
              "#46039f"
             ],
             [
              0.2222222222222222,
              "#7201a8"
             ],
             [
              0.3333333333333333,
              "#9c179e"
             ],
             [
              0.4444444444444444,
              "#bd3786"
             ],
             [
              0.5555555555555556,
              "#d8576b"
             ],
             [
              0.6666666666666666,
              "#ed7953"
             ],
             [
              0.7777777777777778,
              "#fb9f3a"
             ],
             [
              0.8888888888888888,
              "#fdca26"
             ],
             [
              1,
              "#f0f921"
             ]
            ],
            "type": "contour"
           }
          ],
          "contourcarpet": [
           {
            "colorbar": {
             "outlinewidth": 0,
             "ticks": ""
            },
            "type": "contourcarpet"
           }
          ],
          "heatmap": [
           {
            "colorbar": {
             "outlinewidth": 0,
             "ticks": ""
            },
            "colorscale": [
             [
              0,
              "#0d0887"
             ],
             [
              0.1111111111111111,
              "#46039f"
             ],
             [
              0.2222222222222222,
              "#7201a8"
             ],
             [
              0.3333333333333333,
              "#9c179e"
             ],
             [
              0.4444444444444444,
              "#bd3786"
             ],
             [
              0.5555555555555556,
              "#d8576b"
             ],
             [
              0.6666666666666666,
              "#ed7953"
             ],
             [
              0.7777777777777778,
              "#fb9f3a"
             ],
             [
              0.8888888888888888,
              "#fdca26"
             ],
             [
              1,
              "#f0f921"
             ]
            ],
            "type": "heatmap"
           }
          ],
          "heatmapgl": [
           {
            "colorbar": {
             "outlinewidth": 0,
             "ticks": ""
            },
            "colorscale": [
             [
              0,
              "#0d0887"
             ],
             [
              0.1111111111111111,
              "#46039f"
             ],
             [
              0.2222222222222222,
              "#7201a8"
             ],
             [
              0.3333333333333333,
              "#9c179e"
             ],
             [
              0.4444444444444444,
              "#bd3786"
             ],
             [
              0.5555555555555556,
              "#d8576b"
             ],
             [
              0.6666666666666666,
              "#ed7953"
             ],
             [
              0.7777777777777778,
              "#fb9f3a"
             ],
             [
              0.8888888888888888,
              "#fdca26"
             ],
             [
              1,
              "#f0f921"
             ]
            ],
            "type": "heatmapgl"
           }
          ],
          "histogram": [
           {
            "marker": {
             "pattern": {
              "fillmode": "overlay",
              "size": 10,
              "solidity": 0.2
             }
            },
            "type": "histogram"
           }
          ],
          "histogram2d": [
           {
            "colorbar": {
             "outlinewidth": 0,
             "ticks": ""
            },
            "colorscale": [
             [
              0,
              "#0d0887"
             ],
             [
              0.1111111111111111,
              "#46039f"
             ],
             [
              0.2222222222222222,
              "#7201a8"
             ],
             [
              0.3333333333333333,
              "#9c179e"
             ],
             [
              0.4444444444444444,
              "#bd3786"
             ],
             [
              0.5555555555555556,
              "#d8576b"
             ],
             [
              0.6666666666666666,
              "#ed7953"
             ],
             [
              0.7777777777777778,
              "#fb9f3a"
             ],
             [
              0.8888888888888888,
              "#fdca26"
             ],
             [
              1,
              "#f0f921"
             ]
            ],
            "type": "histogram2d"
           }
          ],
          "histogram2dcontour": [
           {
            "colorbar": {
             "outlinewidth": 0,
             "ticks": ""
            },
            "colorscale": [
             [
              0,
              "#0d0887"
             ],
             [
              0.1111111111111111,
              "#46039f"
             ],
             [
              0.2222222222222222,
              "#7201a8"
             ],
             [
              0.3333333333333333,
              "#9c179e"
             ],
             [
              0.4444444444444444,
              "#bd3786"
             ],
             [
              0.5555555555555556,
              "#d8576b"
             ],
             [
              0.6666666666666666,
              "#ed7953"
             ],
             [
              0.7777777777777778,
              "#fb9f3a"
             ],
             [
              0.8888888888888888,
              "#fdca26"
             ],
             [
              1,
              "#f0f921"
             ]
            ],
            "type": "histogram2dcontour"
           }
          ],
          "mesh3d": [
           {
            "colorbar": {
             "outlinewidth": 0,
             "ticks": ""
            },
            "type": "mesh3d"
           }
          ],
          "parcoords": [
           {
            "line": {
             "colorbar": {
              "outlinewidth": 0,
              "ticks": ""
             }
            },
            "type": "parcoords"
           }
          ],
          "pie": [
           {
            "automargin": true,
            "type": "pie"
           }
          ],
          "scatter": [
           {
            "fillpattern": {
             "fillmode": "overlay",
             "size": 10,
             "solidity": 0.2
            },
            "type": "scatter"
           }
          ],
          "scatter3d": [
           {
            "line": {
             "colorbar": {
              "outlinewidth": 0,
              "ticks": ""
             }
            },
            "marker": {
             "colorbar": {
              "outlinewidth": 0,
              "ticks": ""
             }
            },
            "type": "scatter3d"
           }
          ],
          "scattercarpet": [
           {
            "marker": {
             "colorbar": {
              "outlinewidth": 0,
              "ticks": ""
             }
            },
            "type": "scattercarpet"
           }
          ],
          "scattergeo": [
           {
            "marker": {
             "colorbar": {
              "outlinewidth": 0,
              "ticks": ""
             }
            },
            "type": "scattergeo"
           }
          ],
          "scattergl": [
           {
            "marker": {
             "colorbar": {
              "outlinewidth": 0,
              "ticks": ""
             }
            },
            "type": "scattergl"
           }
          ],
          "scattermapbox": [
           {
            "marker": {
             "colorbar": {
              "outlinewidth": 0,
              "ticks": ""
             }
            },
            "type": "scattermapbox"
           }
          ],
          "scatterpolar": [
           {
            "marker": {
             "colorbar": {
              "outlinewidth": 0,
              "ticks": ""
             }
            },
            "type": "scatterpolar"
           }
          ],
          "scatterpolargl": [
           {
            "marker": {
             "colorbar": {
              "outlinewidth": 0,
              "ticks": ""
             }
            },
            "type": "scatterpolargl"
           }
          ],
          "scatterternary": [
           {
            "marker": {
             "colorbar": {
              "outlinewidth": 0,
              "ticks": ""
             }
            },
            "type": "scatterternary"
           }
          ],
          "surface": [
           {
            "colorbar": {
             "outlinewidth": 0,
             "ticks": ""
            },
            "colorscale": [
             [
              0,
              "#0d0887"
             ],
             [
              0.1111111111111111,
              "#46039f"
             ],
             [
              0.2222222222222222,
              "#7201a8"
             ],
             [
              0.3333333333333333,
              "#9c179e"
             ],
             [
              0.4444444444444444,
              "#bd3786"
             ],
             [
              0.5555555555555556,
              "#d8576b"
             ],
             [
              0.6666666666666666,
              "#ed7953"
             ],
             [
              0.7777777777777778,
              "#fb9f3a"
             ],
             [
              0.8888888888888888,
              "#fdca26"
             ],
             [
              1,
              "#f0f921"
             ]
            ],
            "type": "surface"
           }
          ],
          "table": [
           {
            "cells": {
             "fill": {
              "color": "#EBF0F8"
             },
             "line": {
              "color": "white"
             }
            },
            "header": {
             "fill": {
              "color": "#C8D4E3"
             },
             "line": {
              "color": "white"
             }
            },
            "type": "table"
           }
          ]
         },
         "layout": {
          "annotationdefaults": {
           "arrowcolor": "#2a3f5f",
           "arrowhead": 0,
           "arrowwidth": 1
          },
          "autotypenumbers": "strict",
          "coloraxis": {
           "colorbar": {
            "outlinewidth": 0,
            "ticks": ""
           }
          },
          "colorscale": {
           "diverging": [
            [
             0,
             "#8e0152"
            ],
            [
             0.1,
             "#c51b7d"
            ],
            [
             0.2,
             "#de77ae"
            ],
            [
             0.3,
             "#f1b6da"
            ],
            [
             0.4,
             "#fde0ef"
            ],
            [
             0.5,
             "#f7f7f7"
            ],
            [
             0.6,
             "#e6f5d0"
            ],
            [
             0.7,
             "#b8e186"
            ],
            [
             0.8,
             "#7fbc41"
            ],
            [
             0.9,
             "#4d9221"
            ],
            [
             1,
             "#276419"
            ]
           ],
           "sequential": [
            [
             0,
             "#0d0887"
            ],
            [
             0.1111111111111111,
             "#46039f"
            ],
            [
             0.2222222222222222,
             "#7201a8"
            ],
            [
             0.3333333333333333,
             "#9c179e"
            ],
            [
             0.4444444444444444,
             "#bd3786"
            ],
            [
             0.5555555555555556,
             "#d8576b"
            ],
            [
             0.6666666666666666,
             "#ed7953"
            ],
            [
             0.7777777777777778,
             "#fb9f3a"
            ],
            [
             0.8888888888888888,
             "#fdca26"
            ],
            [
             1,
             "#f0f921"
            ]
           ],
           "sequentialminus": [
            [
             0,
             "#0d0887"
            ],
            [
             0.1111111111111111,
             "#46039f"
            ],
            [
             0.2222222222222222,
             "#7201a8"
            ],
            [
             0.3333333333333333,
             "#9c179e"
            ],
            [
             0.4444444444444444,
             "#bd3786"
            ],
            [
             0.5555555555555556,
             "#d8576b"
            ],
            [
             0.6666666666666666,
             "#ed7953"
            ],
            [
             0.7777777777777778,
             "#fb9f3a"
            ],
            [
             0.8888888888888888,
             "#fdca26"
            ],
            [
             1,
             "#f0f921"
            ]
           ]
          },
          "colorway": [
           "#636efa",
           "#EF553B",
           "#00cc96",
           "#ab63fa",
           "#FFA15A",
           "#19d3f3",
           "#FF6692",
           "#B6E880",
           "#FF97FF",
           "#FECB52"
          ],
          "font": {
           "color": "#2a3f5f"
          },
          "geo": {
           "bgcolor": "white",
           "lakecolor": "white",
           "landcolor": "#E5ECF6",
           "showlakes": true,
           "showland": true,
           "subunitcolor": "white"
          },
          "hoverlabel": {
           "align": "left"
          },
          "hovermode": "closest",
          "mapbox": {
           "style": "light"
          },
          "paper_bgcolor": "white",
          "plot_bgcolor": "#E5ECF6",
          "polar": {
           "angularaxis": {
            "gridcolor": "white",
            "linecolor": "white",
            "ticks": ""
           },
           "bgcolor": "#E5ECF6",
           "radialaxis": {
            "gridcolor": "white",
            "linecolor": "white",
            "ticks": ""
           }
          },
          "scene": {
           "xaxis": {
            "backgroundcolor": "#E5ECF6",
            "gridcolor": "white",
            "gridwidth": 2,
            "linecolor": "white",
            "showbackground": true,
            "ticks": "",
            "zerolinecolor": "white"
           },
           "yaxis": {
            "backgroundcolor": "#E5ECF6",
            "gridcolor": "white",
            "gridwidth": 2,
            "linecolor": "white",
            "showbackground": true,
            "ticks": "",
            "zerolinecolor": "white"
           },
           "zaxis": {
            "backgroundcolor": "#E5ECF6",
            "gridcolor": "white",
            "gridwidth": 2,
            "linecolor": "white",
            "showbackground": true,
            "ticks": "",
            "zerolinecolor": "white"
           }
          },
          "shapedefaults": {
           "line": {
            "color": "#2a3f5f"
           }
          },
          "ternary": {
           "aaxis": {
            "gridcolor": "white",
            "linecolor": "white",
            "ticks": ""
           },
           "baxis": {
            "gridcolor": "white",
            "linecolor": "white",
            "ticks": ""
           },
           "bgcolor": "#E5ECF6",
           "caxis": {
            "gridcolor": "white",
            "linecolor": "white",
            "ticks": ""
           }
          },
          "title": {
           "x": 0.05
          },
          "xaxis": {
           "automargin": true,
           "gridcolor": "white",
           "linecolor": "white",
           "ticks": "",
           "title": {
            "standoff": 15
           },
           "zerolinecolor": "white",
           "zerolinewidth": 2
          },
          "yaxis": {
           "automargin": true,
           "gridcolor": "white",
           "linecolor": "white",
           "ticks": "",
           "title": {
            "standoff": 15
           },
           "zerolinecolor": "white",
           "zerolinewidth": 2
          }
         }
        }
       }
      }
     },
     "metadata": {},
     "output_type": "display_data"
    },
    {
     "data": {
      "application/vnd.plotly.v1+json": {
       "config": {
        "plotlyServerURL": "https://plot.ly"
       },
       "data": [
        {
         "autocolorscale": false,
         "colorbar": {
          "tickprefix": "",
          "title": {
           "text": "xgboost accuracy_score"
          }
         },
         "colorscale": [
          [
           0,
           "rgb(247,251,255)"
          ],
          [
           0.125,
           "rgb(222,235,247)"
          ],
          [
           0.25,
           "rgb(198,219,239)"
          ],
          [
           0.375,
           "rgb(158,202,225)"
          ],
          [
           0.5,
           "rgb(107,174,214)"
          ],
          [
           0.625,
           "rgb(66,146,198)"
          ],
          [
           0.75,
           "rgb(33,113,181)"
          ],
          [
           0.875,
           "rgb(8,81,156)"
          ],
          [
           1,
           "rgb(8,48,107)"
          ]
         ],
         "locations": [
          "FJI",
          "FJI",
          "TZA",
          "TZA",
          "TZA",
          "CAN",
          "CAN",
          "USA",
          "USA",
          "USA",
          "KAZ",
          "KAZ",
          "KAZ",
          "UZB",
          "UZB",
          "UZB",
          "IDN",
          "IDN",
          "IDN",
          "ARG",
          "ARG",
          "ARG",
          "CHL",
          "CHL",
          "CHL",
          "SOM",
          "SOM",
          "SOM",
          "KEN",
          "KEN",
          "KEN",
          "SDN",
          "SDN",
          "SDN",
          "TCD",
          "TCD",
          "TCD",
          "HTI",
          "HTI",
          "HTI",
          "RUS",
          "RUS",
          "RUS",
          "NOR",
          "NOR",
          "ZAF",
          "ZAF",
          "ZAF",
          "LSO",
          "LSO",
          "LSO",
          "MEX",
          "MEX",
          "MEX",
          "URY",
          "URY",
          "BRA",
          "BRA",
          "BRA",
          "BOL",
          "BOL",
          "BOL",
          "PER",
          "PER",
          "PER",
          "COL",
          "COL",
          "COL",
          "PAN",
          "PAN",
          "NIC",
          "NIC",
          "NIC",
          "HND",
          "HND",
          "HND",
          "SLV",
          "SLV",
          "SLV",
          "GTM",
          "GTM",
          "GTM",
          "BLZ",
          "BLZ",
          "BLZ",
          "GUY",
          "GUY",
          "GUY",
          "SUR",
          "SUR",
          "FRA",
          "FRA",
          "FRA",
          "ECU",
          "ECU",
          "ECU",
          "JAM",
          "JAM",
          "JAM",
          "CUB",
          "CUB",
          "CUB",
          "ZWE",
          "ZWE",
          "ZWE",
          "BWA",
          "BWA",
          "BWA",
          "NAM",
          "NAM",
          "NAM",
          "SEN",
          "SEN",
          "SEN",
          "MLI",
          "MLI",
          "MLI",
          "MRT",
          "MRT",
          "BEN",
          "BEN",
          "BEN",
          "NER",
          "NER",
          "NER",
          "NGA",
          "NGA",
          "NGA",
          "CMR",
          "CMR",
          "CMR",
          "TGO",
          "TGO",
          "TGO",
          "GHA",
          "GHA",
          "GHA",
          "CIV",
          "GIN",
          "GIN",
          "GIN",
          "LBR",
          "LBR",
          "LBR",
          "BFA",
          "BFA",
          "BFA",
          "GAB",
          "GAB",
          "ZMB",
          "ZMB",
          "ZMB",
          "MWI",
          "MWI",
          "MWI",
          "MOZ",
          "MOZ",
          "MOZ",
          "AGO",
          "AGO",
          "AGO",
          "BDI",
          "BDI",
          "ISR",
          "ISR",
          "ISR",
          "LBN",
          "LBN",
          "LBN",
          "MDG",
          "MDG",
          "MDG",
          "TUN",
          "TUN",
          "DZA",
          "DZA",
          "DZA",
          "JOR",
          "JOR",
          "JOR",
          "QAT",
          "QAT",
          "KWT",
          "KWT",
          "IRQ",
          "IRQ",
          "IRQ",
          "OMN",
          "OMN",
          "KHM",
          "KHM",
          "THA",
          "THA",
          "THA",
          "MMR",
          "MMR",
          "MMR",
          "VNM",
          "VNM",
          "MNG",
          "MNG",
          "IND",
          "IND",
          "IND",
          "BGD",
          "BGD",
          "BGD",
          "BTN",
          "BTN",
          "NPL",
          "NPL",
          "NPL",
          "PAK",
          "PAK",
          "PAK",
          "AFG",
          "AFG",
          "AFG",
          "TJK",
          "TJK",
          "KGZ",
          "KGZ",
          "KGZ",
          "TKM",
          "TKM",
          "SYR",
          "SYR",
          "SYR",
          "ARM",
          "ARM",
          "ARM",
          "SWE",
          "SWE",
          "BLR",
          "BLR",
          "BLR",
          "UKR",
          "UKR",
          "UKR",
          "POL",
          "POL",
          "AUT",
          "AUT",
          "HUN",
          "HUN",
          "HUN",
          "MDA",
          "MDA",
          "MDA",
          "ROU",
          "ROU",
          "LTU",
          "LTU",
          "LVA",
          "LVA",
          "EST",
          "EST",
          "DEU",
          "DEU",
          "DEU",
          "BGR",
          "BGR",
          "GRC",
          "GRC",
          "GRC",
          "ALB",
          "ALB",
          "HRV",
          "HRV",
          "CHE",
          "CHE",
          "LUX",
          "LUX",
          "BEL",
          "BEL",
          "NLD",
          "NLD",
          "PRT",
          "PRT",
          "ESP",
          "ESP",
          "ESP",
          "IRL",
          "IRL",
          "IRL",
          "AUS",
          "AUS",
          "LKA",
          "LKA",
          "LKA",
          "CHN",
          "CHN",
          "CHN",
          "ITA",
          "ITA",
          "ITA",
          "DNK",
          "DNK",
          "GBR",
          "GBR",
          "ISL",
          "ISL",
          "AZE",
          "AZE",
          "AZE",
          "GEO",
          "GEO",
          "GEO",
          "PHL",
          "PHL",
          "PHL",
          "MYS",
          "MYS",
          "BRN",
          "BRN",
          "SVN",
          "SVN",
          "FIN",
          "FIN",
          "SVK",
          "SVK",
          "CZE",
          "CZE",
          "CZE",
          "ERI",
          "ERI",
          "JPN",
          "JPN",
          "PRY",
          "PRY",
          "PRY",
          "SAU",
          "SAU",
          "SAU",
          "CYP",
          "CYP",
          "CYP",
          "MAR",
          "MAR",
          "MAR",
          "LBY",
          "LBY",
          "LBY",
          "ETH",
          "ETH",
          "ETH",
          "DJI",
          "UGA",
          "UGA",
          "UGA",
          "RWA",
          "RWA",
          "RWA",
          "MKD",
          "MKD",
          "MKD",
          "SRB",
          "SRB",
          "SRB",
          "MNE",
          "MNE",
          "TTO",
          "TTO",
          "TTO"
         ],
         "marker": {
          "line": {
           "color": "darkgray",
           "width": 0.5
          }
         },
         "reversescale": false,
         "text": [
          "FJI",
          "FJI",
          "TZA",
          "TZA",
          "TZA",
          "CAN",
          "CAN",
          "USA",
          "USA",
          "USA",
          "KAZ",
          "KAZ",
          "KAZ",
          "UZB",
          "UZB",
          "UZB",
          "IDN",
          "IDN",
          "IDN",
          "ARG",
          "ARG",
          "ARG",
          "CHL",
          "CHL",
          "CHL",
          "SOM",
          "SOM",
          "SOM",
          "KEN",
          "KEN",
          "KEN",
          "SDN",
          "SDN",
          "SDN",
          "TCD",
          "TCD",
          "TCD",
          "HTI",
          "HTI",
          "HTI",
          "RUS",
          "RUS",
          "RUS",
          "NOR",
          "NOR",
          "ZAF",
          "ZAF",
          "ZAF",
          "LSO",
          "LSO",
          "LSO",
          "MEX",
          "MEX",
          "MEX",
          "URY",
          "URY",
          "BRA",
          "BRA",
          "BRA",
          "BOL",
          "BOL",
          "BOL",
          "PER",
          "PER",
          "PER",
          "COL",
          "COL",
          "COL",
          "PAN",
          "PAN",
          "NIC",
          "NIC",
          "NIC",
          "HND",
          "HND",
          "HND",
          "SLV",
          "SLV",
          "SLV",
          "GTM",
          "GTM",
          "GTM",
          "BLZ",
          "BLZ",
          "BLZ",
          "GUY",
          "GUY",
          "GUY",
          "SUR",
          "SUR",
          "FRA",
          "FRA",
          "FRA",
          "ECU",
          "ECU",
          "ECU",
          "JAM",
          "JAM",
          "JAM",
          "CUB",
          "CUB",
          "CUB",
          "ZWE",
          "ZWE",
          "ZWE",
          "BWA",
          "BWA",
          "BWA",
          "NAM",
          "NAM",
          "NAM",
          "SEN",
          "SEN",
          "SEN",
          "MLI",
          "MLI",
          "MLI",
          "MRT",
          "MRT",
          "BEN",
          "BEN",
          "BEN",
          "NER",
          "NER",
          "NER",
          "NGA",
          "NGA",
          "NGA",
          "CMR",
          "CMR",
          "CMR",
          "TGO",
          "TGO",
          "TGO",
          "GHA",
          "GHA",
          "GHA",
          "CIV",
          "GIN",
          "GIN",
          "GIN",
          "LBR",
          "LBR",
          "LBR",
          "BFA",
          "BFA",
          "BFA",
          "GAB",
          "GAB",
          "ZMB",
          "ZMB",
          "ZMB",
          "MWI",
          "MWI",
          "MWI",
          "MOZ",
          "MOZ",
          "MOZ",
          "AGO",
          "AGO",
          "AGO",
          "BDI",
          "BDI",
          "ISR",
          "ISR",
          "ISR",
          "LBN",
          "LBN",
          "LBN",
          "MDG",
          "MDG",
          "MDG",
          "TUN",
          "TUN",
          "DZA",
          "DZA",
          "DZA",
          "JOR",
          "JOR",
          "JOR",
          "QAT",
          "QAT",
          "KWT",
          "KWT",
          "IRQ",
          "IRQ",
          "IRQ",
          "OMN",
          "OMN",
          "KHM",
          "KHM",
          "THA",
          "THA",
          "THA",
          "MMR",
          "MMR",
          "MMR",
          "VNM",
          "VNM",
          "MNG",
          "MNG",
          "IND",
          "IND",
          "IND",
          "BGD",
          "BGD",
          "BGD",
          "BTN",
          "BTN",
          "NPL",
          "NPL",
          "NPL",
          "PAK",
          "PAK",
          "PAK",
          "AFG",
          "AFG",
          "AFG",
          "TJK",
          "TJK",
          "KGZ",
          "KGZ",
          "KGZ",
          "TKM",
          "TKM",
          "SYR",
          "SYR",
          "SYR",
          "ARM",
          "ARM",
          "ARM",
          "SWE",
          "SWE",
          "BLR",
          "BLR",
          "BLR",
          "UKR",
          "UKR",
          "UKR",
          "POL",
          "POL",
          "AUT",
          "AUT",
          "HUN",
          "HUN",
          "HUN",
          "MDA",
          "MDA",
          "MDA",
          "ROU",
          "ROU",
          "LTU",
          "LTU",
          "LVA",
          "LVA",
          "EST",
          "EST",
          "DEU",
          "DEU",
          "DEU",
          "BGR",
          "BGR",
          "GRC",
          "GRC",
          "GRC",
          "ALB",
          "ALB",
          "HRV",
          "HRV",
          "CHE",
          "CHE",
          "LUX",
          "LUX",
          "BEL",
          "BEL",
          "NLD",
          "NLD",
          "PRT",
          "PRT",
          "ESP",
          "ESP",
          "ESP",
          "IRL",
          "IRL",
          "IRL",
          "AUS",
          "AUS",
          "LKA",
          "LKA",
          "LKA",
          "CHN",
          "CHN",
          "CHN",
          "ITA",
          "ITA",
          "ITA",
          "DNK",
          "DNK",
          "GBR",
          "GBR",
          "ISL",
          "ISL",
          "AZE",
          "AZE",
          "AZE",
          "GEO",
          "GEO",
          "GEO",
          "PHL",
          "PHL",
          "PHL",
          "MYS",
          "MYS",
          "BRN",
          "BRN",
          "SVN",
          "SVN",
          "FIN",
          "FIN",
          "SVK",
          "SVK",
          "CZE",
          "CZE",
          "CZE",
          "ERI",
          "ERI",
          "JPN",
          "JPN",
          "PRY",
          "PRY",
          "PRY",
          "SAU",
          "SAU",
          "SAU",
          "CYP",
          "CYP",
          "CYP",
          "MAR",
          "MAR",
          "MAR",
          "LBY",
          "LBY",
          "LBY",
          "ETH",
          "ETH",
          "ETH",
          "DJI",
          "UGA",
          "UGA",
          "UGA",
          "RWA",
          "RWA",
          "RWA",
          "MKD",
          "MKD",
          "MKD",
          "SRB",
          "SRB",
          "SRB",
          "MNE",
          "MNE",
          "TTO",
          "TTO",
          "TTO"
         ],
         "type": "choropleth",
         "z": [
          0.39766081871345027,
          0.39766081871345027,
          0.39766081871345027,
          0.39766081871345027,
          0.39766081871345027,
          0.8285714285714286,
          0.8285714285714286,
          0.75,
          0.75,
          0.75,
          0.39766081871345027,
          0.39766081871345027,
          0.39766081871345027,
          0.39766081871345027,
          0.39766081871345027,
          0.39766081871345027,
          0.39766081871345027,
          0.39766081871345027,
          0.39766081871345027,
          0.75,
          0.75,
          0.75,
          0.75,
          0.75,
          0.75,
          0.3,
          0.3,
          0.3,
          0.39766081871345027,
          0.39766081871345027,
          0.39766081871345027,
          0.3,
          0.3,
          0.3,
          0.3,
          0.3,
          0.3,
          0.3,
          0.3,
          0.3,
          0.39766081871345027,
          0.39766081871345027,
          0.39766081871345027,
          0.8285714285714286,
          0.8285714285714286,
          0.39766081871345027,
          0.39766081871345027,
          0.39766081871345027,
          0.39766081871345027,
          0.39766081871345027,
          0.39766081871345027,
          0.39766081871345027,
          0.39766081871345027,
          0.39766081871345027,
          0.75,
          0.75,
          0.39766081871345027,
          0.39766081871345027,
          0.39766081871345027,
          0.39766081871345027,
          0.39766081871345027,
          0.39766081871345027,
          0.39766081871345027,
          0.39766081871345027,
          0.39766081871345027,
          0.39766081871345027,
          0.39766081871345027,
          0.39766081871345027,
          0.75,
          0.75,
          0.39766081871345027,
          0.39766081871345027,
          0.39766081871345027,
          0.39766081871345027,
          0.39766081871345027,
          0.39766081871345027,
          0.39766081871345027,
          0.39766081871345027,
          0.39766081871345027,
          0.39766081871345027,
          0.39766081871345027,
          0.39766081871345027,
          0.75,
          0.75,
          0.75,
          0.39766081871345027,
          0.39766081871345027,
          0.39766081871345027,
          0.75,
          0.75,
          0.8285714285714286,
          0.8285714285714286,
          0.8285714285714286,
          0.39766081871345027,
          0.39766081871345027,
          0.39766081871345027,
          0.39766081871345027,
          0.39766081871345027,
          0.39766081871345027,
          0.75,
          0.75,
          0.75,
          0.3,
          0.3,
          0.3,
          0.75,
          0.75,
          0.75,
          0.39766081871345027,
          0.39766081871345027,
          0.39766081871345027,
          0.39766081871345027,
          0.39766081871345027,
          0.39766081871345027,
          0.3,
          0.3,
          0.3,
          0.39766081871345027,
          0.39766081871345027,
          0.39766081871345027,
          0.39766081871345027,
          0.39766081871345027,
          0.3,
          0.3,
          0.3,
          0.3,
          0.3,
          0.3,
          0.3,
          0.3,
          0.3,
          0.39766081871345027,
          0.39766081871345027,
          0.39766081871345027,
          0.39766081871345027,
          0.39766081871345027,
          0.39766081871345027,
          0.39766081871345027,
          0.3,
          0.3,
          0.3,
          0.39766081871345027,
          0.39766081871345027,
          0.39766081871345027,
          0.3,
          0.3,
          0.3,
          0.39766081871345027,
          0.39766081871345027,
          0.39766081871345027,
          0.39766081871345027,
          0.39766081871345027,
          0.39766081871345027,
          0.39766081871345027,
          0.39766081871345027,
          0.3,
          0.3,
          0.3,
          0.39766081871345027,
          0.39766081871345027,
          0.39766081871345027,
          0.3,
          0.3,
          0.75,
          0.75,
          0.75,
          0.3,
          0.3,
          0.3,
          0.39766081871345027,
          0.39766081871345027,
          0.39766081871345027,
          0.39766081871345027,
          0.39766081871345027,
          0.39766081871345027,
          0.39766081871345027,
          0.39766081871345027,
          0.39766081871345027,
          0.39766081871345027,
          0.39766081871345027,
          0.75,
          0.75,
          0.75,
          0.75,
          0.3,
          0.3,
          0.3,
          0.75,
          0.75,
          0.39766081871345027,
          0.39766081871345027,
          0.39766081871345027,
          0.39766081871345027,
          0.39766081871345027,
          0.3,
          0.3,
          0.3,
          0.75,
          0.75,
          0.75,
          0.75,
          0.39766081871345027,
          0.39766081871345027,
          0.39766081871345027,
          0.39766081871345027,
          0.39766081871345027,
          0.39766081871345027,
          0.39766081871345027,
          0.39766081871345027,
          0.39766081871345027,
          0.39766081871345027,
          0.39766081871345027,
          0.39766081871345027,
          0.39766081871345027,
          0.39766081871345027,
          0.3,
          0.3,
          0.3,
          0.39766081871345027,
          0.39766081871345027,
          0.39766081871345027,
          0.39766081871345027,
          0.39766081871345027,
          0.39766081871345027,
          0.39766081871345027,
          0.3,
          0.3,
          0.3,
          0.39766081871345027,
          0.39766081871345027,
          0.39766081871345027,
          0.8285714285714286,
          0.8285714285714286,
          0.39766081871345027,
          0.39766081871345027,
          0.39766081871345027,
          0.3,
          0.3,
          0.3,
          0.75,
          0.75,
          0.8285714285714286,
          0.8285714285714286,
          0.75,
          0.75,
          0.75,
          0.39766081871345027,
          0.39766081871345027,
          0.39766081871345027,
          0.75,
          0.75,
          0.75,
          0.75,
          0.75,
          0.75,
          0.75,
          0.75,
          0.8285714285714286,
          0.8285714285714286,
          0.8285714285714286,
          0.75,
          0.75,
          0.75,
          0.75,
          0.75,
          0.75,
          0.75,
          0.75,
          0.75,
          0.8285714285714286,
          0.8285714285714286,
          0.8285714285714286,
          0.8285714285714286,
          0.75,
          0.75,
          0.8285714285714286,
          0.8285714285714286,
          0.8285714285714286,
          0.8285714285714286,
          0.75,
          0.75,
          0.75,
          0.8285714285714286,
          0.8285714285714286,
          0.8285714285714286,
          0.8285714285714286,
          0.8285714285714286,
          0.3,
          0.3,
          0.3,
          0.39766081871345027,
          0.39766081871345027,
          0.39766081871345027,
          0.75,
          0.75,
          0.75,
          0.8285714285714286,
          0.8285714285714286,
          0.75,
          0.75,
          0.8285714285714286,
          0.8285714285714286,
          0.39766081871345027,
          0.39766081871345027,
          0.39766081871345027,
          0.39766081871345027,
          0.39766081871345027,
          0.39766081871345027,
          0.39766081871345027,
          0.39766081871345027,
          0.39766081871345027,
          0.75,
          0.75,
          0.75,
          0.75,
          0.8285714285714286,
          0.8285714285714286,
          0.8285714285714286,
          0.8285714285714286,
          0.75,
          0.75,
          0.75,
          0.75,
          0.75,
          0.3,
          0.3,
          0.75,
          0.75,
          0.39766081871345027,
          0.39766081871345027,
          0.39766081871345027,
          0.39766081871345027,
          0.39766081871345027,
          0.39766081871345027,
          0.75,
          0.75,
          0.75,
          0.39766081871345027,
          0.39766081871345027,
          0.39766081871345027,
          0.3,
          0.3,
          0.3,
          0.3,
          0.3,
          0.3,
          0.39766081871345027,
          0.3,
          0.3,
          0.3,
          0.39766081871345027,
          0.39766081871345027,
          0.39766081871345027,
          0.39766081871345027,
          0.39766081871345027,
          0.39766081871345027,
          0.39766081871345027,
          0.39766081871345027,
          0.39766081871345027,
          0.75,
          0.75,
          0.75,
          0.75,
          0.75
         ]
        }
       ],
       "layout": {
        "template": {
         "data": {
          "bar": [
           {
            "error_x": {
             "color": "#2a3f5f"
            },
            "error_y": {
             "color": "#2a3f5f"
            },
            "marker": {
             "line": {
              "color": "#E5ECF6",
              "width": 0.5
             },
             "pattern": {
              "fillmode": "overlay",
              "size": 10,
              "solidity": 0.2
             }
            },
            "type": "bar"
           }
          ],
          "barpolar": [
           {
            "marker": {
             "line": {
              "color": "#E5ECF6",
              "width": 0.5
             },
             "pattern": {
              "fillmode": "overlay",
              "size": 10,
              "solidity": 0.2
             }
            },
            "type": "barpolar"
           }
          ],
          "carpet": [
           {
            "aaxis": {
             "endlinecolor": "#2a3f5f",
             "gridcolor": "white",
             "linecolor": "white",
             "minorgridcolor": "white",
             "startlinecolor": "#2a3f5f"
            },
            "baxis": {
             "endlinecolor": "#2a3f5f",
             "gridcolor": "white",
             "linecolor": "white",
             "minorgridcolor": "white",
             "startlinecolor": "#2a3f5f"
            },
            "type": "carpet"
           }
          ],
          "choropleth": [
           {
            "colorbar": {
             "outlinewidth": 0,
             "ticks": ""
            },
            "type": "choropleth"
           }
          ],
          "contour": [
           {
            "colorbar": {
             "outlinewidth": 0,
             "ticks": ""
            },
            "colorscale": [
             [
              0,
              "#0d0887"
             ],
             [
              0.1111111111111111,
              "#46039f"
             ],
             [
              0.2222222222222222,
              "#7201a8"
             ],
             [
              0.3333333333333333,
              "#9c179e"
             ],
             [
              0.4444444444444444,
              "#bd3786"
             ],
             [
              0.5555555555555556,
              "#d8576b"
             ],
             [
              0.6666666666666666,
              "#ed7953"
             ],
             [
              0.7777777777777778,
              "#fb9f3a"
             ],
             [
              0.8888888888888888,
              "#fdca26"
             ],
             [
              1,
              "#f0f921"
             ]
            ],
            "type": "contour"
           }
          ],
          "contourcarpet": [
           {
            "colorbar": {
             "outlinewidth": 0,
             "ticks": ""
            },
            "type": "contourcarpet"
           }
          ],
          "heatmap": [
           {
            "colorbar": {
             "outlinewidth": 0,
             "ticks": ""
            },
            "colorscale": [
             [
              0,
              "#0d0887"
             ],
             [
              0.1111111111111111,
              "#46039f"
             ],
             [
              0.2222222222222222,
              "#7201a8"
             ],
             [
              0.3333333333333333,
              "#9c179e"
             ],
             [
              0.4444444444444444,
              "#bd3786"
             ],
             [
              0.5555555555555556,
              "#d8576b"
             ],
             [
              0.6666666666666666,
              "#ed7953"
             ],
             [
              0.7777777777777778,
              "#fb9f3a"
             ],
             [
              0.8888888888888888,
              "#fdca26"
             ],
             [
              1,
              "#f0f921"
             ]
            ],
            "type": "heatmap"
           }
          ],
          "heatmapgl": [
           {
            "colorbar": {
             "outlinewidth": 0,
             "ticks": ""
            },
            "colorscale": [
             [
              0,
              "#0d0887"
             ],
             [
              0.1111111111111111,
              "#46039f"
             ],
             [
              0.2222222222222222,
              "#7201a8"
             ],
             [
              0.3333333333333333,
              "#9c179e"
             ],
             [
              0.4444444444444444,
              "#bd3786"
             ],
             [
              0.5555555555555556,
              "#d8576b"
             ],
             [
              0.6666666666666666,
              "#ed7953"
             ],
             [
              0.7777777777777778,
              "#fb9f3a"
             ],
             [
              0.8888888888888888,
              "#fdca26"
             ],
             [
              1,
              "#f0f921"
             ]
            ],
            "type": "heatmapgl"
           }
          ],
          "histogram": [
           {
            "marker": {
             "pattern": {
              "fillmode": "overlay",
              "size": 10,
              "solidity": 0.2
             }
            },
            "type": "histogram"
           }
          ],
          "histogram2d": [
           {
            "colorbar": {
             "outlinewidth": 0,
             "ticks": ""
            },
            "colorscale": [
             [
              0,
              "#0d0887"
             ],
             [
              0.1111111111111111,
              "#46039f"
             ],
             [
              0.2222222222222222,
              "#7201a8"
             ],
             [
              0.3333333333333333,
              "#9c179e"
             ],
             [
              0.4444444444444444,
              "#bd3786"
             ],
             [
              0.5555555555555556,
              "#d8576b"
             ],
             [
              0.6666666666666666,
              "#ed7953"
             ],
             [
              0.7777777777777778,
              "#fb9f3a"
             ],
             [
              0.8888888888888888,
              "#fdca26"
             ],
             [
              1,
              "#f0f921"
             ]
            ],
            "type": "histogram2d"
           }
          ],
          "histogram2dcontour": [
           {
            "colorbar": {
             "outlinewidth": 0,
             "ticks": ""
            },
            "colorscale": [
             [
              0,
              "#0d0887"
             ],
             [
              0.1111111111111111,
              "#46039f"
             ],
             [
              0.2222222222222222,
              "#7201a8"
             ],
             [
              0.3333333333333333,
              "#9c179e"
             ],
             [
              0.4444444444444444,
              "#bd3786"
             ],
             [
              0.5555555555555556,
              "#d8576b"
             ],
             [
              0.6666666666666666,
              "#ed7953"
             ],
             [
              0.7777777777777778,
              "#fb9f3a"
             ],
             [
              0.8888888888888888,
              "#fdca26"
             ],
             [
              1,
              "#f0f921"
             ]
            ],
            "type": "histogram2dcontour"
           }
          ],
          "mesh3d": [
           {
            "colorbar": {
             "outlinewidth": 0,
             "ticks": ""
            },
            "type": "mesh3d"
           }
          ],
          "parcoords": [
           {
            "line": {
             "colorbar": {
              "outlinewidth": 0,
              "ticks": ""
             }
            },
            "type": "parcoords"
           }
          ],
          "pie": [
           {
            "automargin": true,
            "type": "pie"
           }
          ],
          "scatter": [
           {
            "fillpattern": {
             "fillmode": "overlay",
             "size": 10,
             "solidity": 0.2
            },
            "type": "scatter"
           }
          ],
          "scatter3d": [
           {
            "line": {
             "colorbar": {
              "outlinewidth": 0,
              "ticks": ""
             }
            },
            "marker": {
             "colorbar": {
              "outlinewidth": 0,
              "ticks": ""
             }
            },
            "type": "scatter3d"
           }
          ],
          "scattercarpet": [
           {
            "marker": {
             "colorbar": {
              "outlinewidth": 0,
              "ticks": ""
             }
            },
            "type": "scattercarpet"
           }
          ],
          "scattergeo": [
           {
            "marker": {
             "colorbar": {
              "outlinewidth": 0,
              "ticks": ""
             }
            },
            "type": "scattergeo"
           }
          ],
          "scattergl": [
           {
            "marker": {
             "colorbar": {
              "outlinewidth": 0,
              "ticks": ""
             }
            },
            "type": "scattergl"
           }
          ],
          "scattermapbox": [
           {
            "marker": {
             "colorbar": {
              "outlinewidth": 0,
              "ticks": ""
             }
            },
            "type": "scattermapbox"
           }
          ],
          "scatterpolar": [
           {
            "marker": {
             "colorbar": {
              "outlinewidth": 0,
              "ticks": ""
             }
            },
            "type": "scatterpolar"
           }
          ],
          "scatterpolargl": [
           {
            "marker": {
             "colorbar": {
              "outlinewidth": 0,
              "ticks": ""
             }
            },
            "type": "scatterpolargl"
           }
          ],
          "scatterternary": [
           {
            "marker": {
             "colorbar": {
              "outlinewidth": 0,
              "ticks": ""
             }
            },
            "type": "scatterternary"
           }
          ],
          "surface": [
           {
            "colorbar": {
             "outlinewidth": 0,
             "ticks": ""
            },
            "colorscale": [
             [
              0,
              "#0d0887"
             ],
             [
              0.1111111111111111,
              "#46039f"
             ],
             [
              0.2222222222222222,
              "#7201a8"
             ],
             [
              0.3333333333333333,
              "#9c179e"
             ],
             [
              0.4444444444444444,
              "#bd3786"
             ],
             [
              0.5555555555555556,
              "#d8576b"
             ],
             [
              0.6666666666666666,
              "#ed7953"
             ],
             [
              0.7777777777777778,
              "#fb9f3a"
             ],
             [
              0.8888888888888888,
              "#fdca26"
             ],
             [
              1,
              "#f0f921"
             ]
            ],
            "type": "surface"
           }
          ],
          "table": [
           {
            "cells": {
             "fill": {
              "color": "#EBF0F8"
             },
             "line": {
              "color": "white"
             }
            },
            "header": {
             "fill": {
              "color": "#C8D4E3"
             },
             "line": {
              "color": "white"
             }
            },
            "type": "table"
           }
          ]
         },
         "layout": {
          "annotationdefaults": {
           "arrowcolor": "#2a3f5f",
           "arrowhead": 0,
           "arrowwidth": 1
          },
          "autotypenumbers": "strict",
          "coloraxis": {
           "colorbar": {
            "outlinewidth": 0,
            "ticks": ""
           }
          },
          "colorscale": {
           "diverging": [
            [
             0,
             "#8e0152"
            ],
            [
             0.1,
             "#c51b7d"
            ],
            [
             0.2,
             "#de77ae"
            ],
            [
             0.3,
             "#f1b6da"
            ],
            [
             0.4,
             "#fde0ef"
            ],
            [
             0.5,
             "#f7f7f7"
            ],
            [
             0.6,
             "#e6f5d0"
            ],
            [
             0.7,
             "#b8e186"
            ],
            [
             0.8,
             "#7fbc41"
            ],
            [
             0.9,
             "#4d9221"
            ],
            [
             1,
             "#276419"
            ]
           ],
           "sequential": [
            [
             0,
             "#0d0887"
            ],
            [
             0.1111111111111111,
             "#46039f"
            ],
            [
             0.2222222222222222,
             "#7201a8"
            ],
            [
             0.3333333333333333,
             "#9c179e"
            ],
            [
             0.4444444444444444,
             "#bd3786"
            ],
            [
             0.5555555555555556,
             "#d8576b"
            ],
            [
             0.6666666666666666,
             "#ed7953"
            ],
            [
             0.7777777777777778,
             "#fb9f3a"
            ],
            [
             0.8888888888888888,
             "#fdca26"
            ],
            [
             1,
             "#f0f921"
            ]
           ],
           "sequentialminus": [
            [
             0,
             "#0d0887"
            ],
            [
             0.1111111111111111,
             "#46039f"
            ],
            [
             0.2222222222222222,
             "#7201a8"
            ],
            [
             0.3333333333333333,
             "#9c179e"
            ],
            [
             0.4444444444444444,
             "#bd3786"
            ],
            [
             0.5555555555555556,
             "#d8576b"
            ],
            [
             0.6666666666666666,
             "#ed7953"
            ],
            [
             0.7777777777777778,
             "#fb9f3a"
            ],
            [
             0.8888888888888888,
             "#fdca26"
            ],
            [
             1,
             "#f0f921"
            ]
           ]
          },
          "colorway": [
           "#636efa",
           "#EF553B",
           "#00cc96",
           "#ab63fa",
           "#FFA15A",
           "#19d3f3",
           "#FF6692",
           "#B6E880",
           "#FF97FF",
           "#FECB52"
          ],
          "font": {
           "color": "#2a3f5f"
          },
          "geo": {
           "bgcolor": "white",
           "lakecolor": "white",
           "landcolor": "#E5ECF6",
           "showlakes": true,
           "showland": true,
           "subunitcolor": "white"
          },
          "hoverlabel": {
           "align": "left"
          },
          "hovermode": "closest",
          "mapbox": {
           "style": "light"
          },
          "paper_bgcolor": "white",
          "plot_bgcolor": "#E5ECF6",
          "polar": {
           "angularaxis": {
            "gridcolor": "white",
            "linecolor": "white",
            "ticks": ""
           },
           "bgcolor": "#E5ECF6",
           "radialaxis": {
            "gridcolor": "white",
            "linecolor": "white",
            "ticks": ""
           }
          },
          "scene": {
           "xaxis": {
            "backgroundcolor": "#E5ECF6",
            "gridcolor": "white",
            "gridwidth": 2,
            "linecolor": "white",
            "showbackground": true,
            "ticks": "",
            "zerolinecolor": "white"
           },
           "yaxis": {
            "backgroundcolor": "#E5ECF6",
            "gridcolor": "white",
            "gridwidth": 2,
            "linecolor": "white",
            "showbackground": true,
            "ticks": "",
            "zerolinecolor": "white"
           },
           "zaxis": {
            "backgroundcolor": "#E5ECF6",
            "gridcolor": "white",
            "gridwidth": 2,
            "linecolor": "white",
            "showbackground": true,
            "ticks": "",
            "zerolinecolor": "white"
           }
          },
          "shapedefaults": {
           "line": {
            "color": "#2a3f5f"
           }
          },
          "ternary": {
           "aaxis": {
            "gridcolor": "white",
            "linecolor": "white",
            "ticks": ""
           },
           "baxis": {
            "gridcolor": "white",
            "linecolor": "white",
            "ticks": ""
           },
           "bgcolor": "#E5ECF6",
           "caxis": {
            "gridcolor": "white",
            "linecolor": "white",
            "ticks": ""
           }
          },
          "title": {
           "x": 0.05
          },
          "xaxis": {
           "automargin": true,
           "gridcolor": "white",
           "linecolor": "white",
           "ticks": "",
           "title": {
            "standoff": 15
           },
           "zerolinecolor": "white",
           "zerolinewidth": 2
          },
          "yaxis": {
           "automargin": true,
           "gridcolor": "white",
           "linecolor": "white",
           "ticks": "",
           "title": {
            "standoff": 15
           },
           "zerolinecolor": "white",
           "zerolinewidth": 2
          }
         }
        }
       }
      }
     },
     "metadata": {},
     "output_type": "display_data"
    },
    {
     "data": {
      "application/vnd.plotly.v1+json": {
       "config": {
        "plotlyServerURL": "https://plot.ly"
       },
       "data": [
        {
         "autocolorscale": false,
         "colorbar": {
          "tickprefix": "",
          "title": {
           "text": "transformer accuracy_score"
          }
         },
         "colorscale": [
          [
           0,
           "rgb(247,252,245)"
          ],
          [
           0.125,
           "rgb(229,245,224)"
          ],
          [
           0.25,
           "rgb(199,233,192)"
          ],
          [
           0.375,
           "rgb(161,217,155)"
          ],
          [
           0.5,
           "rgb(116,196,118)"
          ],
          [
           0.625,
           "rgb(65,171,93)"
          ],
          [
           0.75,
           "rgb(35,139,69)"
          ],
          [
           0.875,
           "rgb(0,109,44)"
          ],
          [
           1,
           "rgb(0,68,27)"
          ]
         ],
         "locations": [
          "FJI",
          "FJI",
          "TZA",
          "TZA",
          "TZA",
          "CAN",
          "CAN",
          "USA",
          "USA",
          "USA",
          "KAZ",
          "KAZ",
          "KAZ",
          "UZB",
          "UZB",
          "UZB",
          "IDN",
          "IDN",
          "IDN",
          "ARG",
          "ARG",
          "ARG",
          "CHL",
          "CHL",
          "CHL",
          "SOM",
          "SOM",
          "SOM",
          "KEN",
          "KEN",
          "KEN",
          "SDN",
          "SDN",
          "SDN",
          "TCD",
          "TCD",
          "TCD",
          "HTI",
          "HTI",
          "HTI",
          "RUS",
          "RUS",
          "RUS",
          "NOR",
          "NOR",
          "ZAF",
          "ZAF",
          "ZAF",
          "LSO",
          "LSO",
          "LSO",
          "MEX",
          "MEX",
          "MEX",
          "URY",
          "URY",
          "BRA",
          "BRA",
          "BRA",
          "BOL",
          "BOL",
          "BOL",
          "PER",
          "PER",
          "PER",
          "COL",
          "COL",
          "COL",
          "PAN",
          "PAN",
          "NIC",
          "NIC",
          "NIC",
          "HND",
          "HND",
          "HND",
          "SLV",
          "SLV",
          "SLV",
          "GTM",
          "GTM",
          "GTM",
          "BLZ",
          "BLZ",
          "BLZ",
          "GUY",
          "GUY",
          "GUY",
          "SUR",
          "SUR",
          "FRA",
          "FRA",
          "FRA",
          "ECU",
          "ECU",
          "ECU",
          "JAM",
          "JAM",
          "JAM",
          "CUB",
          "CUB",
          "CUB",
          "ZWE",
          "ZWE",
          "ZWE",
          "BWA",
          "BWA",
          "BWA",
          "NAM",
          "NAM",
          "NAM",
          "SEN",
          "SEN",
          "SEN",
          "MLI",
          "MLI",
          "MLI",
          "MRT",
          "MRT",
          "BEN",
          "BEN",
          "BEN",
          "NER",
          "NER",
          "NER",
          "NGA",
          "NGA",
          "NGA",
          "CMR",
          "CMR",
          "CMR",
          "TGO",
          "TGO",
          "TGO",
          "GHA",
          "GHA",
          "GHA",
          "CIV",
          "GIN",
          "GIN",
          "GIN",
          "LBR",
          "LBR",
          "LBR",
          "BFA",
          "BFA",
          "BFA",
          "GAB",
          "GAB",
          "ZMB",
          "ZMB",
          "ZMB",
          "MWI",
          "MWI",
          "MWI",
          "MOZ",
          "MOZ",
          "MOZ",
          "AGO",
          "AGO",
          "AGO",
          "BDI",
          "BDI",
          "ISR",
          "ISR",
          "ISR",
          "LBN",
          "LBN",
          "LBN",
          "MDG",
          "MDG",
          "MDG",
          "TUN",
          "TUN",
          "DZA",
          "DZA",
          "DZA",
          "JOR",
          "JOR",
          "JOR",
          "QAT",
          "QAT",
          "KWT",
          "KWT",
          "IRQ",
          "IRQ",
          "IRQ",
          "OMN",
          "OMN",
          "KHM",
          "KHM",
          "THA",
          "THA",
          "THA",
          "MMR",
          "MMR",
          "MMR",
          "VNM",
          "VNM",
          "MNG",
          "MNG",
          "IND",
          "IND",
          "IND",
          "BGD",
          "BGD",
          "BGD",
          "BTN",
          "BTN",
          "NPL",
          "NPL",
          "NPL",
          "PAK",
          "PAK",
          "PAK",
          "AFG",
          "AFG",
          "AFG",
          "TJK",
          "TJK",
          "KGZ",
          "KGZ",
          "KGZ",
          "TKM",
          "TKM",
          "SYR",
          "SYR",
          "SYR",
          "ARM",
          "ARM",
          "ARM",
          "SWE",
          "SWE",
          "BLR",
          "BLR",
          "BLR",
          "UKR",
          "UKR",
          "UKR",
          "POL",
          "POL",
          "AUT",
          "AUT",
          "HUN",
          "HUN",
          "HUN",
          "MDA",
          "MDA",
          "MDA",
          "ROU",
          "ROU",
          "LTU",
          "LTU",
          "LVA",
          "LVA",
          "EST",
          "EST",
          "DEU",
          "DEU",
          "DEU",
          "BGR",
          "BGR",
          "GRC",
          "GRC",
          "GRC",
          "ALB",
          "ALB",
          "HRV",
          "HRV",
          "CHE",
          "CHE",
          "LUX",
          "LUX",
          "BEL",
          "BEL",
          "NLD",
          "NLD",
          "PRT",
          "PRT",
          "ESP",
          "ESP",
          "ESP",
          "IRL",
          "IRL",
          "IRL",
          "AUS",
          "AUS",
          "LKA",
          "LKA",
          "LKA",
          "CHN",
          "CHN",
          "CHN",
          "ITA",
          "ITA",
          "ITA",
          "DNK",
          "DNK",
          "GBR",
          "GBR",
          "ISL",
          "ISL",
          "AZE",
          "AZE",
          "AZE",
          "GEO",
          "GEO",
          "GEO",
          "PHL",
          "PHL",
          "PHL",
          "MYS",
          "MYS",
          "BRN",
          "BRN",
          "SVN",
          "SVN",
          "FIN",
          "FIN",
          "SVK",
          "SVK",
          "CZE",
          "CZE",
          "CZE",
          "ERI",
          "ERI",
          "JPN",
          "JPN",
          "PRY",
          "PRY",
          "PRY",
          "SAU",
          "SAU",
          "SAU",
          "CYP",
          "CYP",
          "CYP",
          "MAR",
          "MAR",
          "MAR",
          "LBY",
          "LBY",
          "LBY",
          "ETH",
          "ETH",
          "ETH",
          "DJI",
          "UGA",
          "UGA",
          "UGA",
          "RWA",
          "RWA",
          "RWA",
          "MKD",
          "MKD",
          "MKD",
          "SRB",
          "SRB",
          "SRB",
          "MNE",
          "MNE",
          "TTO",
          "TTO",
          "TTO"
         ],
         "marker": {
          "line": {
           "color": "darkgray",
           "width": 0.5
          }
         },
         "reversescale": false,
         "text": [
          "FJI",
          "FJI",
          "TZA",
          "TZA",
          "TZA",
          "CAN",
          "CAN",
          "USA",
          "USA",
          "USA",
          "KAZ",
          "KAZ",
          "KAZ",
          "UZB",
          "UZB",
          "UZB",
          "IDN",
          "IDN",
          "IDN",
          "ARG",
          "ARG",
          "ARG",
          "CHL",
          "CHL",
          "CHL",
          "SOM",
          "SOM",
          "SOM",
          "KEN",
          "KEN",
          "KEN",
          "SDN",
          "SDN",
          "SDN",
          "TCD",
          "TCD",
          "TCD",
          "HTI",
          "HTI",
          "HTI",
          "RUS",
          "RUS",
          "RUS",
          "NOR",
          "NOR",
          "ZAF",
          "ZAF",
          "ZAF",
          "LSO",
          "LSO",
          "LSO",
          "MEX",
          "MEX",
          "MEX",
          "URY",
          "URY",
          "BRA",
          "BRA",
          "BRA",
          "BOL",
          "BOL",
          "BOL",
          "PER",
          "PER",
          "PER",
          "COL",
          "COL",
          "COL",
          "PAN",
          "PAN",
          "NIC",
          "NIC",
          "NIC",
          "HND",
          "HND",
          "HND",
          "SLV",
          "SLV",
          "SLV",
          "GTM",
          "GTM",
          "GTM",
          "BLZ",
          "BLZ",
          "BLZ",
          "GUY",
          "GUY",
          "GUY",
          "SUR",
          "SUR",
          "FRA",
          "FRA",
          "FRA",
          "ECU",
          "ECU",
          "ECU",
          "JAM",
          "JAM",
          "JAM",
          "CUB",
          "CUB",
          "CUB",
          "ZWE",
          "ZWE",
          "ZWE",
          "BWA",
          "BWA",
          "BWA",
          "NAM",
          "NAM",
          "NAM",
          "SEN",
          "SEN",
          "SEN",
          "MLI",
          "MLI",
          "MLI",
          "MRT",
          "MRT",
          "BEN",
          "BEN",
          "BEN",
          "NER",
          "NER",
          "NER",
          "NGA",
          "NGA",
          "NGA",
          "CMR",
          "CMR",
          "CMR",
          "TGO",
          "TGO",
          "TGO",
          "GHA",
          "GHA",
          "GHA",
          "CIV",
          "GIN",
          "GIN",
          "GIN",
          "LBR",
          "LBR",
          "LBR",
          "BFA",
          "BFA",
          "BFA",
          "GAB",
          "GAB",
          "ZMB",
          "ZMB",
          "ZMB",
          "MWI",
          "MWI",
          "MWI",
          "MOZ",
          "MOZ",
          "MOZ",
          "AGO",
          "AGO",
          "AGO",
          "BDI",
          "BDI",
          "ISR",
          "ISR",
          "ISR",
          "LBN",
          "LBN",
          "LBN",
          "MDG",
          "MDG",
          "MDG",
          "TUN",
          "TUN",
          "DZA",
          "DZA",
          "DZA",
          "JOR",
          "JOR",
          "JOR",
          "QAT",
          "QAT",
          "KWT",
          "KWT",
          "IRQ",
          "IRQ",
          "IRQ",
          "OMN",
          "OMN",
          "KHM",
          "KHM",
          "THA",
          "THA",
          "THA",
          "MMR",
          "MMR",
          "MMR",
          "VNM",
          "VNM",
          "MNG",
          "MNG",
          "IND",
          "IND",
          "IND",
          "BGD",
          "BGD",
          "BGD",
          "BTN",
          "BTN",
          "NPL",
          "NPL",
          "NPL",
          "PAK",
          "PAK",
          "PAK",
          "AFG",
          "AFG",
          "AFG",
          "TJK",
          "TJK",
          "KGZ",
          "KGZ",
          "KGZ",
          "TKM",
          "TKM",
          "SYR",
          "SYR",
          "SYR",
          "ARM",
          "ARM",
          "ARM",
          "SWE",
          "SWE",
          "BLR",
          "BLR",
          "BLR",
          "UKR",
          "UKR",
          "UKR",
          "POL",
          "POL",
          "AUT",
          "AUT",
          "HUN",
          "HUN",
          "HUN",
          "MDA",
          "MDA",
          "MDA",
          "ROU",
          "ROU",
          "LTU",
          "LTU",
          "LVA",
          "LVA",
          "EST",
          "EST",
          "DEU",
          "DEU",
          "DEU",
          "BGR",
          "BGR",
          "GRC",
          "GRC",
          "GRC",
          "ALB",
          "ALB",
          "HRV",
          "HRV",
          "CHE",
          "CHE",
          "LUX",
          "LUX",
          "BEL",
          "BEL",
          "NLD",
          "NLD",
          "PRT",
          "PRT",
          "ESP",
          "ESP",
          "ESP",
          "IRL",
          "IRL",
          "IRL",
          "AUS",
          "AUS",
          "LKA",
          "LKA",
          "LKA",
          "CHN",
          "CHN",
          "CHN",
          "ITA",
          "ITA",
          "ITA",
          "DNK",
          "DNK",
          "GBR",
          "GBR",
          "ISL",
          "ISL",
          "AZE",
          "AZE",
          "AZE",
          "GEO",
          "GEO",
          "GEO",
          "PHL",
          "PHL",
          "PHL",
          "MYS",
          "MYS",
          "BRN",
          "BRN",
          "SVN",
          "SVN",
          "FIN",
          "FIN",
          "SVK",
          "SVK",
          "CZE",
          "CZE",
          "CZE",
          "ERI",
          "ERI",
          "JPN",
          "JPN",
          "PRY",
          "PRY",
          "PRY",
          "SAU",
          "SAU",
          "SAU",
          "CYP",
          "CYP",
          "CYP",
          "MAR",
          "MAR",
          "MAR",
          "LBY",
          "LBY",
          "LBY",
          "ETH",
          "ETH",
          "ETH",
          "DJI",
          "UGA",
          "UGA",
          "UGA",
          "RWA",
          "RWA",
          "RWA",
          "MKD",
          "MKD",
          "MKD",
          "SRB",
          "SRB",
          "SRB",
          "MNE",
          "MNE",
          "TTO",
          "TTO",
          "TTO"
         ],
         "type": "choropleth",
         "z": [
          0.5614035087719298,
          0.5614035087719298,
          0.5614035087719298,
          0.5614035087719298,
          0.5614035087719298,
          0.9428571428571428,
          0.9428571428571428,
          0.7159090909090909,
          0.7159090909090909,
          0.7159090909090909,
          0.5614035087719298,
          0.5614035087719298,
          0.5614035087719298,
          0.5614035087719298,
          0.5614035087719298,
          0.5614035087719298,
          0.5614035087719298,
          0.5614035087719298,
          0.5614035087719298,
          0.7159090909090909,
          0.7159090909090909,
          0.7159090909090909,
          0.7159090909090909,
          0.7159090909090909,
          0.7159090909090909,
          0.4714285714285714,
          0.4714285714285714,
          0.4714285714285714,
          0.5614035087719298,
          0.5614035087719298,
          0.5614035087719298,
          0.4714285714285714,
          0.4714285714285714,
          0.4714285714285714,
          0.4714285714285714,
          0.4714285714285714,
          0.4714285714285714,
          0.4714285714285714,
          0.4714285714285714,
          0.4714285714285714,
          0.5614035087719298,
          0.5614035087719298,
          0.5614035087719298,
          0.9428571428571428,
          0.9428571428571428,
          0.5614035087719298,
          0.5614035087719298,
          0.5614035087719298,
          0.5614035087719298,
          0.5614035087719298,
          0.5614035087719298,
          0.5614035087719298,
          0.5614035087719298,
          0.5614035087719298,
          0.7159090909090909,
          0.7159090909090909,
          0.5614035087719298,
          0.5614035087719298,
          0.5614035087719298,
          0.5614035087719298,
          0.5614035087719298,
          0.5614035087719298,
          0.5614035087719298,
          0.5614035087719298,
          0.5614035087719298,
          0.5614035087719298,
          0.5614035087719298,
          0.5614035087719298,
          0.7159090909090909,
          0.7159090909090909,
          0.5614035087719298,
          0.5614035087719298,
          0.5614035087719298,
          0.5614035087719298,
          0.5614035087719298,
          0.5614035087719298,
          0.5614035087719298,
          0.5614035087719298,
          0.5614035087719298,
          0.5614035087719298,
          0.5614035087719298,
          0.5614035087719298,
          0.7159090909090909,
          0.7159090909090909,
          0.7159090909090909,
          0.5614035087719298,
          0.5614035087719298,
          0.5614035087719298,
          0.7159090909090909,
          0.7159090909090909,
          0.9428571428571428,
          0.9428571428571428,
          0.9428571428571428,
          0.5614035087719298,
          0.5614035087719298,
          0.5614035087719298,
          0.5614035087719298,
          0.5614035087719298,
          0.5614035087719298,
          0.7159090909090909,
          0.7159090909090909,
          0.7159090909090909,
          0.4714285714285714,
          0.4714285714285714,
          0.4714285714285714,
          0.7159090909090909,
          0.7159090909090909,
          0.7159090909090909,
          0.5614035087719298,
          0.5614035087719298,
          0.5614035087719298,
          0.5614035087719298,
          0.5614035087719298,
          0.5614035087719298,
          0.4714285714285714,
          0.4714285714285714,
          0.4714285714285714,
          0.5614035087719298,
          0.5614035087719298,
          0.5614035087719298,
          0.5614035087719298,
          0.5614035087719298,
          0.4714285714285714,
          0.4714285714285714,
          0.4714285714285714,
          0.4714285714285714,
          0.4714285714285714,
          0.4714285714285714,
          0.4714285714285714,
          0.4714285714285714,
          0.4714285714285714,
          0.5614035087719298,
          0.5614035087719298,
          0.5614035087719298,
          0.5614035087719298,
          0.5614035087719298,
          0.5614035087719298,
          0.5614035087719298,
          0.4714285714285714,
          0.4714285714285714,
          0.4714285714285714,
          0.5614035087719298,
          0.5614035087719298,
          0.5614035087719298,
          0.4714285714285714,
          0.4714285714285714,
          0.4714285714285714,
          0.5614035087719298,
          0.5614035087719298,
          0.5614035087719298,
          0.5614035087719298,
          0.5614035087719298,
          0.5614035087719298,
          0.5614035087719298,
          0.5614035087719298,
          0.4714285714285714,
          0.4714285714285714,
          0.4714285714285714,
          0.5614035087719298,
          0.5614035087719298,
          0.5614035087719298,
          0.4714285714285714,
          0.4714285714285714,
          0.7159090909090909,
          0.7159090909090909,
          0.7159090909090909,
          0.4714285714285714,
          0.4714285714285714,
          0.4714285714285714,
          0.5614035087719298,
          0.5614035087719298,
          0.5614035087719298,
          0.5614035087719298,
          0.5614035087719298,
          0.5614035087719298,
          0.5614035087719298,
          0.5614035087719298,
          0.5614035087719298,
          0.5614035087719298,
          0.5614035087719298,
          0.7159090909090909,
          0.7159090909090909,
          0.7159090909090909,
          0.7159090909090909,
          0.4714285714285714,
          0.4714285714285714,
          0.4714285714285714,
          0.7159090909090909,
          0.7159090909090909,
          0.5614035087719298,
          0.5614035087719298,
          0.5614035087719298,
          0.5614035087719298,
          0.5614035087719298,
          0.4714285714285714,
          0.4714285714285714,
          0.4714285714285714,
          0.7159090909090909,
          0.7159090909090909,
          0.7159090909090909,
          0.7159090909090909,
          0.5614035087719298,
          0.5614035087719298,
          0.5614035087719298,
          0.5614035087719298,
          0.5614035087719298,
          0.5614035087719298,
          0.5614035087719298,
          0.5614035087719298,
          0.5614035087719298,
          0.5614035087719298,
          0.5614035087719298,
          0.5614035087719298,
          0.5614035087719298,
          0.5614035087719298,
          0.4714285714285714,
          0.4714285714285714,
          0.4714285714285714,
          0.5614035087719298,
          0.5614035087719298,
          0.5614035087719298,
          0.5614035087719298,
          0.5614035087719298,
          0.5614035087719298,
          0.5614035087719298,
          0.4714285714285714,
          0.4714285714285714,
          0.4714285714285714,
          0.5614035087719298,
          0.5614035087719298,
          0.5614035087719298,
          0.9428571428571428,
          0.9428571428571428,
          0.5614035087719298,
          0.5614035087719298,
          0.5614035087719298,
          0.4714285714285714,
          0.4714285714285714,
          0.4714285714285714,
          0.7159090909090909,
          0.7159090909090909,
          0.9428571428571428,
          0.9428571428571428,
          0.7159090909090909,
          0.7159090909090909,
          0.7159090909090909,
          0.5614035087719298,
          0.5614035087719298,
          0.5614035087719298,
          0.7159090909090909,
          0.7159090909090909,
          0.7159090909090909,
          0.7159090909090909,
          0.7159090909090909,
          0.7159090909090909,
          0.7159090909090909,
          0.7159090909090909,
          0.9428571428571428,
          0.9428571428571428,
          0.9428571428571428,
          0.7159090909090909,
          0.7159090909090909,
          0.7159090909090909,
          0.7159090909090909,
          0.7159090909090909,
          0.7159090909090909,
          0.7159090909090909,
          0.7159090909090909,
          0.7159090909090909,
          0.9428571428571428,
          0.9428571428571428,
          0.9428571428571428,
          0.9428571428571428,
          0.7159090909090909,
          0.7159090909090909,
          0.9428571428571428,
          0.9428571428571428,
          0.9428571428571428,
          0.9428571428571428,
          0.7159090909090909,
          0.7159090909090909,
          0.7159090909090909,
          0.9428571428571428,
          0.9428571428571428,
          0.9428571428571428,
          0.9428571428571428,
          0.9428571428571428,
          0.4714285714285714,
          0.4714285714285714,
          0.4714285714285714,
          0.5614035087719298,
          0.5614035087719298,
          0.5614035087719298,
          0.7159090909090909,
          0.7159090909090909,
          0.7159090909090909,
          0.9428571428571428,
          0.9428571428571428,
          0.7159090909090909,
          0.7159090909090909,
          0.9428571428571428,
          0.9428571428571428,
          0.5614035087719298,
          0.5614035087719298,
          0.5614035087719298,
          0.5614035087719298,
          0.5614035087719298,
          0.5614035087719298,
          0.5614035087719298,
          0.5614035087719298,
          0.5614035087719298,
          0.7159090909090909,
          0.7159090909090909,
          0.7159090909090909,
          0.7159090909090909,
          0.9428571428571428,
          0.9428571428571428,
          0.9428571428571428,
          0.9428571428571428,
          0.7159090909090909,
          0.7159090909090909,
          0.7159090909090909,
          0.7159090909090909,
          0.7159090909090909,
          0.4714285714285714,
          0.4714285714285714,
          0.7159090909090909,
          0.7159090909090909,
          0.5614035087719298,
          0.5614035087719298,
          0.5614035087719298,
          0.5614035087719298,
          0.5614035087719298,
          0.5614035087719298,
          0.7159090909090909,
          0.7159090909090909,
          0.7159090909090909,
          0.5614035087719298,
          0.5614035087719298,
          0.5614035087719298,
          0.4714285714285714,
          0.4714285714285714,
          0.4714285714285714,
          0.4714285714285714,
          0.4714285714285714,
          0.4714285714285714,
          0.5614035087719298,
          0.4714285714285714,
          0.4714285714285714,
          0.4714285714285714,
          0.5614035087719298,
          0.5614035087719298,
          0.5614035087719298,
          0.5614035087719298,
          0.5614035087719298,
          0.5614035087719298,
          0.5614035087719298,
          0.5614035087719298,
          0.5614035087719298,
          0.7159090909090909,
          0.7159090909090909,
          0.7159090909090909,
          0.7159090909090909,
          0.7159090909090909
         ]
        }
       ],
       "layout": {
        "template": {
         "data": {
          "bar": [
           {
            "error_x": {
             "color": "#2a3f5f"
            },
            "error_y": {
             "color": "#2a3f5f"
            },
            "marker": {
             "line": {
              "color": "#E5ECF6",
              "width": 0.5
             },
             "pattern": {
              "fillmode": "overlay",
              "size": 10,
              "solidity": 0.2
             }
            },
            "type": "bar"
           }
          ],
          "barpolar": [
           {
            "marker": {
             "line": {
              "color": "#E5ECF6",
              "width": 0.5
             },
             "pattern": {
              "fillmode": "overlay",
              "size": 10,
              "solidity": 0.2
             }
            },
            "type": "barpolar"
           }
          ],
          "carpet": [
           {
            "aaxis": {
             "endlinecolor": "#2a3f5f",
             "gridcolor": "white",
             "linecolor": "white",
             "minorgridcolor": "white",
             "startlinecolor": "#2a3f5f"
            },
            "baxis": {
             "endlinecolor": "#2a3f5f",
             "gridcolor": "white",
             "linecolor": "white",
             "minorgridcolor": "white",
             "startlinecolor": "#2a3f5f"
            },
            "type": "carpet"
           }
          ],
          "choropleth": [
           {
            "colorbar": {
             "outlinewidth": 0,
             "ticks": ""
            },
            "type": "choropleth"
           }
          ],
          "contour": [
           {
            "colorbar": {
             "outlinewidth": 0,
             "ticks": ""
            },
            "colorscale": [
             [
              0,
              "#0d0887"
             ],
             [
              0.1111111111111111,
              "#46039f"
             ],
             [
              0.2222222222222222,
              "#7201a8"
             ],
             [
              0.3333333333333333,
              "#9c179e"
             ],
             [
              0.4444444444444444,
              "#bd3786"
             ],
             [
              0.5555555555555556,
              "#d8576b"
             ],
             [
              0.6666666666666666,
              "#ed7953"
             ],
             [
              0.7777777777777778,
              "#fb9f3a"
             ],
             [
              0.8888888888888888,
              "#fdca26"
             ],
             [
              1,
              "#f0f921"
             ]
            ],
            "type": "contour"
           }
          ],
          "contourcarpet": [
           {
            "colorbar": {
             "outlinewidth": 0,
             "ticks": ""
            },
            "type": "contourcarpet"
           }
          ],
          "heatmap": [
           {
            "colorbar": {
             "outlinewidth": 0,
             "ticks": ""
            },
            "colorscale": [
             [
              0,
              "#0d0887"
             ],
             [
              0.1111111111111111,
              "#46039f"
             ],
             [
              0.2222222222222222,
              "#7201a8"
             ],
             [
              0.3333333333333333,
              "#9c179e"
             ],
             [
              0.4444444444444444,
              "#bd3786"
             ],
             [
              0.5555555555555556,
              "#d8576b"
             ],
             [
              0.6666666666666666,
              "#ed7953"
             ],
             [
              0.7777777777777778,
              "#fb9f3a"
             ],
             [
              0.8888888888888888,
              "#fdca26"
             ],
             [
              1,
              "#f0f921"
             ]
            ],
            "type": "heatmap"
           }
          ],
          "heatmapgl": [
           {
            "colorbar": {
             "outlinewidth": 0,
             "ticks": ""
            },
            "colorscale": [
             [
              0,
              "#0d0887"
             ],
             [
              0.1111111111111111,
              "#46039f"
             ],
             [
              0.2222222222222222,
              "#7201a8"
             ],
             [
              0.3333333333333333,
              "#9c179e"
             ],
             [
              0.4444444444444444,
              "#bd3786"
             ],
             [
              0.5555555555555556,
              "#d8576b"
             ],
             [
              0.6666666666666666,
              "#ed7953"
             ],
             [
              0.7777777777777778,
              "#fb9f3a"
             ],
             [
              0.8888888888888888,
              "#fdca26"
             ],
             [
              1,
              "#f0f921"
             ]
            ],
            "type": "heatmapgl"
           }
          ],
          "histogram": [
           {
            "marker": {
             "pattern": {
              "fillmode": "overlay",
              "size": 10,
              "solidity": 0.2
             }
            },
            "type": "histogram"
           }
          ],
          "histogram2d": [
           {
            "colorbar": {
             "outlinewidth": 0,
             "ticks": ""
            },
            "colorscale": [
             [
              0,
              "#0d0887"
             ],
             [
              0.1111111111111111,
              "#46039f"
             ],
             [
              0.2222222222222222,
              "#7201a8"
             ],
             [
              0.3333333333333333,
              "#9c179e"
             ],
             [
              0.4444444444444444,
              "#bd3786"
             ],
             [
              0.5555555555555556,
              "#d8576b"
             ],
             [
              0.6666666666666666,
              "#ed7953"
             ],
             [
              0.7777777777777778,
              "#fb9f3a"
             ],
             [
              0.8888888888888888,
              "#fdca26"
             ],
             [
              1,
              "#f0f921"
             ]
            ],
            "type": "histogram2d"
           }
          ],
          "histogram2dcontour": [
           {
            "colorbar": {
             "outlinewidth": 0,
             "ticks": ""
            },
            "colorscale": [
             [
              0,
              "#0d0887"
             ],
             [
              0.1111111111111111,
              "#46039f"
             ],
             [
              0.2222222222222222,
              "#7201a8"
             ],
             [
              0.3333333333333333,
              "#9c179e"
             ],
             [
              0.4444444444444444,
              "#bd3786"
             ],
             [
              0.5555555555555556,
              "#d8576b"
             ],
             [
              0.6666666666666666,
              "#ed7953"
             ],
             [
              0.7777777777777778,
              "#fb9f3a"
             ],
             [
              0.8888888888888888,
              "#fdca26"
             ],
             [
              1,
              "#f0f921"
             ]
            ],
            "type": "histogram2dcontour"
           }
          ],
          "mesh3d": [
           {
            "colorbar": {
             "outlinewidth": 0,
             "ticks": ""
            },
            "type": "mesh3d"
           }
          ],
          "parcoords": [
           {
            "line": {
             "colorbar": {
              "outlinewidth": 0,
              "ticks": ""
             }
            },
            "type": "parcoords"
           }
          ],
          "pie": [
           {
            "automargin": true,
            "type": "pie"
           }
          ],
          "scatter": [
           {
            "fillpattern": {
             "fillmode": "overlay",
             "size": 10,
             "solidity": 0.2
            },
            "type": "scatter"
           }
          ],
          "scatter3d": [
           {
            "line": {
             "colorbar": {
              "outlinewidth": 0,
              "ticks": ""
             }
            },
            "marker": {
             "colorbar": {
              "outlinewidth": 0,
              "ticks": ""
             }
            },
            "type": "scatter3d"
           }
          ],
          "scattercarpet": [
           {
            "marker": {
             "colorbar": {
              "outlinewidth": 0,
              "ticks": ""
             }
            },
            "type": "scattercarpet"
           }
          ],
          "scattergeo": [
           {
            "marker": {
             "colorbar": {
              "outlinewidth": 0,
              "ticks": ""
             }
            },
            "type": "scattergeo"
           }
          ],
          "scattergl": [
           {
            "marker": {
             "colorbar": {
              "outlinewidth": 0,
              "ticks": ""
             }
            },
            "type": "scattergl"
           }
          ],
          "scattermapbox": [
           {
            "marker": {
             "colorbar": {
              "outlinewidth": 0,
              "ticks": ""
             }
            },
            "type": "scattermapbox"
           }
          ],
          "scatterpolar": [
           {
            "marker": {
             "colorbar": {
              "outlinewidth": 0,
              "ticks": ""
             }
            },
            "type": "scatterpolar"
           }
          ],
          "scatterpolargl": [
           {
            "marker": {
             "colorbar": {
              "outlinewidth": 0,
              "ticks": ""
             }
            },
            "type": "scatterpolargl"
           }
          ],
          "scatterternary": [
           {
            "marker": {
             "colorbar": {
              "outlinewidth": 0,
              "ticks": ""
             }
            },
            "type": "scatterternary"
           }
          ],
          "surface": [
           {
            "colorbar": {
             "outlinewidth": 0,
             "ticks": ""
            },
            "colorscale": [
             [
              0,
              "#0d0887"
             ],
             [
              0.1111111111111111,
              "#46039f"
             ],
             [
              0.2222222222222222,
              "#7201a8"
             ],
             [
              0.3333333333333333,
              "#9c179e"
             ],
             [
              0.4444444444444444,
              "#bd3786"
             ],
             [
              0.5555555555555556,
              "#d8576b"
             ],
             [
              0.6666666666666666,
              "#ed7953"
             ],
             [
              0.7777777777777778,
              "#fb9f3a"
             ],
             [
              0.8888888888888888,
              "#fdca26"
             ],
             [
              1,
              "#f0f921"
             ]
            ],
            "type": "surface"
           }
          ],
          "table": [
           {
            "cells": {
             "fill": {
              "color": "#EBF0F8"
             },
             "line": {
              "color": "white"
             }
            },
            "header": {
             "fill": {
              "color": "#C8D4E3"
             },
             "line": {
              "color": "white"
             }
            },
            "type": "table"
           }
          ]
         },
         "layout": {
          "annotationdefaults": {
           "arrowcolor": "#2a3f5f",
           "arrowhead": 0,
           "arrowwidth": 1
          },
          "autotypenumbers": "strict",
          "coloraxis": {
           "colorbar": {
            "outlinewidth": 0,
            "ticks": ""
           }
          },
          "colorscale": {
           "diverging": [
            [
             0,
             "#8e0152"
            ],
            [
             0.1,
             "#c51b7d"
            ],
            [
             0.2,
             "#de77ae"
            ],
            [
             0.3,
             "#f1b6da"
            ],
            [
             0.4,
             "#fde0ef"
            ],
            [
             0.5,
             "#f7f7f7"
            ],
            [
             0.6,
             "#e6f5d0"
            ],
            [
             0.7,
             "#b8e186"
            ],
            [
             0.8,
             "#7fbc41"
            ],
            [
             0.9,
             "#4d9221"
            ],
            [
             1,
             "#276419"
            ]
           ],
           "sequential": [
            [
             0,
             "#0d0887"
            ],
            [
             0.1111111111111111,
             "#46039f"
            ],
            [
             0.2222222222222222,
             "#7201a8"
            ],
            [
             0.3333333333333333,
             "#9c179e"
            ],
            [
             0.4444444444444444,
             "#bd3786"
            ],
            [
             0.5555555555555556,
             "#d8576b"
            ],
            [
             0.6666666666666666,
             "#ed7953"
            ],
            [
             0.7777777777777778,
             "#fb9f3a"
            ],
            [
             0.8888888888888888,
             "#fdca26"
            ],
            [
             1,
             "#f0f921"
            ]
           ],
           "sequentialminus": [
            [
             0,
             "#0d0887"
            ],
            [
             0.1111111111111111,
             "#46039f"
            ],
            [
             0.2222222222222222,
             "#7201a8"
            ],
            [
             0.3333333333333333,
             "#9c179e"
            ],
            [
             0.4444444444444444,
             "#bd3786"
            ],
            [
             0.5555555555555556,
             "#d8576b"
            ],
            [
             0.6666666666666666,
             "#ed7953"
            ],
            [
             0.7777777777777778,
             "#fb9f3a"
            ],
            [
             0.8888888888888888,
             "#fdca26"
            ],
            [
             1,
             "#f0f921"
            ]
           ]
          },
          "colorway": [
           "#636efa",
           "#EF553B",
           "#00cc96",
           "#ab63fa",
           "#FFA15A",
           "#19d3f3",
           "#FF6692",
           "#B6E880",
           "#FF97FF",
           "#FECB52"
          ],
          "font": {
           "color": "#2a3f5f"
          },
          "geo": {
           "bgcolor": "white",
           "lakecolor": "white",
           "landcolor": "#E5ECF6",
           "showlakes": true,
           "showland": true,
           "subunitcolor": "white"
          },
          "hoverlabel": {
           "align": "left"
          },
          "hovermode": "closest",
          "mapbox": {
           "style": "light"
          },
          "paper_bgcolor": "white",
          "plot_bgcolor": "#E5ECF6",
          "polar": {
           "angularaxis": {
            "gridcolor": "white",
            "linecolor": "white",
            "ticks": ""
           },
           "bgcolor": "#E5ECF6",
           "radialaxis": {
            "gridcolor": "white",
            "linecolor": "white",
            "ticks": ""
           }
          },
          "scene": {
           "xaxis": {
            "backgroundcolor": "#E5ECF6",
            "gridcolor": "white",
            "gridwidth": 2,
            "linecolor": "white",
            "showbackground": true,
            "ticks": "",
            "zerolinecolor": "white"
           },
           "yaxis": {
            "backgroundcolor": "#E5ECF6",
            "gridcolor": "white",
            "gridwidth": 2,
            "linecolor": "white",
            "showbackground": true,
            "ticks": "",
            "zerolinecolor": "white"
           },
           "zaxis": {
            "backgroundcolor": "#E5ECF6",
            "gridcolor": "white",
            "gridwidth": 2,
            "linecolor": "white",
            "showbackground": true,
            "ticks": "",
            "zerolinecolor": "white"
           }
          },
          "shapedefaults": {
           "line": {
            "color": "#2a3f5f"
           }
          },
          "ternary": {
           "aaxis": {
            "gridcolor": "white",
            "linecolor": "white",
            "ticks": ""
           },
           "baxis": {
            "gridcolor": "white",
            "linecolor": "white",
            "ticks": ""
           },
           "bgcolor": "#E5ECF6",
           "caxis": {
            "gridcolor": "white",
            "linecolor": "white",
            "ticks": ""
           }
          },
          "title": {
           "x": 0.05
          },
          "xaxis": {
           "automargin": true,
           "gridcolor": "white",
           "linecolor": "white",
           "ticks": "",
           "title": {
            "standoff": 15
           },
           "zerolinecolor": "white",
           "zerolinewidth": 2
          },
          "yaxis": {
           "automargin": true,
           "gridcolor": "white",
           "linecolor": "white",
           "ticks": "",
           "title": {
            "standoff": 15
           },
           "zerolinecolor": "white",
           "zerolinewidth": 2
          }
         }
        }
       }
      }
     },
     "metadata": {},
     "output_type": "display_data"
    }
   ],
   "source": [
    "fig = []\n",
    "for model,colors in zip(['ffnn', 'xgboost', 'transformer'],['Reds', 'Blues', 'Greens']):\n",
    "    fig += [go.Figure(data = go.Choropleth(locations=df_preds['iso3'], text=df_preds['iso3'], \n",
    "                                           z=chosen_metric_back_into_original_data[model], \n",
    "               colorscale = colors, autocolorscale=False, reversescale=False, marker_line_color='darkgray',\n",
    "               marker_line_width=0.5, colorbar_tickprefix='', colorbar_title=model+\" \"+chosen_metric))]\n",
    "fig[0].show()\n",
    "fig[1].show()\n",
    "fig[2].show()"
   ]
  },
  {
   "cell_type": "code",
   "execution_count": 54,
   "metadata": {},
   "outputs": [
    {
     "data": {
      "image/png": "[encoded data removed]",
      "text/plain": [
       "<Figure size 640x480 with 2 Axes>"
      ]
     },
     "metadata": {},
     "output_type": "display_data"
    },
    {
     "data": {
      "image/png": "[encoded data removed]",
      "text/plain": [
       "<Figure size 640x480 with 2 Axes>"
      ]
     },
     "metadata": {},
     "output_type": "display_data"
    },
    {
     "data": {
      "image/png": "[encoded data removed]",
      "text/plain": [
       "<Figure size 640x480 with 2 Axes>"
      ]
     },
     "metadata": {},
     "output_type": "display_data"
    }
   ],
   "source": [
    "# create confusion matrices\n",
    "from sklearn.metrics import confusion_matrix, ConfusionMatrixDisplay\n",
    "\n",
    "for model in ['ffnn', 'xgboost', 'transformer']:\n",
    "    cm = confusion_matrix(df[f\"y_true_{model}\"], df[f\"y_pred_{model}\"])\n",
    "    disp = ConfusionMatrixDisplay(confusion_matrix=cm, display_labels=['0', '1'])\n",
    "    disp.plot(cmap='Blues')\n",
    "    disp.ax_.set_title(model)\n",
    "    disp.ax_.set_xlabel('Predicted')\n",
    "    disp.ax_.set_ylabel('True')\n",
    "    disp.ax_.set_xticklabels(['False', 'True'])\n",
    "    disp.ax_.set_yticklabels(['False', 'True'])\n",
    "    disp.ax_.grid(False)\n",
    "    disp.ax_.set_ylim([1.5, -0.5]) # to fix bug in matplotlib\n",
    "    disp.ax_.set_xlim([-0.5, 1.5]) # to fix bug in matplotlib\n",
    "    disp.ax_.set_aspect('equal') # to fix bug in matplotlib\n",
    "    disp.ax_.set_aspect('equal') # to fix bug in matplotlib"
   ]
  },
  {
   "cell_type": "code",
   "execution_count": null,
   "metadata": {},
   "outputs": [],
   "source": []
  }
 ],
 "metadata": {
  "kernelspec": {
   "display_name": "Python 3",
   "language": "python",
   "name": "python3"
  },
  "language_info": {
   "codemirror_mode": {
    "name": "ipython",
    "version": 3
   },
   "file_extension": ".py",
   "mimetype": "text/x-python",
   "name": "python",
   "nbconvert_exporter": "python",
   "pygments_lexer": "ipython3",
   "version": "3.9.6"
  }
 },
 "nbformat": 4,
 "nbformat_minor": 2
}
