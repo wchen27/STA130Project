{
 "cells": [
  {
   "cell_type": "code",
   "execution_count": 8,
   "metadata": {},
   "outputs": [],
   "source": [
    "import pandas as pd\n",
    "df_indicators = pd.read_csv('country_indicators.csv')"
   ]
  },
  {
   "cell_type": "code",
   "execution_count": 9,
   "metadata": {},
   "outputs": [],
   "source": [
    "df_preds = pd.read_csv('test_predictions.csv')"
   ]
  },
  {
   "cell_type": "code",
   "execution_count": 10,
   "metadata": {},
   "outputs": [],
   "source": [
    "df = df_preds.merge(df_indicators, left_on='iso3', right_on='iso3', how='inner')"
   ]
  },
  {
   "cell_type": "code",
   "execution_count": 11,
   "metadata": {},
   "outputs": [
    {
     "data": {
      "text/html": [
       "<style type=\"text/css\">\n",
       "#T_08225_row0_col2 {\n",
       "  background-color: #cbe4cb;\n",
       "  color: #000000;\n",
       "}\n",
       "#T_08225_row1_col2 {\n",
       "  background-color: #ebf3eb;\n",
       "  color: #000000;\n",
       "}\n",
       "#T_08225_row2_col2 {\n",
       "  background-color: #acd4ac;\n",
       "  color: #000000;\n",
       "}\n",
       "#T_08225_row3_col2 {\n",
       "  background-color: #108810;\n",
       "  color: #f1f1f1;\n",
       "}\n",
       "#T_08225_row4_col2 {\n",
       "  background-color: #46a246;\n",
       "  color: #f1f1f1;\n",
       "}\n",
       "#T_08225_row5_col2 {\n",
       "  background-color: #53a953;\n",
       "  color: #f1f1f1;\n",
       "}\n",
       "#T_08225_row6_col2, #T_08225_row8_col2 {\n",
       "  background-color: #008000;\n",
       "  color: #f1f1f1;\n",
       "}\n",
       "#T_08225_row7_col2 {\n",
       "  background-color: #299429;\n",
       "  color: #f1f1f1;\n",
       "}\n",
       "#T_08225_row9_col2 {\n",
       "  background-color: #4ba54b;\n",
       "  color: #f1f1f1;\n",
       "}\n",
       "#T_08225_row10_col2 {\n",
       "  background-color: #c8e2c8;\n",
       "  color: #000000;\n",
       "}\n",
       "#T_08225_row11_col2 {\n",
       "  background-color: #8bc48b;\n",
       "  color: #000000;\n",
       "}\n",
       "</style>\n",
       "<table id=\"T_08225\">\n",
       "  <thead>\n",
       "    <tr>\n",
       "      <th id=\"T_08225_level0_col0\" class=\"col_heading level0 col0\" >model</th>\n",
       "      <th id=\"T_08225_level0_col1\" class=\"col_heading level0 col1\" >fsi_category</th>\n",
       "      <th id=\"T_08225_level0_col2\" class=\"col_heading level0 col2\" >accuracy_score</th>\n",
       "    </tr>\n",
       "  </thead>\n",
       "  <tbody>\n",
       "    <tr>\n",
       "      <td id=\"T_08225_row0_col0\" class=\"data row0 col0\" >ffnn</td>\n",
       "      <td id=\"T_08225_row0_col1\" class=\"data row0 col1\" >Alert</td>\n",
       "      <td id=\"T_08225_row0_col2\" class=\"data row0 col2\" >0.386</td>\n",
       "    </tr>\n",
       "    <tr>\n",
       "      <td id=\"T_08225_row1_col0\" class=\"data row1 col0\" >xgboost</td>\n",
       "      <td id=\"T_08225_row1_col1\" class=\"data row1 col1\" >Alert</td>\n",
       "      <td id=\"T_08225_row1_col2\" class=\"data row1 col2\" >0.300</td>\n",
       "    </tr>\n",
       "    <tr>\n",
       "      <td id=\"T_08225_row2_col0\" class=\"data row2 col0\" >transformer</td>\n",
       "      <td id=\"T_08225_row2_col1\" class=\"data row2 col1\" >Alert</td>\n",
       "      <td id=\"T_08225_row2_col2\" class=\"data row2 col2\" >0.471</td>\n",
       "    </tr>\n",
       "    <tr>\n",
       "      <td id=\"T_08225_row3_col0\" class=\"data row3 col0\" >ffnn</td>\n",
       "      <td id=\"T_08225_row3_col1\" class=\"data row3 col1\" >Stable</td>\n",
       "      <td id=\"T_08225_row3_col2\" class=\"data row3 col2\" >0.898</td>\n",
       "    </tr>\n",
       "    <tr>\n",
       "      <td id=\"T_08225_row4_col0\" class=\"data row4 col0\" >xgboost</td>\n",
       "      <td id=\"T_08225_row4_col1\" class=\"data row4 col1\" >Stable</td>\n",
       "      <td id=\"T_08225_row4_col2\" class=\"data row4 col2\" >0.750</td>\n",
       "    </tr>\n",
       "    <tr>\n",
       "      <td id=\"T_08225_row5_col0\" class=\"data row5 col0\" >transformer</td>\n",
       "      <td id=\"T_08225_row5_col1\" class=\"data row5 col1\" >Stable</td>\n",
       "      <td id=\"T_08225_row5_col2\" class=\"data row5 col2\" >0.716</td>\n",
       "    </tr>\n",
       "    <tr>\n",
       "      <td id=\"T_08225_row6_col0\" class=\"data row6 col0\" >ffnn</td>\n",
       "      <td id=\"T_08225_row6_col1\" class=\"data row6 col1\" >Sustainable</td>\n",
       "      <td id=\"T_08225_row6_col2\" class=\"data row6 col2\" >0.943</td>\n",
       "    </tr>\n",
       "    <tr>\n",
       "      <td id=\"T_08225_row7_col0\" class=\"data row7 col0\" >xgboost</td>\n",
       "      <td id=\"T_08225_row7_col1\" class=\"data row7 col1\" >Sustainable</td>\n",
       "      <td id=\"T_08225_row7_col2\" class=\"data row7 col2\" >0.829</td>\n",
       "    </tr>\n",
       "    <tr>\n",
       "      <td id=\"T_08225_row8_col0\" class=\"data row8 col0\" >transformer</td>\n",
       "      <td id=\"T_08225_row8_col1\" class=\"data row8 col1\" >Sustainable</td>\n",
       "      <td id=\"T_08225_row8_col2\" class=\"data row8 col2\" >0.943</td>\n",
       "    </tr>\n",
       "    <tr>\n",
       "      <td id=\"T_08225_row9_col0\" class=\"data row9 col0\" >ffnn</td>\n",
       "      <td id=\"T_08225_row9_col1\" class=\"data row9 col1\" >Warning</td>\n",
       "      <td id=\"T_08225_row9_col2\" class=\"data row9 col2\" >0.737</td>\n",
       "    </tr>\n",
       "    <tr>\n",
       "      <td id=\"T_08225_row10_col0\" class=\"data row10 col0\" >xgboost</td>\n",
       "      <td id=\"T_08225_row10_col1\" class=\"data row10 col1\" >Warning</td>\n",
       "      <td id=\"T_08225_row10_col2\" class=\"data row10 col2\" >0.398</td>\n",
       "    </tr>\n",
       "    <tr>\n",
       "      <td id=\"T_08225_row11_col0\" class=\"data row11 col0\" >transformer</td>\n",
       "      <td id=\"T_08225_row11_col1\" class=\"data row11 col1\" >Warning</td>\n",
       "      <td id=\"T_08225_row11_col2\" class=\"data row11 col2\" >0.561</td>\n",
       "    </tr>\n",
       "  </tbody>\n",
       "</table>\n"
      ],
      "text/plain": [
       "<pandas.io.formats.style.Styler at 0x281493310>"
      ]
     },
     "execution_count": 11,
     "metadata": {},
     "output_type": "execute_result"
    }
   ],
   "source": [
    "import numpy as np\n",
    "from sklearn import metrics\n",
    "import seaborn as sns\n",
    "\n",
    "column_defining_groups = 'fsi_category'\n",
    "# lets group countries by Human Development index category.\n",
    "# could also group by continent, language, bins of under-5 mortality, etc.... any grouping you use or define\n",
    "chosen_metric = 'accuracy_score'\n",
    "# sklearn.metrics has many metrics appropriate for binary classification tasks.\n",
    "# nice explanations here: https://neptune.ai/blog/evaluation-metrics-binary-classification\n",
    "# could also chosose, e.g., 'recall_score' (which is sensitivity; but, 'recall_score' \n",
    "# will alternatively be specificity if `pos_label=False` is added as noted below), \n",
    "# 'auc' (threshold doesn't matter), 'f1_score', 'cohen_kappa_score', etc.\n",
    "metric_function = getattr(metrics, chosen_metric)\n",
    "\n",
    "chosen_metric_for_chosen_groups = list()\n",
    "chosen_metric_back_into_original_data = {'ffnn': pd.Series(index=df.index, dtype=np.float64), \n",
    "                                         'xgboost': pd.Series(index=df.index, dtype=np.float64), \n",
    "                                         'transformer': pd.Series(index=df.index, dtype=np.float64)}\n",
    "    \n",
    "for g, rows in df.groupby(column_defining_groups):\n",
    "    for model in ['ffnn', 'xgboost', 'transformer']:        \n",
    "        chosen_metric_value = metric_function(rows[f\"y_true_{model}\"], rows[f\"y_pred_{model}\"])\n",
    "        # Use the commented version below when using 'recall_score' to make it \"specificity\" \n",
    "        # rather than sensitivity which is what 'recall_score' gives if `pos_label=False` isn't used\n",
    "        #chosen_metric_value = metric_function(rows[f\"y_true_{model}\"], \n",
    "        #                                      rows[f\"y_pred_{model}\"], pos_label=False) # specificity \n",
    "        \n",
    "        chosen_metric_back_into_original_data[model][rows.index] = chosen_metric_value\n",
    "        chosen_metric_for_chosen_groups.append((model, g, chosen_metric_value))\n",
    "\n",
    "cm_bigger_better = sns.light_palette(\"green\", as_cmap=True)\n",
    "# https://pandas.pydata.org/pandas-docs/stable/user_guide/style.html#Styler-Object-and-Customising-the-Display\n",
    "styler = ( pd.DataFrame(chosen_metric_for_chosen_groups, \n",
    "                        columns=('model', column_defining_groups, chosen_metric))\n",
    "            .sort_values(column_defining_groups).style\n",
    "            .background_gradient(cmap=cm_bigger_better)\n",
    "            .format(precision=3).hide(axis=\"index\"))\n",
    "styler"
   ]
  },
  {
   "cell_type": "code",
   "execution_count": 16,
   "metadata": {},
   "outputs": [
    {
     "data": {
      "application/vnd.plotly.v1+json": {
       "config": {
        "plotlyServerURL": "https://plot.ly"
       },
       "data": [
        {
         "alignmentgroup": "True",
         "bingroup": "x",
         "hovertemplate": "x=%{x}<br>count=%{y}<extra></extra>",
         "legendgroup": "",
         "marker": {
          "color": "#636efa",
          "pattern": {
           "shape": ""
          }
         },
         "name": "",
         "offsetgroup": "",
         "orientation": "v",
         "showlegend": false,
         "type": "histogram",
         "x": [
          0.7368421052631579,
          0.7368421052631579,
          0.7368421052631579,
          0.7368421052631579,
          0.7368421052631579,
          0.9428571428571428,
          0.9428571428571428,
          0.8977272727272727,
          0.8977272727272727,
          0.8977272727272727,
          0.7368421052631579,
          0.7368421052631579,
          0.7368421052631579,
          0.7368421052631579,
          0.7368421052631579,
          0.7368421052631579,
          0.7368421052631579,
          0.7368421052631579,
          0.7368421052631579,
          0.8977272727272727,
          0.8977272727272727,
          0.8977272727272727,
          0.8977272727272727,
          0.8977272727272727,
          0.8977272727272727,
          0.38571428571428573,
          0.38571428571428573,
          0.38571428571428573,
          0.7368421052631579,
          0.7368421052631579,
          0.7368421052631579,
          0.38571428571428573,
          0.38571428571428573,
          0.38571428571428573,
          0.38571428571428573,
          0.38571428571428573,
          0.38571428571428573,
          0.38571428571428573,
          0.38571428571428573,
          0.38571428571428573,
          0.7368421052631579,
          0.7368421052631579,
          0.7368421052631579,
          0.9428571428571428,
          0.9428571428571428,
          0.7368421052631579,
          0.7368421052631579,
          0.7368421052631579,
          0.7368421052631579,
          0.7368421052631579,
          0.7368421052631579,
          0.7368421052631579,
          0.7368421052631579,
          0.7368421052631579,
          0.8977272727272727,
          0.8977272727272727,
          0.7368421052631579,
          0.7368421052631579,
          0.7368421052631579,
          0.7368421052631579,
          0.7368421052631579,
          0.7368421052631579,
          0.7368421052631579,
          0.7368421052631579,
          0.7368421052631579,
          0.7368421052631579,
          0.7368421052631579,
          0.7368421052631579,
          0.8977272727272727,
          0.8977272727272727,
          0.7368421052631579,
          0.7368421052631579,
          0.7368421052631579,
          0.7368421052631579,
          0.7368421052631579,
          0.7368421052631579,
          0.7368421052631579,
          0.7368421052631579,
          0.7368421052631579,
          0.7368421052631579,
          0.7368421052631579,
          0.7368421052631579,
          0.8977272727272727,
          0.8977272727272727,
          0.8977272727272727,
          0.7368421052631579,
          0.7368421052631579,
          0.7368421052631579,
          0.8977272727272727,
          0.8977272727272727,
          0.9428571428571428,
          0.9428571428571428,
          0.9428571428571428,
          0.7368421052631579,
          0.7368421052631579,
          0.7368421052631579,
          0.7368421052631579,
          0.7368421052631579,
          0.7368421052631579,
          0.8977272727272727,
          0.8977272727272727,
          0.8977272727272727,
          0.38571428571428573,
          0.38571428571428573,
          0.38571428571428573,
          0.8977272727272727,
          0.8977272727272727,
          0.8977272727272727,
          0.7368421052631579,
          0.7368421052631579,
          0.7368421052631579,
          0.7368421052631579,
          0.7368421052631579,
          0.7368421052631579,
          0.38571428571428573,
          0.38571428571428573,
          0.38571428571428573,
          0.7368421052631579,
          0.7368421052631579,
          0.7368421052631579,
          0.7368421052631579,
          0.7368421052631579,
          0.38571428571428573,
          0.38571428571428573,
          0.38571428571428573,
          0.38571428571428573,
          0.38571428571428573,
          0.38571428571428573,
          0.38571428571428573,
          0.38571428571428573,
          0.38571428571428573,
          0.7368421052631579,
          0.7368421052631579,
          0.7368421052631579,
          0.7368421052631579,
          0.7368421052631579,
          0.7368421052631579,
          0.7368421052631579,
          0.38571428571428573,
          0.38571428571428573,
          0.38571428571428573,
          0.7368421052631579,
          0.7368421052631579,
          0.7368421052631579,
          0.38571428571428573,
          0.38571428571428573,
          0.38571428571428573,
          0.7368421052631579,
          0.7368421052631579,
          0.7368421052631579,
          0.7368421052631579,
          0.7368421052631579,
          0.7368421052631579,
          0.7368421052631579,
          0.7368421052631579,
          0.38571428571428573,
          0.38571428571428573,
          0.38571428571428573,
          0.7368421052631579,
          0.7368421052631579,
          0.7368421052631579,
          0.38571428571428573,
          0.38571428571428573,
          0.8977272727272727,
          0.8977272727272727,
          0.8977272727272727,
          0.38571428571428573,
          0.38571428571428573,
          0.38571428571428573,
          0.7368421052631579,
          0.7368421052631579,
          0.7368421052631579,
          0.7368421052631579,
          0.7368421052631579,
          0.7368421052631579,
          0.7368421052631579,
          0.7368421052631579,
          0.7368421052631579,
          0.7368421052631579,
          0.7368421052631579,
          0.8977272727272727,
          0.8977272727272727,
          0.8977272727272727,
          0.8977272727272727,
          0.38571428571428573,
          0.38571428571428573,
          0.38571428571428573,
          0.8977272727272727,
          0.8977272727272727,
          0.7368421052631579,
          0.7368421052631579,
          0.7368421052631579,
          0.7368421052631579,
          0.7368421052631579,
          0.38571428571428573,
          0.38571428571428573,
          0.38571428571428573,
          0.8977272727272727,
          0.8977272727272727,
          0.8977272727272727,
          0.8977272727272727,
          0.7368421052631579,
          0.7368421052631579,
          0.7368421052631579,
          0.7368421052631579,
          0.7368421052631579,
          0.7368421052631579,
          0.7368421052631579,
          0.7368421052631579,
          0.7368421052631579,
          0.7368421052631579,
          0.7368421052631579,
          0.7368421052631579,
          0.7368421052631579,
          0.7368421052631579,
          0.38571428571428573,
          0.38571428571428573,
          0.38571428571428573,
          0.7368421052631579,
          0.7368421052631579,
          0.7368421052631579,
          0.7368421052631579,
          0.7368421052631579,
          0.7368421052631579,
          0.7368421052631579,
          0.38571428571428573,
          0.38571428571428573,
          0.38571428571428573,
          0.7368421052631579,
          0.7368421052631579,
          0.7368421052631579,
          0.9428571428571428,
          0.9428571428571428,
          0.7368421052631579,
          0.7368421052631579,
          0.7368421052631579,
          0.38571428571428573,
          0.38571428571428573,
          0.38571428571428573,
          0.8977272727272727,
          0.8977272727272727,
          0.9428571428571428,
          0.9428571428571428,
          0.8977272727272727,
          0.8977272727272727,
          0.8977272727272727,
          0.7368421052631579,
          0.7368421052631579,
          0.7368421052631579,
          0.8977272727272727,
          0.8977272727272727,
          0.8977272727272727,
          0.8977272727272727,
          0.8977272727272727,
          0.8977272727272727,
          0.8977272727272727,
          0.8977272727272727,
          0.9428571428571428,
          0.9428571428571428,
          0.9428571428571428,
          0.8977272727272727,
          0.8977272727272727,
          0.8977272727272727,
          0.8977272727272727,
          0.8977272727272727,
          0.8977272727272727,
          0.8977272727272727,
          0.8977272727272727,
          0.8977272727272727,
          0.9428571428571428,
          0.9428571428571428,
          0.9428571428571428,
          0.9428571428571428,
          0.8977272727272727,
          0.8977272727272727,
          0.9428571428571428,
          0.9428571428571428,
          0.9428571428571428,
          0.9428571428571428,
          0.8977272727272727,
          0.8977272727272727,
          0.8977272727272727,
          0.9428571428571428,
          0.9428571428571428,
          0.9428571428571428,
          0.9428571428571428,
          0.9428571428571428,
          0.38571428571428573,
          0.38571428571428573,
          0.38571428571428573,
          0.7368421052631579,
          0.7368421052631579,
          0.7368421052631579,
          0.8977272727272727,
          0.8977272727272727,
          0.8977272727272727,
          0.9428571428571428,
          0.9428571428571428,
          0.8977272727272727,
          0.8977272727272727,
          0.9428571428571428,
          0.9428571428571428,
          0.7368421052631579,
          0.7368421052631579,
          0.7368421052631579,
          0.7368421052631579,
          0.7368421052631579,
          0.7368421052631579,
          0.7368421052631579,
          0.7368421052631579,
          0.7368421052631579,
          0.8977272727272727,
          0.8977272727272727,
          0.8977272727272727,
          0.8977272727272727,
          0.9428571428571428,
          0.9428571428571428,
          0.9428571428571428,
          0.9428571428571428,
          0.8977272727272727,
          0.8977272727272727,
          0.8977272727272727,
          0.8977272727272727,
          0.8977272727272727,
          0.38571428571428573,
          0.38571428571428573,
          0.8977272727272727,
          0.8977272727272727,
          0.7368421052631579,
          0.7368421052631579,
          0.7368421052631579,
          0.7368421052631579,
          0.7368421052631579,
          0.7368421052631579,
          0.8977272727272727,
          0.8977272727272727,
          0.8977272727272727,
          0.7368421052631579,
          0.7368421052631579,
          0.7368421052631579,
          0.38571428571428573,
          0.38571428571428573,
          0.38571428571428573,
          0.38571428571428573,
          0.38571428571428573,
          0.38571428571428573,
          0.7368421052631579,
          0.38571428571428573,
          0.38571428571428573,
          0.38571428571428573,
          0.7368421052631579,
          0.7368421052631579,
          0.7368421052631579,
          0.7368421052631579,
          0.7368421052631579,
          0.7368421052631579,
          0.7368421052631579,
          0.7368421052631579,
          0.7368421052631579,
          0.8977272727272727,
          0.8977272727272727,
          0.8977272727272727,
          0.8977272727272727,
          0.8977272727272727
         ],
         "xaxis": "x",
         "yaxis": "y"
        }
       ],
       "layout": {
        "barmode": "relative",
        "legend": {
         "tracegroupgap": 0
        },
        "template": {
         "data": {
          "bar": [
           {
            "error_x": {
             "color": "#2a3f5f"
            },
            "error_y": {
             "color": "#2a3f5f"
            },
            "marker": {
             "line": {
              "color": "#E5ECF6",
              "width": 0.5
             },
             "pattern": {
              "fillmode": "overlay",
              "size": 10,
              "solidity": 0.2
             }
            },
            "type": "bar"
           }
          ],
          "barpolar": [
           {
            "marker": {
             "line": {
              "color": "#E5ECF6",
              "width": 0.5
             },
             "pattern": {
              "fillmode": "overlay",
              "size": 10,
              "solidity": 0.2
             }
            },
            "type": "barpolar"
           }
          ],
          "carpet": [
           {
            "aaxis": {
             "endlinecolor": "#2a3f5f",
             "gridcolor": "white",
             "linecolor": "white",
             "minorgridcolor": "white",
             "startlinecolor": "#2a3f5f"
            },
            "baxis": {
             "endlinecolor": "#2a3f5f",
             "gridcolor": "white",
             "linecolor": "white",
             "minorgridcolor": "white",
             "startlinecolor": "#2a3f5f"
            },
            "type": "carpet"
           }
          ],
          "choropleth": [
           {
            "colorbar": {
             "outlinewidth": 0,
             "ticks": ""
            },
            "type": "choropleth"
           }
          ],
          "contour": [
           {
            "colorbar": {
             "outlinewidth": 0,
             "ticks": ""
            },
            "colorscale": [
             [
              0,
              "#0d0887"
             ],
             [
              0.1111111111111111,
              "#46039f"
             ],
             [
              0.2222222222222222,
              "#7201a8"
             ],
             [
              0.3333333333333333,
              "#9c179e"
             ],
             [
              0.4444444444444444,
              "#bd3786"
             ],
             [
              0.5555555555555556,
              "#d8576b"
             ],
             [
              0.6666666666666666,
              "#ed7953"
             ],
             [
              0.7777777777777778,
              "#fb9f3a"
             ],
             [
              0.8888888888888888,
              "#fdca26"
             ],
             [
              1,
              "#f0f921"
             ]
            ],
            "type": "contour"
           }
          ],
          "contourcarpet": [
           {
            "colorbar": {
             "outlinewidth": 0,
             "ticks": ""
            },
            "type": "contourcarpet"
           }
          ],
          "heatmap": [
           {
            "colorbar": {
             "outlinewidth": 0,
             "ticks": ""
            },
            "colorscale": [
             [
              0,
              "#0d0887"
             ],
             [
              0.1111111111111111,
              "#46039f"
             ],
             [
              0.2222222222222222,
              "#7201a8"
             ],
             [
              0.3333333333333333,
              "#9c179e"
             ],
             [
              0.4444444444444444,
              "#bd3786"
             ],
             [
              0.5555555555555556,
              "#d8576b"
             ],
             [
              0.6666666666666666,
              "#ed7953"
             ],
             [
              0.7777777777777778,
              "#fb9f3a"
             ],
             [
              0.8888888888888888,
              "#fdca26"
             ],
             [
              1,
              "#f0f921"
             ]
            ],
            "type": "heatmap"
           }
          ],
          "heatmapgl": [
           {
            "colorbar": {
             "outlinewidth": 0,
             "ticks": ""
            },
            "colorscale": [
             [
              0,
              "#0d0887"
             ],
             [
              0.1111111111111111,
              "#46039f"
             ],
             [
              0.2222222222222222,
              "#7201a8"
             ],
             [
              0.3333333333333333,
              "#9c179e"
             ],
             [
              0.4444444444444444,
              "#bd3786"
             ],
             [
              0.5555555555555556,
              "#d8576b"
             ],
             [
              0.6666666666666666,
              "#ed7953"
             ],
             [
              0.7777777777777778,
              "#fb9f3a"
             ],
             [
              0.8888888888888888,
              "#fdca26"
             ],
             [
              1,
              "#f0f921"
             ]
            ],
            "type": "heatmapgl"
           }
          ],
          "histogram": [
           {
            "marker": {
             "pattern": {
              "fillmode": "overlay",
              "size": 10,
              "solidity": 0.2
             }
            },
            "type": "histogram"
           }
          ],
          "histogram2d": [
           {
            "colorbar": {
             "outlinewidth": 0,
             "ticks": ""
            },
            "colorscale": [
             [
              0,
              "#0d0887"
             ],
             [
              0.1111111111111111,
              "#46039f"
             ],
             [
              0.2222222222222222,
              "#7201a8"
             ],
             [
              0.3333333333333333,
              "#9c179e"
             ],
             [
              0.4444444444444444,
              "#bd3786"
             ],
             [
              0.5555555555555556,
              "#d8576b"
             ],
             [
              0.6666666666666666,
              "#ed7953"
             ],
             [
              0.7777777777777778,
              "#fb9f3a"
             ],
             [
              0.8888888888888888,
              "#fdca26"
             ],
             [
              1,
              "#f0f921"
             ]
            ],
            "type": "histogram2d"
           }
          ],
          "histogram2dcontour": [
           {
            "colorbar": {
             "outlinewidth": 0,
             "ticks": ""
            },
            "colorscale": [
             [
              0,
              "#0d0887"
             ],
             [
              0.1111111111111111,
              "#46039f"
             ],
             [
              0.2222222222222222,
              "#7201a8"
             ],
             [
              0.3333333333333333,
              "#9c179e"
             ],
             [
              0.4444444444444444,
              "#bd3786"
             ],
             [
              0.5555555555555556,
              "#d8576b"
             ],
             [
              0.6666666666666666,
              "#ed7953"
             ],
             [
              0.7777777777777778,
              "#fb9f3a"
             ],
             [
              0.8888888888888888,
              "#fdca26"
             ],
             [
              1,
              "#f0f921"
             ]
            ],
            "type": "histogram2dcontour"
           }
          ],
          "mesh3d": [
           {
            "colorbar": {
             "outlinewidth": 0,
             "ticks": ""
            },
            "type": "mesh3d"
           }
          ],
          "parcoords": [
           {
            "line": {
             "colorbar": {
              "outlinewidth": 0,
              "ticks": ""
             }
            },
            "type": "parcoords"
           }
          ],
          "pie": [
           {
            "automargin": true,
            "type": "pie"
           }
          ],
          "scatter": [
           {
            "fillpattern": {
             "fillmode": "overlay",
             "size": 10,
             "solidity": 0.2
            },
            "type": "scatter"
           }
          ],
          "scatter3d": [
           {
            "line": {
             "colorbar": {
              "outlinewidth": 0,
              "ticks": ""
             }
            },
            "marker": {
             "colorbar": {
              "outlinewidth": 0,
              "ticks": ""
             }
            },
            "type": "scatter3d"
           }
          ],
          "scattercarpet": [
           {
            "marker": {
             "colorbar": {
              "outlinewidth": 0,
              "ticks": ""
             }
            },
            "type": "scattercarpet"
           }
          ],
          "scattergeo": [
           {
            "marker": {
             "colorbar": {
              "outlinewidth": 0,
              "ticks": ""
             }
            },
            "type": "scattergeo"
           }
          ],
          "scattergl": [
           {
            "marker": {
             "colorbar": {
              "outlinewidth": 0,
              "ticks": ""
             }
            },
            "type": "scattergl"
           }
          ],
          "scattermapbox": [
           {
            "marker": {
             "colorbar": {
              "outlinewidth": 0,
              "ticks": ""
             }
            },
            "type": "scattermapbox"
           }
          ],
          "scatterpolar": [
           {
            "marker": {
             "colorbar": {
              "outlinewidth": 0,
              "ticks": ""
             }
            },
            "type": "scatterpolar"
           }
          ],
          "scatterpolargl": [
           {
            "marker": {
             "colorbar": {
              "outlinewidth": 0,
              "ticks": ""
             }
            },
            "type": "scatterpolargl"
           }
          ],
          "scatterternary": [
           {
            "marker": {
             "colorbar": {
              "outlinewidth": 0,
              "ticks": ""
             }
            },
            "type": "scatterternary"
           }
          ],
          "surface": [
           {
            "colorbar": {
             "outlinewidth": 0,
             "ticks": ""
            },
            "colorscale": [
             [
              0,
              "#0d0887"
             ],
             [
              0.1111111111111111,
              "#46039f"
             ],
             [
              0.2222222222222222,
              "#7201a8"
             ],
             [
              0.3333333333333333,
              "#9c179e"
             ],
             [
              0.4444444444444444,
              "#bd3786"
             ],
             [
              0.5555555555555556,
              "#d8576b"
             ],
             [
              0.6666666666666666,
              "#ed7953"
             ],
             [
              0.7777777777777778,
              "#fb9f3a"
             ],
             [
              0.8888888888888888,
              "#fdca26"
             ],
             [
              1,
              "#f0f921"
             ]
            ],
            "type": "surface"
           }
          ],
          "table": [
           {
            "cells": {
             "fill": {
              "color": "#EBF0F8"
             },
             "line": {
              "color": "white"
             }
            },
            "header": {
             "fill": {
              "color": "#C8D4E3"
             },
             "line": {
              "color": "white"
             }
            },
            "type": "table"
           }
          ]
         },
         "layout": {
          "annotationdefaults": {
           "arrowcolor": "#2a3f5f",
           "arrowhead": 0,
           "arrowwidth": 1
          },
          "autotypenumbers": "strict",
          "coloraxis": {
           "colorbar": {
            "outlinewidth": 0,
            "ticks": ""
           }
          },
          "colorscale": {
           "diverging": [
            [
             0,
             "#8e0152"
            ],
            [
             0.1,
             "#c51b7d"
            ],
            [
             0.2,
             "#de77ae"
            ],
            [
             0.3,
             "#f1b6da"
            ],
            [
             0.4,
             "#fde0ef"
            ],
            [
             0.5,
             "#f7f7f7"
            ],
            [
             0.6,
             "#e6f5d0"
            ],
            [
             0.7,
             "#b8e186"
            ],
            [
             0.8,
             "#7fbc41"
            ],
            [
             0.9,
             "#4d9221"
            ],
            [
             1,
             "#276419"
            ]
           ],
           "sequential": [
            [
             0,
             "#0d0887"
            ],
            [
             0.1111111111111111,
             "#46039f"
            ],
            [
             0.2222222222222222,
             "#7201a8"
            ],
            [
             0.3333333333333333,
             "#9c179e"
            ],
            [
             0.4444444444444444,
             "#bd3786"
            ],
            [
             0.5555555555555556,
             "#d8576b"
            ],
            [
             0.6666666666666666,
             "#ed7953"
            ],
            [
             0.7777777777777778,
             "#fb9f3a"
            ],
            [
             0.8888888888888888,
             "#fdca26"
            ],
            [
             1,
             "#f0f921"
            ]
           ],
           "sequentialminus": [
            [
             0,
             "#0d0887"
            ],
            [
             0.1111111111111111,
             "#46039f"
            ],
            [
             0.2222222222222222,
             "#7201a8"
            ],
            [
             0.3333333333333333,
             "#9c179e"
            ],
            [
             0.4444444444444444,
             "#bd3786"
            ],
            [
             0.5555555555555556,
             "#d8576b"
            ],
            [
             0.6666666666666666,
             "#ed7953"
            ],
            [
             0.7777777777777778,
             "#fb9f3a"
            ],
            [
             0.8888888888888888,
             "#fdca26"
            ],
            [
             1,
             "#f0f921"
            ]
           ]
          },
          "colorway": [
           "#636efa",
           "#EF553B",
           "#00cc96",
           "#ab63fa",
           "#FFA15A",
           "#19d3f3",
           "#FF6692",
           "#B6E880",
           "#FF97FF",
           "#FECB52"
          ],
          "font": {
           "color": "#2a3f5f"
          },
          "geo": {
           "bgcolor": "white",
           "lakecolor": "white",
           "landcolor": "#E5ECF6",
           "showlakes": true,
           "showland": true,
           "subunitcolor": "white"
          },
          "hoverlabel": {
           "align": "left"
          },
          "hovermode": "closest",
          "mapbox": {
           "style": "light"
          },
          "paper_bgcolor": "white",
          "plot_bgcolor": "#E5ECF6",
          "polar": {
           "angularaxis": {
            "gridcolor": "white",
            "linecolor": "white",
            "ticks": ""
           },
           "bgcolor": "#E5ECF6",
           "radialaxis": {
            "gridcolor": "white",
            "linecolor": "white",
            "ticks": ""
           }
          },
          "scene": {
           "xaxis": {
            "backgroundcolor": "#E5ECF6",
            "gridcolor": "white",
            "gridwidth": 2,
            "linecolor": "white",
            "showbackground": true,
            "ticks": "",
            "zerolinecolor": "white"
           },
           "yaxis": {
            "backgroundcolor": "#E5ECF6",
            "gridcolor": "white",
            "gridwidth": 2,
            "linecolor": "white",
            "showbackground": true,
            "ticks": "",
            "zerolinecolor": "white"
           },
           "zaxis": {
            "backgroundcolor": "#E5ECF6",
            "gridcolor": "white",
            "gridwidth": 2,
            "linecolor": "white",
            "showbackground": true,
            "ticks": "",
            "zerolinecolor": "white"
           }
          },
          "shapedefaults": {
           "line": {
            "color": "#2a3f5f"
           }
          },
          "ternary": {
           "aaxis": {
            "gridcolor": "white",
            "linecolor": "white",
            "ticks": ""
           },
           "baxis": {
            "gridcolor": "white",
            "linecolor": "white",
            "ticks": ""
           },
           "bgcolor": "#E5ECF6",
           "caxis": {
            "gridcolor": "white",
            "linecolor": "white",
            "ticks": ""
           }
          },
          "title": {
           "x": 0.05
          },
          "xaxis": {
           "automargin": true,
           "gridcolor": "white",
           "linecolor": "white",
           "ticks": "",
           "title": {
            "standoff": 15
           },
           "zerolinecolor": "white",
           "zerolinewidth": 2
          },
          "yaxis": {
           "automargin": true,
           "gridcolor": "white",
           "linecolor": "white",
           "ticks": "",
           "title": {
            "standoff": 15
           },
           "zerolinecolor": "white",
           "zerolinewidth": 2
          }
         }
        },
        "title": {
         "text": "ffnn"
        },
        "xaxis": {
         "anchor": "y",
         "domain": [
          0,
          1
         ],
         "title": {
          "text": "x"
         }
        },
        "yaxis": {
         "anchor": "x",
         "domain": [
          0,
          1
         ],
         "title": {
          "text": "count"
         }
        }
       }
      }
     },
     "metadata": {},
     "output_type": "display_data"
    }
   ],
   "source": [
    "ffnn = chosen_metric_back_into_original_data['ffnn']\n",
    "xgboost = chosen_metric_back_into_original_data['xgboost']\n",
    "transformer = chosen_metric_back_into_original_data['transformer']\n",
    "\n",
    "# plot the distribution of the metric for each model\n",
    "import plotly.express as px\n",
    "fig = px.histogram(df, x=ffnn, title='FFNN')\n",
    "fig.show()"
   ]
  },
  {
   "cell_type": "code",
   "execution_count": null,
   "metadata": {},
   "outputs": [],
   "source": []
  }
 ],
 "metadata": {
  "kernelspec": {
   "display_name": "Python 3",
   "language": "python",
   "name": "python3"
  },
  "language_info": {
   "codemirror_mode": {
    "name": "ipython",
    "version": 3
   },
   "file_extension": ".py",
   "mimetype": "text/x-python",
   "name": "python",
   "nbconvert_exporter": "python",
   "pygments_lexer": "ipython3",
   "version": "3.9.6"
  }
 },
 "nbformat": 4,
 "nbformat_minor": 2
}
